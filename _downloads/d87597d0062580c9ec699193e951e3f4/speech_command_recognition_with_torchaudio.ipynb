{
  "nbformat": 4,
  "nbformat_minor": 0,
  "metadata": {
    "kernelspec": {
      "display_name": "Python 3",
      "language": "python",
      "name": "python3"
    },
    "language_info": {
      "codemirror_mode": {
        "name": "ipython",
        "version": 3
      },
      "file_extension": ".py",
      "mimetype": "text/x-python",
      "name": "python",
      "nbconvert_exporter": "python",
      "pygments_lexer": "ipython3",
      "version": "3.6.12"
    },
    "colab": {
      "name": "speech_command_recognition_with_torchaudio.ipynb",
      "provenance": [],
      "include_colab_link": true
    },
    "accelerator": "GPU",
    "widgets": {
      "application/vnd.jupyter.widget-state+json": {
        "9ec5b80accaa4dec9a63be64bb44fe2c": {
          "model_module": "@jupyter-widgets/controls",
          "model_name": "HBoxModel",
          "state": {
            "_view_name": "HBoxView",
            "_dom_classes": [],
            "_model_name": "HBoxModel",
            "_view_module": "@jupyter-widgets/controls",
            "_model_module_version": "1.5.0",
            "_view_count": null,
            "_view_module_version": "1.5.0",
            "box_style": "",
            "layout": "IPY_MODEL_9f77ea424dee46ff94e3e7e3dfa752db",
            "_model_module": "@jupyter-widgets/controls",
            "children": [
              "IPY_MODEL_88b185852b1c495bbdc500d45a6a52c7",
              "IPY_MODEL_edc5d88098cf4d258884b1f0a5ed9a3c"
            ]
          }
        },
        "9f77ea424dee46ff94e3e7e3dfa752db": {
          "model_module": "@jupyter-widgets/base",
          "model_name": "LayoutModel",
          "state": {
            "_view_name": "LayoutView",
            "grid_template_rows": null,
            "right": null,
            "justify_content": null,
            "_view_module": "@jupyter-widgets/base",
            "overflow": null,
            "_model_module_version": "1.2.0",
            "_view_count": null,
            "flex_flow": null,
            "width": null,
            "min_width": null,
            "border": null,
            "align_items": null,
            "bottom": null,
            "_model_module": "@jupyter-widgets/base",
            "top": null,
            "grid_column": null,
            "overflow_y": null,
            "overflow_x": null,
            "grid_auto_flow": null,
            "grid_area": null,
            "grid_template_columns": null,
            "flex": null,
            "_model_name": "LayoutModel",
            "justify_items": null,
            "grid_row": null,
            "max_height": null,
            "align_content": null,
            "visibility": null,
            "align_self": null,
            "height": null,
            "min_height": null,
            "padding": null,
            "grid_auto_rows": null,
            "grid_gap": null,
            "max_width": null,
            "order": null,
            "_view_module_version": "1.2.0",
            "grid_template_areas": null,
            "object_position": null,
            "object_fit": null,
            "grid_auto_columns": null,
            "margin": null,
            "display": null,
            "left": null
          }
        },
        "88b185852b1c495bbdc500d45a6a52c7": {
          "model_module": "@jupyter-widgets/controls",
          "model_name": "FloatProgressModel",
          "state": {
            "_view_name": "ProgressView",
            "style": "IPY_MODEL_d11f7dbde7de4cfb99b1b031786c49bf",
            "_dom_classes": [],
            "description": "100%",
            "_model_name": "FloatProgressModel",
            "bar_style": "success",
            "max": 2428923189,
            "_view_module": "@jupyter-widgets/controls",
            "_model_module_version": "1.5.0",
            "value": 2428923189,
            "_view_count": null,
            "_view_module_version": "1.5.0",
            "orientation": "horizontal",
            "min": 0,
            "description_tooltip": null,
            "_model_module": "@jupyter-widgets/controls",
            "layout": "IPY_MODEL_843a4c8d66364dd8bac2bc70692efd4b"
          }
        },
        "edc5d88098cf4d258884b1f0a5ed9a3c": {
          "model_module": "@jupyter-widgets/controls",
          "model_name": "HTMLModel",
          "state": {
            "_view_name": "HTMLView",
            "style": "IPY_MODEL_71d97eac84e7493587df65b53bca1b92",
            "_dom_classes": [],
            "description": "",
            "_model_name": "HTMLModel",
            "placeholder": "​",
            "_view_module": "@jupyter-widgets/controls",
            "_model_module_version": "1.5.0",
            "value": " 2.26G/2.26G [00:36&lt;00:00, 66.9MB/s]",
            "_view_count": null,
            "_view_module_version": "1.5.0",
            "description_tooltip": null,
            "_model_module": "@jupyter-widgets/controls",
            "layout": "IPY_MODEL_c436cadcb3344f6d80a437aa860c38a9"
          }
        },
        "d11f7dbde7de4cfb99b1b031786c49bf": {
          "model_module": "@jupyter-widgets/controls",
          "model_name": "ProgressStyleModel",
          "state": {
            "_view_name": "StyleView",
            "_model_name": "ProgressStyleModel",
            "description_width": "initial",
            "_view_module": "@jupyter-widgets/base",
            "_model_module_version": "1.5.0",
            "_view_count": null,
            "_view_module_version": "1.2.0",
            "bar_color": null,
            "_model_module": "@jupyter-widgets/controls"
          }
        },
        "843a4c8d66364dd8bac2bc70692efd4b": {
          "model_module": "@jupyter-widgets/base",
          "model_name": "LayoutModel",
          "state": {
            "_view_name": "LayoutView",
            "grid_template_rows": null,
            "right": null,
            "justify_content": null,
            "_view_module": "@jupyter-widgets/base",
            "overflow": null,
            "_model_module_version": "1.2.0",
            "_view_count": null,
            "flex_flow": null,
            "width": null,
            "min_width": null,
            "border": null,
            "align_items": null,
            "bottom": null,
            "_model_module": "@jupyter-widgets/base",
            "top": null,
            "grid_column": null,
            "overflow_y": null,
            "overflow_x": null,
            "grid_auto_flow": null,
            "grid_area": null,
            "grid_template_columns": null,
            "flex": null,
            "_model_name": "LayoutModel",
            "justify_items": null,
            "grid_row": null,
            "max_height": null,
            "align_content": null,
            "visibility": null,
            "align_self": null,
            "height": null,
            "min_height": null,
            "padding": null,
            "grid_auto_rows": null,
            "grid_gap": null,
            "max_width": null,
            "order": null,
            "_view_module_version": "1.2.0",
            "grid_template_areas": null,
            "object_position": null,
            "object_fit": null,
            "grid_auto_columns": null,
            "margin": null,
            "display": null,
            "left": null
          }
        },
        "71d97eac84e7493587df65b53bca1b92": {
          "model_module": "@jupyter-widgets/controls",
          "model_name": "DescriptionStyleModel",
          "state": {
            "_view_name": "StyleView",
            "_model_name": "DescriptionStyleModel",
            "description_width": "",
            "_view_module": "@jupyter-widgets/base",
            "_model_module_version": "1.5.0",
            "_view_count": null,
            "_view_module_version": "1.2.0",
            "_model_module": "@jupyter-widgets/controls"
          }
        },
        "c436cadcb3344f6d80a437aa860c38a9": {
          "model_module": "@jupyter-widgets/base",
          "model_name": "LayoutModel",
          "state": {
            "_view_name": "LayoutView",
            "grid_template_rows": null,
            "right": null,
            "justify_content": null,
            "_view_module": "@jupyter-widgets/base",
            "overflow": null,
            "_model_module_version": "1.2.0",
            "_view_count": null,
            "flex_flow": null,
            "width": null,
            "min_width": null,
            "border": null,
            "align_items": null,
            "bottom": null,
            "_model_module": "@jupyter-widgets/base",
            "top": null,
            "grid_column": null,
            "overflow_y": null,
            "overflow_x": null,
            "grid_auto_flow": null,
            "grid_area": null,
            "grid_template_columns": null,
            "flex": null,
            "_model_name": "LayoutModel",
            "justify_items": null,
            "grid_row": null,
            "max_height": null,
            "align_content": null,
            "visibility": null,
            "align_self": null,
            "height": null,
            "min_height": null,
            "padding": null,
            "grid_auto_rows": null,
            "grid_gap": null,
            "max_width": null,
            "order": null,
            "_view_module_version": "1.2.0",
            "grid_template_areas": null,
            "object_position": null,
            "object_fit": null,
            "grid_auto_columns": null,
            "margin": null,
            "display": null,
            "left": null
          }
        },
        "f022132bc1494feebcdbd09da5ddf991": {
          "model_module": "@jupyter-widgets/controls",
          "model_name": "HBoxModel",
          "state": {
            "_view_name": "HBoxView",
            "_dom_classes": [],
            "_model_name": "HBoxModel",
            "_view_module": "@jupyter-widgets/controls",
            "_model_module_version": "1.5.0",
            "_view_count": null,
            "_view_module_version": "1.5.0",
            "box_style": "",
            "layout": "IPY_MODEL_011cd04e4c824bc0a34a4a7a2d8bd65b",
            "_model_module": "@jupyter-widgets/controls",
            "children": [
              "IPY_MODEL_3630f031c41a494299f3beba9ffde2dc",
              "IPY_MODEL_27150e4bdabf4cc8b50f37e428badcbf"
            ]
          }
        },
        "011cd04e4c824bc0a34a4a7a2d8bd65b": {
          "model_module": "@jupyter-widgets/base",
          "model_name": "LayoutModel",
          "state": {
            "_view_name": "LayoutView",
            "grid_template_rows": null,
            "right": null,
            "justify_content": null,
            "_view_module": "@jupyter-widgets/base",
            "overflow": null,
            "_model_module_version": "1.2.0",
            "_view_count": null,
            "flex_flow": null,
            "width": null,
            "min_width": null,
            "border": null,
            "align_items": null,
            "bottom": null,
            "_model_module": "@jupyter-widgets/base",
            "top": null,
            "grid_column": null,
            "overflow_y": null,
            "overflow_x": null,
            "grid_auto_flow": null,
            "grid_area": null,
            "grid_template_columns": null,
            "flex": null,
            "_model_name": "LayoutModel",
            "justify_items": null,
            "grid_row": null,
            "max_height": null,
            "align_content": null,
            "visibility": null,
            "align_self": null,
            "height": null,
            "min_height": null,
            "padding": null,
            "grid_auto_rows": null,
            "grid_gap": null,
            "max_width": null,
            "order": null,
            "_view_module_version": "1.2.0",
            "grid_template_areas": null,
            "object_position": null,
            "object_fit": null,
            "grid_auto_columns": null,
            "margin": null,
            "display": null,
            "left": null
          }
        },
        "3630f031c41a494299f3beba9ffde2dc": {
          "model_module": "@jupyter-widgets/controls",
          "model_name": "FloatProgressModel",
          "state": {
            "_view_name": "ProgressView",
            "style": "IPY_MODEL_762f04808f0f486faa04c5f104777a0a",
            "_dom_classes": [],
            "description": "100%",
            "_model_name": "FloatProgressModel",
            "bar_style": "danger",
            "max": 2,
            "_view_module": "@jupyter-widgets/controls",
            "_model_module_version": "1.5.0",
            "value": 1.9999999999999793,
            "_view_count": null,
            "_view_module_version": "1.5.0",
            "orientation": "horizontal",
            "min": 0,
            "description_tooltip": null,
            "_model_module": "@jupyter-widgets/controls",
            "layout": "IPY_MODEL_a5be4a7e3ba84f60bf1e67ef75f00ae1"
          }
        },
        "27150e4bdabf4cc8b50f37e428badcbf": {
          "model_module": "@jupyter-widgets/controls",
          "model_name": "HTMLModel",
          "state": {
            "_view_name": "HTMLView",
            "style": "IPY_MODEL_da00395262334ccb87a2a289f7763ee5",
            "_dom_classes": [],
            "description": "",
            "_model_name": "HTMLModel",
            "placeholder": "​",
            "_view_module": "@jupyter-widgets/controls",
            "_model_module_version": "1.5.0",
            "value": " 1.9999999999999793/2 [01:27&lt;00:00, 43.73s/it]",
            "_view_count": null,
            "_view_module_version": "1.5.0",
            "description_tooltip": null,
            "_model_module": "@jupyter-widgets/controls",
            "layout": "IPY_MODEL_cc5d1b99045f485e8bc15db07c25b728"
          }
        },
        "762f04808f0f486faa04c5f104777a0a": {
          "model_module": "@jupyter-widgets/controls",
          "model_name": "ProgressStyleModel",
          "state": {
            "_view_name": "StyleView",
            "_model_name": "ProgressStyleModel",
            "description_width": "initial",
            "_view_module": "@jupyter-widgets/base",
            "_model_module_version": "1.5.0",
            "_view_count": null,
            "_view_module_version": "1.2.0",
            "bar_color": null,
            "_model_module": "@jupyter-widgets/controls"
          }
        },
        "a5be4a7e3ba84f60bf1e67ef75f00ae1": {
          "model_module": "@jupyter-widgets/base",
          "model_name": "LayoutModel",
          "state": {
            "_view_name": "LayoutView",
            "grid_template_rows": null,
            "right": null,
            "justify_content": null,
            "_view_module": "@jupyter-widgets/base",
            "overflow": null,
            "_model_module_version": "1.2.0",
            "_view_count": null,
            "flex_flow": null,
            "width": null,
            "min_width": null,
            "border": null,
            "align_items": null,
            "bottom": null,
            "_model_module": "@jupyter-widgets/base",
            "top": null,
            "grid_column": null,
            "overflow_y": null,
            "overflow_x": null,
            "grid_auto_flow": null,
            "grid_area": null,
            "grid_template_columns": null,
            "flex": null,
            "_model_name": "LayoutModel",
            "justify_items": null,
            "grid_row": null,
            "max_height": null,
            "align_content": null,
            "visibility": null,
            "align_self": null,
            "height": null,
            "min_height": null,
            "padding": null,
            "grid_auto_rows": null,
            "grid_gap": null,
            "max_width": null,
            "order": null,
            "_view_module_version": "1.2.0",
            "grid_template_areas": null,
            "object_position": null,
            "object_fit": null,
            "grid_auto_columns": null,
            "margin": null,
            "display": null,
            "left": null
          }
        },
        "da00395262334ccb87a2a289f7763ee5": {
          "model_module": "@jupyter-widgets/controls",
          "model_name": "DescriptionStyleModel",
          "state": {
            "_view_name": "StyleView",
            "_model_name": "DescriptionStyleModel",
            "description_width": "",
            "_view_module": "@jupyter-widgets/base",
            "_model_module_version": "1.5.0",
            "_view_count": null,
            "_view_module_version": "1.2.0",
            "_model_module": "@jupyter-widgets/controls"
          }
        },
        "cc5d1b99045f485e8bc15db07c25b728": {
          "model_module": "@jupyter-widgets/base",
          "model_name": "LayoutModel",
          "state": {
            "_view_name": "LayoutView",
            "grid_template_rows": null,
            "right": null,
            "justify_content": null,
            "_view_module": "@jupyter-widgets/base",
            "overflow": null,
            "_model_module_version": "1.2.0",
            "_view_count": null,
            "flex_flow": null,
            "width": null,
            "min_width": null,
            "border": null,
            "align_items": null,
            "bottom": null,
            "_model_module": "@jupyter-widgets/base",
            "top": null,
            "grid_column": null,
            "overflow_y": null,
            "overflow_x": null,
            "grid_auto_flow": null,
            "grid_area": null,
            "grid_template_columns": null,
            "flex": null,
            "_model_name": "LayoutModel",
            "justify_items": null,
            "grid_row": null,
            "max_height": null,
            "align_content": null,
            "visibility": null,
            "align_self": null,
            "height": null,
            "min_height": null,
            "padding": null,
            "grid_auto_rows": null,
            "grid_gap": null,
            "max_width": null,
            "order": null,
            "_view_module_version": "1.2.0",
            "grid_template_areas": null,
            "object_position": null,
            "object_fit": null,
            "grid_auto_columns": null,
            "margin": null,
            "display": null,
            "left": null
          }
        }
      }
    }
  },
  "cells": [
    {
      "cell_type": "markdown",
      "metadata": {
        "id": "view-in-github",
        "colab_type": "text"
      },
      "source": [
        "<a href=\"https://colab.research.google.com/github/panbong/speech-recognition-by-Pytorch/blob/main/_downloads/d87597d0062580c9ec699193e951e3f4/speech_command_recognition_with_torchaudio.ipynb\" target=\"_parent\"><img src=\"https://colab.research.google.com/assets/colab-badge.svg\" alt=\"Open In Colab\"/></a>"
      ]
    },
    {
      "cell_type": "markdown",
      "metadata": {
        "id": "HAF4u78V9hsi"
      },
      "source": [
        "\n",
        "Speech Command Recognition with torchaudio\n",
        "******************************************\n",
        "\n",
        "This tutorial will show you how to correctly format an audio dataset and\n",
        "then train/test an audio classifier network on the dataset.\n",
        "\n",
        "Colab has GPU option available. In the menu tabs, select “Runtime” then\n",
        "“Change runtime type”. In the pop-up that follows, you can choose GPU.\n",
        "After the change, your runtime should automatically restart (which means\n",
        "information from executed cells disappear).\n",
        "\n",
        "First, let’s import the common torch packages such as\n",
        "`torchaudio <https://github.com/pytorch/audio>`__ that can be installed\n",
        "by following the instructions on the website.\n",
        "\n",
        "\n"
      ]
    },
    {
      "cell_type": "code",
      "metadata": {
        "id": "mf2r0jST9hsd"
      },
      "source": [
        "%matplotlib inline"
      ],
      "execution_count": 4,
      "outputs": []
    },
    {
      "cell_type": "code",
      "metadata": {
        "colab": {
          "base_uri": "https://localhost:8080/"
        },
        "id": "PX0l7z1p9hsl",
        "outputId": "b4dfd83c-cd35-4986-9750-dbfb51d95bc1"
      },
      "source": [
        "\n",
        "#Uncomment the following line to run in Google Colab\n",
        "\n",
        "# CPU:\n",
        "#!pip install torch==1.7.0+cpu torchvision==0.8.1+cpu torchaudio==0.7.0 -f https://download.pytorch.org/whl/torch_stable.html\n",
        "\n",
        "# GPU:\n",
        "!pip install torch==1.7.0+cu101 torchvision==0.8.1+cu101 torchaudio==0.7.0 -f https://download.pytorch.org/whl/torch_stable.html\n",
        "\n",
        "# For interactive demo at the end:\n",
        "!pip install pydub\n",
        "\n",
        "import torch\n",
        "import torch.nn as nn\n",
        "import torch.nn.functional as F\n",
        "import torch.optim as optim\n",
        "import torchaudio\n",
        "\n",
        "import matplotlib.pyplot as plt\n",
        "import IPython.display as ipd\n",
        "from tqdm.notebook import tqdm"
      ],
      "execution_count": 5,
      "outputs": [
        {
          "output_type": "stream",
          "text": [
            "Looking in links: https://download.pytorch.org/whl/torch_stable.html\n",
            "Requirement already satisfied: torch==1.7.0+cu101 in /usr/local/lib/python3.7/dist-packages (1.7.0+cu101)\n",
            "Requirement already satisfied: torchvision==0.8.1+cu101 in /usr/local/lib/python3.7/dist-packages (0.8.1+cu101)\n",
            "Requirement already satisfied: torchaudio==0.7.0 in /usr/local/lib/python3.7/dist-packages (0.7.0)\n",
            "Requirement already satisfied: future in /usr/local/lib/python3.7/dist-packages (from torch==1.7.0+cu101) (0.16.0)\n",
            "Requirement already satisfied: dataclasses in /usr/local/lib/python3.7/dist-packages (from torch==1.7.0+cu101) (0.6)\n",
            "Requirement already satisfied: numpy in /usr/local/lib/python3.7/dist-packages (from torch==1.7.0+cu101) (1.19.5)\n",
            "Requirement already satisfied: typing-extensions in /usr/local/lib/python3.7/dist-packages (from torch==1.7.0+cu101) (3.7.4.3)\n",
            "Requirement already satisfied: pillow>=4.1.1 in /usr/local/lib/python3.7/dist-packages (from torchvision==0.8.1+cu101) (7.1.2)\n",
            "Requirement already satisfied: pydub in /usr/local/lib/python3.7/dist-packages (0.25.1)\n"
          ],
          "name": "stdout"
        }
      ]
    },
    {
      "cell_type": "markdown",
      "metadata": {
        "id": "qVD_2wVf9hsn"
      },
      "source": [
        "Let’s check if a CUDA GPU is available and select our device. Running\n",
        "the network on a GPU will greatly decrease the training/testing runtime.\n",
        "\n",
        "\n"
      ]
    },
    {
      "cell_type": "code",
      "metadata": {
        "colab": {
          "base_uri": "https://localhost:8080/"
        },
        "id": "YT82PBSL9hso",
        "outputId": "bc3d4d1c-8dca-4b0a-b5d3-631db3410252"
      },
      "source": [
        "device = torch.device(\"cuda\" if torch.cuda.is_available() else \"cpu\")\n",
        "print(device)"
      ],
      "execution_count": 6,
      "outputs": [
        {
          "output_type": "stream",
          "text": [
            "cuda\n"
          ],
          "name": "stdout"
        }
      ]
    },
    {
      "cell_type": "markdown",
      "metadata": {
        "id": "h7T9cDc59hsp"
      },
      "source": [
        "Importing the Dataset\n",
        "---------------------\n",
        "\n",
        "We use torchaudio to download and represent the dataset. Here we use\n",
        "`SpeechCommands <https://arxiv.org/abs/1804.03209>`__, which is a\n",
        "datasets of 35 commands spoken by different people. The dataset\n",
        "``SPEECHCOMMANDS`` is a ``torch.utils.data.Dataset`` version of the\n",
        "dataset. In this dataset, all audio files are about 1 second long (and\n",
        "so about 16000 time frames long).\n",
        "\n",
        "The actual loading and formatting steps happen when a data point is\n",
        "being accessed, and torchaudio takes care of converting the audio files\n",
        "to tensors. If one wants to load an audio file directly instead,\n",
        "``torchaudio.load()`` can be used. It returns a tuple containing the\n",
        "newly created tensor along with the sampling frequency of the audio file\n",
        "(16kHz for SpeechCommands).\n",
        "\n",
        "Going back to the dataset, here we create a subclass that splits it into\n",
        "standard training, validation, testing subsets.\n",
        "\n",
        "\n"
      ]
    },
    {
      "cell_type": "code",
      "metadata": {
        "colab": {
          "base_uri": "https://localhost:8080/",
          "height": 67,
          "referenced_widgets": [
            "9ec5b80accaa4dec9a63be64bb44fe2c",
            "9f77ea424dee46ff94e3e7e3dfa752db",
            "88b185852b1c495bbdc500d45a6a52c7",
            "edc5d88098cf4d258884b1f0a5ed9a3c",
            "d11f7dbde7de4cfb99b1b031786c49bf",
            "843a4c8d66364dd8bac2bc70692efd4b",
            "71d97eac84e7493587df65b53bca1b92",
            "c436cadcb3344f6d80a437aa860c38a9"
          ]
        },
        "id": "qQbqQSy29hsq",
        "outputId": "a7698e3b-5692-4abe-e9e0-1830dd10cb67"
      },
      "source": [
        "from torchaudio.datasets import SPEECHCOMMANDS\n",
        "import os\n",
        "\n",
        "\n",
        "class SubsetSC(SPEECHCOMMANDS):\n",
        "    def __init__(self, subset: str = None):\n",
        "        super().__init__(\"./\", download=True)\n",
        "\n",
        "        def load_list(filename):\n",
        "            filepath = os.path.join(self._path, filename)\n",
        "            with open(filepath) as fileobj:\n",
        "                return [os.path.join(self._path, line.strip()) for line in fileobj]\n",
        "\n",
        "        if subset == \"validation\":\n",
        "            self._walker = load_list(\"validation_list.txt\")\n",
        "        elif subset == \"testing\":\n",
        "            self._walker = load_list(\"testing_list.txt\")\n",
        "        elif subset == \"training\":\n",
        "            excludes = load_list(\"validation_list.txt\") + load_list(\"testing_list.txt\")\n",
        "            excludes = set(excludes)\n",
        "            self._walker = [w for w in self._walker if w not in excludes]\n",
        "\n",
        "\n",
        "# Create training and testing split of the data. We do not use validation in this tutorial.\n",
        "train_set = SubsetSC(\"training\")\n",
        "test_set = SubsetSC(\"testing\")\n",
        "\n",
        "waveform, sample_rate, label, speaker_id, utterance_number = train_set[0]"
      ],
      "execution_count": 7,
      "outputs": [
        {
          "output_type": "display_data",
          "data": {
            "application/vnd.jupyter.widget-view+json": {
              "model_id": "9ec5b80accaa4dec9a63be64bb44fe2c",
              "version_minor": 0,
              "version_major": 2
            },
            "text/plain": [
              "HBox(children=(FloatProgress(value=0.0, max=2428923189.0), HTML(value='')))"
            ]
          },
          "metadata": {
            "tags": []
          }
        },
        {
          "output_type": "stream",
          "text": [
            "\n"
          ],
          "name": "stdout"
        }
      ]
    },
    {
      "cell_type": "markdown",
      "metadata": {
        "id": "xn51Kbj49hss"
      },
      "source": [
        "A data point in the SPEECHCOMMANDS dataset is a tuple made of a waveform\n",
        "(the audio signal), the sample rate, the utterance (label), the ID of\n",
        "the speaker, the number of the utterance.\n",
        "\n",
        "\n"
      ]
    },
    {
      "cell_type": "code",
      "metadata": {
        "colab": {
          "base_uri": "https://localhost:8080/",
          "height": 301
        },
        "id": "yiJUojQ89hst",
        "outputId": "4215ce83-eb66-4cf2-c81d-65e2583d01e4"
      },
      "source": [
        "print(\"Shape of waveform: {}\".format(waveform.size()))\n",
        "print(\"Sample rate of waveform: {}\".format(sample_rate))\n",
        "\n",
        "plt.plot(waveform.t().numpy());"
      ],
      "execution_count": 8,
      "outputs": [
        {
          "output_type": "stream",
          "text": [
            "Shape of waveform: torch.Size([1, 16000])\n",
            "Sample rate of waveform: 16000\n"
          ],
          "name": "stdout"
        },
        {
          "output_type": "display_data",
          "data": {
            "image/png": "[encoded data removed]",
            "text/plain": [
              "<Figure size 432x288 with 1 Axes>"
            ]
          },
          "metadata": {
            "tags": [],
            "needs_background": "light"
          }
        }
      ]
    },
    {
      "cell_type": "markdown",
      "metadata": {
        "id": "LMHJsihE9hsu"
      },
      "source": [
        "Let’s find the list of labels available in the dataset.\n",
        "\n",
        "\n"
      ]
    },
    {
      "cell_type": "code",
      "metadata": {
        "colab": {
          "base_uri": "https://localhost:8080/"
        },
        "id": "bW5ceLqo9hsv",
        "outputId": "b63b9d8f-64ed-45d0-ad88-9e621e04947a"
      },
      "source": [
        "labels = sorted(list(set(datapoint[2] for datapoint in train_set)))\n",
        "labels"
      ],
      "execution_count": 9,
      "outputs": [
        {
          "output_type": "execute_result",
          "data": {
            "text/plain": [
              "['backward',\n",
              " 'bed',\n",
              " 'bird',\n",
              " 'cat',\n",
              " 'dog',\n",
              " 'down',\n",
              " 'eight',\n",
              " 'five',\n",
              " 'follow',\n",
              " 'forward',\n",
              " 'four',\n",
              " 'go',\n",
              " 'happy',\n",
              " 'house',\n",
              " 'learn',\n",
              " 'left',\n",
              " 'marvin',\n",
              " 'nine',\n",
              " 'no',\n",
              " 'off',\n",
              " 'on',\n",
              " 'one',\n",
              " 'right',\n",
              " 'seven',\n",
              " 'sheila',\n",
              " 'six',\n",
              " 'stop',\n",
              " 'three',\n",
              " 'tree',\n",
              " 'two',\n",
              " 'up',\n",
              " 'visual',\n",
              " 'wow',\n",
              " 'yes',\n",
              " 'zero']"
            ]
          },
          "metadata": {
            "tags": []
          },
          "execution_count": 9
        }
      ]
    },
    {
      "cell_type": "markdown",
      "metadata": {
        "id": "lRL9wSV19hsw"
      },
      "source": [
        "The 35 audio labels are commands that are said by users. The first few\n",
        "files are people saying “marvin”.\n",
        "\n",
        "\n"
      ]
    },
    {
      "cell_type": "code",
      "metadata": {
        "colab": {
          "base_uri": "https://localhost:8080/",
          "height": 74
        },
        "id": "ybWOw0jz9hsx",
        "outputId": "2306e182-8a19-47cb-dd8d-6ce1075fbf88"
      },
      "source": [
        "waveform_first, *_ = train_set[0]\n",
        "ipd.Audio(waveform_first.numpy(), rate=sample_rate)\n",
        "\n",
        "waveform_second, *_ = train_set[1]\n",
        "ipd.Audio(waveform_second.numpy(), rate=sample_rate)"
      ],
      "execution_count": 10,
      "outputs": [
        {
          "output_type": "execute_result",
          "data": {
            "text/html": [
              "\n",
              "                <audio controls=\"controls\" >\n",
              "                    <source src=\"data:audio/wav;base64,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\" type=\"audio/wav\" />\n",
              "                    Your browser does not support the audio element.\n",
              "                </audio>\n",
              "              "
            ],
            "text/plain": [
              "<IPython.lib.display.Audio object>"
            ]
          },
          "metadata": {
            "tags": []
          },
          "execution_count": 10
        }
      ]
    },
    {
      "cell_type": "markdown",
      "metadata": {
        "id": "bfF5Eta89hsx"
      },
      "source": [
        "The last file is someone saying “visual”.\n",
        "\n",
        "\n"
      ]
    },
    {
      "cell_type": "code",
      "metadata": {
        "colab": {
          "base_uri": "https://localhost:8080/",
          "height": 74
        },
        "id": "EG3yNCno9hsy",
        "outputId": "4500564e-1b9d-49d5-be0d-1870e063b2f2"
      },
      "source": [
        "waveform_last, *_ = train_set[-1]\n",
        "ipd.Audio(waveform_last.numpy(), rate=sample_rate)"
      ],
      "execution_count": 11,
      "outputs": [
        {
          "output_type": "execute_result",
          "data": {
            "text/html": [
              "\n",
              "                <audio controls=\"controls\" >\n",
              "                    <source src=\"data:audio/wav;base64,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\" type=\"audio/wav\" />\n",
              "                    Your browser does not support the audio element.\n",
              "                </audio>\n",
              "              "
            ],
            "text/plain": [
              "<IPython.lib.display.Audio object>"
            ]
          },
          "metadata": {
            "tags": []
          },
          "execution_count": 11
        }
      ]
    },
    {
      "cell_type": "markdown",
      "metadata": {
        "id": "d65Kt_wH9hsy"
      },
      "source": [
        "Formatting the Data\n",
        "-------------------\n",
        "\n",
        "This is a good place to apply transformations to the data. For the\n",
        "waveform, we downsample the audio for faster processing without losing\n",
        "too much of the classification power.\n",
        "\n",
        "We don’t need to apply other transformations here. It is common for some\n",
        "datasets though to have to reduce the number of channels (say from\n",
        "stereo to mono) by either taking the mean along the channel dimension,\n",
        "or simply keeping only one of the channels. Since SpeechCommands uses a\n",
        "single channel for audio, this is not needed here.\n",
        "\n",
        "\n"
      ]
    },
    {
      "cell_type": "code",
      "metadata": {
        "colab": {
          "base_uri": "https://localhost:8080/",
          "height": 74
        },
        "id": "O06tmYgu9hs2",
        "outputId": "89befe32-83e6-46d6-ba0e-31f969ec4a3c"
      },
      "source": [
        "new_sample_rate = 8000\n",
        "transform = torchaudio.transforms.Resample(orig_freq=sample_rate, new_freq=new_sample_rate)\n",
        "transformed = transform(waveform)\n",
        "\n",
        "ipd.Audio(transformed.numpy(), rate=new_sample_rate)"
      ],
      "execution_count": 12,
      "outputs": [
        {
          "output_type": "execute_result",
          "data": {
            "text/html": [
              "\n",
              "                <audio controls=\"controls\" >\n",
              "                    <source src=\"data:audio/wav;base64,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\" type=\"audio/wav\" />\n",
              "                    Your browser does not support the audio element.\n",
              "                </audio>\n",
              "              "
            ],
            "text/plain": [
              "<IPython.lib.display.Audio object>"
            ]
          },
          "metadata": {
            "tags": []
          },
          "execution_count": 12
        }
      ]
    },
    {
      "cell_type": "markdown",
      "metadata": {
        "id": "e9i5Vm4T9hs2"
      },
      "source": [
        "We are encoding each word using its index in the list of labels.\n",
        "\n",
        "\n"
      ]
    },
    {
      "cell_type": "code",
      "metadata": {
        "colab": {
          "base_uri": "https://localhost:8080/"
        },
        "id": "xZCARvM_9hs3",
        "outputId": "8639531e-086e-48ea-f72a-bbfbdd4b40e6"
      },
      "source": [
        "def label_to_index(word):\n",
        "    # Return the position of the word in labels\n",
        "    return torch.tensor(labels.index(word))\n",
        "\n",
        "\n",
        "def index_to_label(index):\n",
        "    # Return the word corresponding to the index in labels\n",
        "    # This is the inverse of label_to_index\n",
        "    return labels[index]\n",
        "\n",
        "\n",
        "word_start = \"yes\"\n",
        "index = label_to_index(word_start)\n",
        "word_recovered = index_to_label(index)\n",
        "\n",
        "print(word_start, \"-->\", index, \"-->\", word_recovered)"
      ],
      "execution_count": 13,
      "outputs": [
        {
          "output_type": "stream",
          "text": [
            "yes --> tensor(33) --> yes\n"
          ],
          "name": "stdout"
        }
      ]
    },
    {
      "cell_type": "markdown",
      "metadata": {
        "id": "lHWkScIk9hs4"
      },
      "source": [
        "To turn a list of data point made of audio recordings and utterances\n",
        "into two batched tensors for the model, we implement a collate function\n",
        "which is used by the PyTorch DataLoader that allows us to iterate over a\n",
        "dataset by batches. Please see `the\n",
        "documentation <https://pytorch.org/docs/stable/data.html#working-with-collate-fn>`__\n",
        "for more information about working with a collate function.\n",
        "\n",
        "In the collate function, we also apply the resampling, and the text\n",
        "encoding.\n",
        "\n",
        "\n"
      ]
    },
    {
      "cell_type": "code",
      "metadata": {
        "id": "h074zFKl9hs4"
      },
      "source": [
        "def pad_sequence(batch):\n",
        "    # Make all tensor in a batch the same length by padding with zeros\n",
        "    batch = [item.t() for item in batch]\n",
        "    batch = torch.nn.utils.rnn.pad_sequence(batch, batch_first=True, padding_value=0.)\n",
        "    return batch.permute(0, 2, 1)\n",
        "\n",
        "\n",
        "def collate_fn(batch):\n",
        "\n",
        "    # A data tuple has the form:\n",
        "    # waveform, sample_rate, label, speaker_id, utterance_number\n",
        "\n",
        "    tensors, targets = [], []\n",
        "\n",
        "    # Gather in lists, and encode labels as indices\n",
        "    for waveform, _, label, *_ in batch:\n",
        "        tensors += [waveform]\n",
        "        targets += [label_to_index(label)]\n",
        "\n",
        "    # Group the list of tensors into a batched tensor\n",
        "    tensors = pad_sequence(tensors)\n",
        "    targets = torch.stack(targets)\n",
        "\n",
        "    return tensors, targets\n",
        "\n",
        "\n",
        "batch_size = 256\n",
        "\n",
        "if device == \"cuda\":\n",
        "    num_workers = 1\n",
        "    pin_memory = True\n",
        "else:\n",
        "    num_workers = 0\n",
        "    pin_memory = False\n",
        "\n",
        "train_loader = torch.utils.data.DataLoader(\n",
        "    train_set,\n",
        "    batch_size=batch_size,\n",
        "    shuffle=True,\n",
        "    collate_fn=collate_fn,\n",
        "    num_workers=num_workers,\n",
        "    pin_memory=pin_memory,\n",
        ")\n",
        "test_loader = torch.utils.data.DataLoader(\n",
        "    test_set,\n",
        "    batch_size=batch_size,\n",
        "    shuffle=False,\n",
        "    drop_last=False,\n",
        "    collate_fn=collate_fn,\n",
        "    num_workers=num_workers,\n",
        "    pin_memory=pin_memory,\n",
        ")"
      ],
      "execution_count": 14,
      "outputs": []
    },
    {
      "cell_type": "markdown",
      "metadata": {
        "id": "Bz4JMdoH9hs5"
      },
      "source": [
        "Define the Network\n",
        "------------------\n",
        "\n",
        "For this tutorial we will use a convolutional neural network to process\n",
        "the raw audio data. Usually more advanced transforms are applied to the\n",
        "audio data, however CNNs can be used to accurately process the raw data.\n",
        "The specific architecture is modeled after the M5 network architecture\n",
        "described in `this paper <https://arxiv.org/pdf/1610.00087.pdf>`__. An\n",
        "important aspect of models processing raw audio data is the receptive\n",
        "field of their first layer’s filters. Our model’s first filter is length\n",
        "80 so when processing audio sampled at 8kHz the receptive field is\n",
        "around 10ms (and at 4kHz, around 20 ms). This size is similar to speech\n",
        "processing applications that often use receptive fields ranging from\n",
        "20ms to 40ms.\n",
        "\n",
        "\n"
      ]
    },
    {
      "cell_type": "code",
      "metadata": {
        "colab": {
          "base_uri": "https://localhost:8080/"
        },
        "id": "R4nYnKaN9hs7",
        "outputId": "ec455767-e745-42bc-b7a3-70d0d81d2113"
      },
      "source": [
        "class M5(nn.Module):\n",
        "    def __init__(self, n_input=1, n_output=35, stride=16, n_channel=32):\n",
        "        super().__init__()\n",
        "        self.conv1 = nn.Conv1d(n_input, n_channel, kernel_size=80, stride=stride)\n",
        "        self.bn1 = nn.BatchNorm1d(n_channel)\n",
        "        self.pool1 = nn.MaxPool1d(4)\n",
        "        self.conv2 = nn.Conv1d(n_channel, n_channel, kernel_size=3)\n",
        "        self.bn2 = nn.BatchNorm1d(n_channel)\n",
        "        self.pool2 = nn.MaxPool1d(4)\n",
        "        self.conv3 = nn.Conv1d(n_channel, 2 * n_channel, kernel_size=3)\n",
        "        self.bn3 = nn.BatchNorm1d(2 * n_channel)\n",
        "        self.pool3 = nn.MaxPool1d(4)\n",
        "        self.conv4 = nn.Conv1d(2 * n_channel, 2 * n_channel, kernel_size=3)\n",
        "        self.bn4 = nn.BatchNorm1d(2 * n_channel)\n",
        "        self.pool4 = nn.MaxPool1d(4)\n",
        "        self.fc1 = nn.Linear(2 * n_channel, n_output)\n",
        "\n",
        "    def forward(self, x):\n",
        "        x = self.conv1(x)\n",
        "        x = F.relu(self.bn1(x))\n",
        "        x = self.pool1(x)\n",
        "        x = self.conv2(x)\n",
        "        x = F.relu(self.bn2(x))\n",
        "        x = self.pool2(x)\n",
        "        x = self.conv3(x)\n",
        "        x = F.relu(self.bn3(x))\n",
        "        x = self.pool3(x)\n",
        "        x = self.conv4(x)\n",
        "        x = F.relu(self.bn4(x))\n",
        "        x = self.pool4(x)\n",
        "        x = F.avg_pool1d(x, x.shape[-1])\n",
        "        x = x.permute(0, 2, 1)\n",
        "        x = self.fc1(x)\n",
        "        return F.log_softmax(x, dim=2)\n",
        "\n",
        "\n",
        "model = M5(n_input=transformed.shape[0], n_output=len(labels))\n",
        "model.to(device)\n",
        "print(model)\n",
        "\n",
        "\n",
        "def count_parameters(model):\n",
        "    return sum(p.numel() for p in model.parameters() if p.requires_grad)\n",
        "\n",
        "\n",
        "n = count_parameters(model)\n",
        "print(\"Number of parameters: %s\" % n)"
      ],
      "execution_count": 15,
      "outputs": [
        {
          "output_type": "stream",
          "text": [
            "M5(\n",
            "  (conv1): Conv1d(1, 32, kernel_size=(80,), stride=(16,))\n",
            "  (bn1): BatchNorm1d(32, eps=1e-05, momentum=0.1, affine=True, track_running_stats=True)\n",
            "  (pool1): MaxPool1d(kernel_size=4, stride=4, padding=0, dilation=1, ceil_mode=False)\n",
            "  (conv2): Conv1d(32, 32, kernel_size=(3,), stride=(1,))\n",
            "  (bn2): BatchNorm1d(32, eps=1e-05, momentum=0.1, affine=True, track_running_stats=True)\n",
            "  (pool2): MaxPool1d(kernel_size=4, stride=4, padding=0, dilation=1, ceil_mode=False)\n",
            "  (conv3): Conv1d(32, 64, kernel_size=(3,), stride=(1,))\n",
            "  (bn3): BatchNorm1d(64, eps=1e-05, momentum=0.1, affine=True, track_running_stats=True)\n",
            "  (pool3): MaxPool1d(kernel_size=4, stride=4, padding=0, dilation=1, ceil_mode=False)\n",
            "  (conv4): Conv1d(64, 64, kernel_size=(3,), stride=(1,))\n",
            "  (bn4): BatchNorm1d(64, eps=1e-05, momentum=0.1, affine=True, track_running_stats=True)\n",
            "  (pool4): MaxPool1d(kernel_size=4, stride=4, padding=0, dilation=1, ceil_mode=False)\n",
            "  (fc1): Linear(in_features=64, out_features=35, bias=True)\n",
            ")\n",
            "Number of parameters: 26915\n"
          ],
          "name": "stdout"
        }
      ]
    },
    {
      "cell_type": "markdown",
      "metadata": {
        "id": "JVwQKs7x9hs8"
      },
      "source": [
        "We will use the same optimization technique used in the paper, an Adam\n",
        "optimizer with weight decay set to 0.0001. At first, we will train with\n",
        "a learning rate of 0.01, but we will use a ``scheduler`` to decrease it\n",
        "to 0.001 during training after 20 epochs.\n",
        "\n",
        "\n"
      ]
    },
    {
      "cell_type": "code",
      "metadata": {
        "id": "quNEP3lD9htB"
      },
      "source": [
        "optimizer = optim.Adam(model.parameters(), lr=0.01, weight_decay=0.0001)\n",
        "scheduler = optim.lr_scheduler.StepLR(optimizer, step_size=20, gamma=0.1)  # reduce the learning after 20 epochs by a factor of 10"
      ],
      "execution_count": 16,
      "outputs": []
    },
    {
      "cell_type": "markdown",
      "metadata": {
        "id": "XIKuiQ_e9htC"
      },
      "source": [
        "Training and Testing the Network\n",
        "--------------------------------\n",
        "\n",
        "Now let’s define a training function that will feed our training data\n",
        "into the model and perform the backward pass and optimization steps. For\n",
        "training, the loss we will use is the negative log-likelihood. The\n",
        "network will then be tested after each epoch to see how the accuracy\n",
        "varies during the training.\n",
        "\n",
        "\n"
      ]
    },
    {
      "cell_type": "code",
      "metadata": {
        "id": "MgjK0iTT9htC"
      },
      "source": [
        "def train(model, epoch, log_interval):\n",
        "    model.train()\n",
        "    for batch_idx, (data, target) in enumerate(train_loader):\n",
        "\n",
        "        data = data.to(device)\n",
        "        target = target.to(device)\n",
        "\n",
        "        # apply transform and model on whole batch directly on device\n",
        "        data = transform(data)\n",
        "        output = model(data)\n",
        "\n",
        "        # negative log-likelihood for a tensor of size (batch x 1 x n_output)\n",
        "        loss = F.nll_loss(output.squeeze(), target)\n",
        "\n",
        "        optimizer.zero_grad()\n",
        "        loss.backward()\n",
        "        optimizer.step()\n",
        "\n",
        "        # print training stats\n",
        "        if batch_idx % log_interval == 0:\n",
        "            print(f\"Train Epoch: {epoch} [{batch_idx * len(data)}/{len(train_loader.dataset)} ({100. * batch_idx / len(train_loader):.0f}%)]\\tLoss: {loss.item():.6f}\")\n",
        "\n",
        "        # update progress bar\n",
        "        pbar.update(pbar_update)\n",
        "        # record loss\n",
        "        losses.append(loss.item())"
      ],
      "execution_count": 17,
      "outputs": []
    },
    {
      "cell_type": "markdown",
      "metadata": {
        "id": "7AGbnj1z9htD"
      },
      "source": [
        "Now that we have a training function, we need to make one for testing\n",
        "the networks accuracy. We will set the model to ``eval()`` mode and then\n",
        "run inference on the test dataset. Calling ``eval()`` sets the training\n",
        "variable in all modules in the network to false. Certain layers like\n",
        "batch normalization and dropout layers behave differently during\n",
        "training so this step is crucial for getting correct results.\n",
        "\n",
        "\n"
      ]
    },
    {
      "cell_type": "code",
      "metadata": {
        "id": "mpNI7nMD9htD"
      },
      "source": [
        "def number_of_correct(pred, target):\n",
        "    # count number of correct predictions\n",
        "    return pred.squeeze().eq(target).sum().item()\n",
        "\n",
        "\n",
        "def get_likely_index(tensor):\n",
        "    # find most likely label index for each element in the batch\n",
        "    return tensor.argmax(dim=-1)\n",
        "\n",
        "\n",
        "def test(model, epoch):\n",
        "    model.eval()\n",
        "    correct = 0\n",
        "    for data, target in test_loader:\n",
        "\n",
        "        data = data.to(device)\n",
        "        target = target.to(device)\n",
        "\n",
        "        # apply transform and model on whole batch directly on device\n",
        "        data = transform(data)\n",
        "        output = model(data)\n",
        "\n",
        "        pred = get_likely_index(output)\n",
        "        correct += number_of_correct(pred, target)\n",
        "\n",
        "        # update progress bar\n",
        "        pbar.update(pbar_update)\n",
        "\n",
        "    print(f\"\\nTest Epoch: {epoch}\\tAccuracy: {correct}/{len(test_loader.dataset)} ({100. * correct / len(test_loader.dataset):.0f}%)\\n\")"
      ],
      "execution_count": 18,
      "outputs": []
    },
    {
      "cell_type": "markdown",
      "metadata": {
        "id": "3OTXGBWo9htE"
      },
      "source": [
        "Finally, we can train and test the network. We will train the network\n",
        "for ten epochs then reduce the learn rate and train for ten more epochs.\n",
        "The network will be tested after each epoch to see how the accuracy\n",
        "varies during the training.\n",
        "\n",
        "\n"
      ]
    },
    {
      "cell_type": "code",
      "metadata": {
        "colab": {
          "base_uri": "https://localhost:8080/",
          "height": 787,
          "referenced_widgets": [
            "f022132bc1494feebcdbd09da5ddf991",
            "011cd04e4c824bc0a34a4a7a2d8bd65b",
            "3630f031c41a494299f3beba9ffde2dc",
            "27150e4bdabf4cc8b50f37e428badcbf",
            "762f04808f0f486faa04c5f104777a0a",
            "a5be4a7e3ba84f60bf1e67ef75f00ae1",
            "da00395262334ccb87a2a289f7763ee5",
            "cc5d1b99045f485e8bc15db07c25b728"
          ]
        },
        "id": "i2donXKP9htE",
        "outputId": "19f247bb-c1cb-4bd5-e00c-3622a8c4ab7f"
      },
      "source": [
        "log_interval = 20\n",
        "n_epoch = 2\n",
        "\n",
        "pbar_update = 1 / (len(train_loader) + len(test_loader))\n",
        "losses = []\n",
        "\n",
        "# The transform needs to live on the same device as the model and the data.\n",
        "transform = transform.to(device)\n",
        "with tqdm(total=n_epoch) as pbar:\n",
        "    for epoch in range(1, n_epoch + 1):\n",
        "        train(model, epoch, log_interval)\n",
        "        test(model, epoch)\n",
        "        scheduler.step()\n",
        "\n",
        "# Let's plot the training loss versus the number of iteration.\n",
        "# plt.plot(losses);\n",
        "# plt.title(\"training loss\");"
      ],
      "execution_count": 19,
      "outputs": [
        {
          "output_type": "display_data",
          "data": {
            "application/vnd.jupyter.widget-view+json": {
              "model_id": "f022132bc1494feebcdbd09da5ddf991",
              "version_minor": 0,
              "version_major": 2
            },
            "text/plain": [
              "HBox(children=(FloatProgress(value=0.0, max=2.0), HTML(value='')))"
            ]
          },
          "metadata": {
            "tags": []
          }
        },
        {
          "output_type": "stream",
          "text": [
            "Train Epoch: 1 [0/84843 (0%)]\tLoss: 3.711889\n",
            "Train Epoch: 1 [5120/84843 (6%)]\tLoss: 3.019387\n",
            "Train Epoch: 1 [10240/84843 (12%)]\tLoss: 2.578279\n",
            "Train Epoch: 1 [15360/84843 (18%)]\tLoss: 2.163212\n",
            "Train Epoch: 1 [20480/84843 (24%)]\tLoss: 1.984051\n",
            "Train Epoch: 1 [25600/84843 (30%)]\tLoss: 1.988642\n",
            "Train Epoch: 1 [30720/84843 (36%)]\tLoss: 1.795144\n",
            "Train Epoch: 1 [35840/84843 (42%)]\tLoss: 1.619103\n",
            "Train Epoch: 1 [40960/84843 (48%)]\tLoss: 1.644840\n",
            "Train Epoch: 1 [46080/84843 (54%)]\tLoss: 1.481343\n",
            "Train Epoch: 1 [51200/84843 (60%)]\tLoss: 1.315681\n",
            "Train Epoch: 1 [56320/84843 (66%)]\tLoss: 1.391803\n",
            "Train Epoch: 1 [61440/84843 (72%)]\tLoss: 1.334031\n",
            "Train Epoch: 1 [66560/84843 (78%)]\tLoss: 1.130535\n",
            "Train Epoch: 1 [71680/84843 (84%)]\tLoss: 1.121198\n",
            "Train Epoch: 1 [76800/84843 (90%)]\tLoss: 1.031468\n",
            "Train Epoch: 1 [81920/84843 (96%)]\tLoss: 1.053600\n",
            "\n",
            "Test Epoch: 1\tAccuracy: 7171/11005 (65%)\n",
            "\n",
            "Train Epoch: 2 [0/84843 (0%)]\tLoss: 1.095442\n",
            "Train Epoch: 2 [5120/84843 (6%)]\tLoss: 0.973767\n",
            "Train Epoch: 2 [10240/84843 (12%)]\tLoss: 1.130862\n",
            "Train Epoch: 2 [15360/84843 (18%)]\tLoss: 0.857030\n",
            "Train Epoch: 2 [20480/84843 (24%)]\tLoss: 0.893649\n",
            "Train Epoch: 2 [25600/84843 (30%)]\tLoss: 0.929119\n",
            "Train Epoch: 2 [30720/84843 (36%)]\tLoss: 0.771426\n",
            "Train Epoch: 2 [35840/84843 (42%)]\tLoss: 1.102046\n",
            "Train Epoch: 2 [40960/84843 (48%)]\tLoss: 0.771367\n",
            "Train Epoch: 2 [46080/84843 (54%)]\tLoss: 0.967362\n",
            "Train Epoch: 2 [51200/84843 (60%)]\tLoss: 1.023213\n",
            "Train Epoch: 2 [56320/84843 (66%)]\tLoss: 0.854037\n",
            "Train Epoch: 2 [61440/84843 (72%)]\tLoss: 0.935350\n",
            "Train Epoch: 2 [66560/84843 (78%)]\tLoss: 0.853381\n",
            "Train Epoch: 2 [71680/84843 (84%)]\tLoss: 0.869831\n",
            "Train Epoch: 2 [76800/84843 (90%)]\tLoss: 1.007126\n",
            "Train Epoch: 2 [81920/84843 (96%)]\tLoss: 0.902096\n",
            "\n",
            "Test Epoch: 2\tAccuracy: 7681/11005 (70%)\n",
            "\n",
            "\n"
          ],
          "name": "stdout"
        }
      ]
    },
    {
      "cell_type": "markdown",
      "metadata": {
        "id": "auIVvm019htF"
      },
      "source": [
        "The network should be more than 65% accurate on the test set after 2\n",
        "epochs, and 85% after 21 epochs. Let’s look at the last words in the\n",
        "train set, and see how the model did on it.\n",
        "\n",
        "\n"
      ]
    },
    {
      "cell_type": "code",
      "metadata": {
        "colab": {
          "base_uri": "https://localhost:8080/"
        },
        "id": "DnuEJsuu9htF",
        "outputId": "d075e76b-e5d5-48cc-c054-c414062ff8a7"
      },
      "source": [
        "def predict(tensor):\n",
        "    # Use the model to predict the label of the waveform\n",
        "    tensor = tensor.to(device)\n",
        "    tensor = transform(tensor)\n",
        "    tensor = model(tensor.unsqueeze(0))\n",
        "    tensor = get_likely_index(tensor)\n",
        "    tensor = index_to_label(tensor.squeeze())\n",
        "    return tensor\n",
        "\n",
        "\n",
        "waveform, sample_rate, utterance, *_ = train_set[-1]\n",
        "ipd.Audio(waveform.numpy(), rate=sample_rate)\n",
        "\n",
        "print(f\"Expected: {utterance}. Predicted: {predict(waveform)}.\")"
      ],
      "execution_count": 20,
      "outputs": [
        {
          "output_type": "stream",
          "text": [
            "Expected: zero. Predicted: zero.\n"
          ],
          "name": "stdout"
        }
      ]
    },
    {
      "cell_type": "markdown",
      "metadata": {
        "id": "gUOnD74V9htG"
      },
      "source": [
        "Let’s find an example that isn’t classified correctly, if there is one.\n",
        "\n",
        "\n"
      ]
    },
    {
      "cell_type": "code",
      "metadata": {
        "colab": {
          "base_uri": "https://localhost:8080/"
        },
        "id": "Gi24Y6dn9htG",
        "outputId": "1547a0b9-d7f0-490b-dd43-271b3e905ed6"
      },
      "source": [
        "for i, (waveform, sample_rate, utterance, *_) in enumerate(test_set):\n",
        "    output = predict(waveform)\n",
        "    if output != utterance:\n",
        "        ipd.Audio(waveform.numpy(), rate=sample_rate)\n",
        "        print(f\"Data point #{i}. Expected: {utterance}. Predicted: {output}.\")\n",
        "        break\n",
        "else:\n",
        "    print(\"All examples in this dataset were correctly classified!\")\n",
        "    print(\"In this case, let's just look at the last data point\")\n",
        "    ipd.Audio(waveform.numpy(), rate=sample_rate)\n",
        "    print(f\"Data point #{i}. Expected: {utterance}. Predicted: {output}.\")"
      ],
      "execution_count": 21,
      "outputs": [
        {
          "output_type": "stream",
          "text": [
            "Data point #1. Expected: right. Predicted: two.\n"
          ],
          "name": "stdout"
        }
      ]
    },
    {
      "cell_type": "markdown",
      "metadata": {
        "id": "I4qHQetU9htH"
      },
      "source": [
        "Feel free to try with one of your own recordings of one of the labels!\n",
        "For example, using Colab, say “Go” while executing the cell below. This\n",
        "will record one second of audio and try to classify it.\n",
        "\n",
        "\n"
      ]
    },
    {
      "cell_type": "code",
      "metadata": {
        "colab": {
          "base_uri": "https://localhost:8080/",
          "height": 128
        },
        "id": "dpAt5W4A9htH",
        "outputId": "a0079f0a-474d-4607-aca5-5b81b886cf85"
      },
      "source": [
        "from google.colab import output as colab_output\n",
        "from base64 import b64decode\n",
        "from io import BytesIO\n",
        "from pydub import AudioSegment\n",
        "\n",
        "\n",
        "RECORD = \"\"\"\n",
        "const sleep  = time => new Promise(resolve => setTimeout(resolve, time))\n",
        "const b2text = blob => new Promise(resolve => {\n",
        "  const reader = new FileReader()\n",
        "  reader.onloadend = e => resolve(e.srcElement.result)\n",
        "  reader.readAsDataURL(blob)\n",
        "})\n",
        "var record = time => new Promise(async resolve => {\n",
        "  stream = await navigator.mediaDevices.getUserMedia({ audio: true })\n",
        "  recorder = new MediaRecorder(stream)\n",
        "  chunks = []\n",
        "  recorder.ondataavailable = e => chunks.push(e.data)\n",
        "  recorder.start()\n",
        "  await sleep(time)\n",
        "  recorder.onstop = async ()=>{\n",
        "    blob = new Blob(chunks)\n",
        "    text = await b2text(blob)\n",
        "    resolve(text)\n",
        "  }\n",
        "  recorder.stop()\n",
        "})\n",
        "\"\"\"\n",
        "\n",
        "\n",
        "def record(seconds=1):\n",
        "    display(ipd.Javascript(RECORD))\n",
        "    print(f\"Recording started for {seconds} seconds.\")\n",
        "    s = colab_output.eval_js(\"record(%d)\" % (seconds * 1000))\n",
        "    print(\"Recording ended.\")\n",
        "    b = b64decode(s.split(\",\")[1])\n",
        "\n",
        "    fileformat = \"wav\"\n",
        "    filename = f\"_audio.{fileformat}\"\n",
        "    AudioSegment.from_file(BytesIO(b)).export(filename, format=fileformat)\n",
        "    return torchaudio.load(filename)\n",
        "\n",
        "\n",
        "waveform, sample_rate = record()\n",
        "print(f\"Predicted: {predict(waveform)}.\")\n",
        "ipd.Audio(waveform.numpy(), rate=sample_rate)"
      ],
      "execution_count": 24,
      "outputs": [
        {
          "output_type": "display_data",
          "data": {
            "application/javascript": [
              "\n",
              "const sleep  = time => new Promise(resolve => setTimeout(resolve, time))\n",
              "const b2text = blob => new Promise(resolve => {\n",
              "  const reader = new FileReader()\n",
              "  reader.onloadend = e => resolve(e.srcElement.result)\n",
              "  reader.readAsDataURL(blob)\n",
              "})\n",
              "var record = time => new Promise(async resolve => {\n",
              "  stream = await navigator.mediaDevices.getUserMedia({ audio: true })\n",
              "  recorder = new MediaRecorder(stream)\n",
              "  chunks = []\n",
              "  recorder.ondataavailable = e => chunks.push(e.data)\n",
              "  recorder.start()\n",
              "  await sleep(time)\n",
              "  recorder.onstop = async ()=>{\n",
              "    blob = new Blob(chunks)\n",
              "    text = await b2text(blob)\n",
              "    resolve(text)\n",
              "  }\n",
              "  recorder.stop()\n",
              "})\n"
            ],
            "text/plain": [
              "<IPython.core.display.Javascript object>"
            ]
          },
          "metadata": {
            "tags": []
          }
        },
        {
          "output_type": "stream",
          "text": [
            "Recording started for 1 seconds.\n",
            "Recording ended.\n",
            "Predicted: go.\n"
          ],
          "name": "stdout"
        },
        {
          "output_type": "execute_result",
          "data": {
            "text/html": [
              "\n",
              "                <audio controls=\"controls\" >\n",
              "                    <source src=\"data:audio/wav;base64,UklGRiRoAQBXQVZFZm10IBAAAAABAAEAgLsAAAB3AQACABAAZGF0YQBoAQAAAAAAAAAAAAAAAAAAAAAAAAAAAAAAAAAAAAAAAAAAAAAAAAAAAAAAAAAAAAAAAAAAAAAAAAAAAAAAAAAAAAAAAAAAAAAAAAAAAAAAAAAAAAAAAAAAAAAAAAAAAAAAAAAAAAAAAAAAAAAAAAAAAAAAAAAAAAAAAAAAAAAAAAAAAAAAAAAAAAAAAAAAAAAAAAAAAAAAAAAAAAAAAAAAAAAAAAAAAAAAAAAAAAAAAAAAAAAAAAAAAAAAAAAAAAAAAAAAAAAAAAAAAAAAAAAAAAAAAAAAAAAAAAAAAAAAAAAAAAAAAAAAAAAAAAAAAAAAAAAAAAAAAAAAAAAAAAAAAAAAAAAAAAAAAAAAAAAAAAAAAAAAAAAAAAAAAAAAAAAAAAAAAAAAAAAAAAAAAAAAAAAAAAAAAAAAAAAAAAAAAAAAAAAAAAAAAAAAAAAAAAAAAAAAAAAAAAAAAAAAAAAAAAAAAAAAAAAAAAAAAAAAAAAAAAAAAAAAAAAAAAAAAAAAAAAAAAAAAAAAAAAAAAAAAAAAAAAAAAAAAAAAAAAAAAAAAAAAAAAAAAAAAAAAAAAAAAAAAAAAAAAAAAAAAAAAAAAAAAAAAAAAAAAAAAAAAAAAAAAAAAAAAAAAAAAAAAAAAAAAAAAAAAAAAAAAAAAAAAAAAAAAAAAAAAAAAAAAAAAAAAAAAAAAAAAAAAAAAAAAAAAAAAAAAAAAAAAAAAAAAAAAAAAAAAAAAAAAAAAAAAAAAAAAAAAAAAAAAAAAAAAAAAAAAAAAAAAAAAAAAAAAAAAAAAAAAAAAAAAAAAAAAAAAAAAAAAAAAAAAAAAAAAAAAAAAAAAAAAAAAAAAAAAAAAAAAAAAAAAAAAAAAAAAAAAAAAAAAAAAAAAAAAAAAAAAAAAAAAAAAAAAAAAAAAAAAAAAAAAAAAAAAAAAAAAAAAAAAAAAAAAAAAAAAAAAAAAAAAAAAAAAAAAAAAAAAAAAAAAAAAAAAAAAAAAAAAAAAAAAAAAAAAAAAAAAAAAAAAAAAAAAAAAAAAAAAAAAAAAAAAAAAAAAAAAAAAAAAAAAAAAAAAAAAAAAAAAAAAAAAAAAAAAAAAAAAAAAAAAAAAAAAAAAAAAAAAAAAAAAAAAAAAAAAAAAAAAAAAAAAAAAAAAAAAAAAAAAAAAAAAAAAAAAAAAAAAAAAAAAAAAAAAAAAAAAAAAAAAAAAAAAAAAAAAAAAAAAAAAAAAAAAAAAAAAAAAAAAAAAAAAAAAAAAAAAAAAAAAAAAAAAAAAAAAAAAAAAAAAAAAAAAAAAAAAAAAAAAAAAAAAAAAAAAAAAAAAAAAAAAAAAAAAAAAAAAAAAAAAAAAAAAAAAAAAAAAAAAAAAAAAAAAAAAAAAAAAAAAAAAAAAAAAAAAAAAAAAAAAAAAAAAAAAAAAAAAAAAAAAAAAAAAAAAAAAAAAAAAAAAAAAAAAAAAAAAAAAAAAAAAAAAAAAAAAAAAAAAAAAAAAAAAAAAAAAAAAAAAAAAAAAAAAAAAAAAAAAAAAAAAAAAAAAAAAAAAAAAAAAAAAAAAAAAAAAAAAAAAAAAAAAAAAAAAAAAAAAAAAAAAAAAAAAAAAAAAAAAAAAAAAAAAAAAAAAAAAAAAAAAAAAAAAAAAAAAAAAAAAAAAAAAAAAAAAAAAAAAAAAAAAAAAAAAAAAAAAAAAAAAAAAAAAAAAAAAAAAAAAAAAAAAAAAAAAAAAAAAAAAAAAAAAAAAAAAAAAAAAAAAAAAAAAAAAAAAAAAAAAAAAAAAAAAAAAAAAAAAAAAAAAAAAAAAAAAAAAAAAAAAAAAAAAAAAAAAAAAAAAAAAAAAAAAAAAAAAAAAAAAAAAAAAAAAAAAAAAAAAAAAAAAAAAAAAAAAAAAAAAAAAAAAAAAAAAAAAAAAAAAAAAAAAAAAAAAAAAAAAAAAAAAAAAAAAAAAAAAAAAAAAAAAAAAAAAAAAAAAAAAAAAAAAAAAAAAAAAAAAAAAAAAAAAAAAAAAAAAAAAAAAAAAAAAAAAAAAAAAAAAAAAAAAAAAAAAAAAAAAAAAAAAAAAAAAAAAAAAAAAAAAAAAAAAAAAAAAAAAAAAAAAAAAAAAAAAAAAAAAAAAAAAAAAAAAAAAAAAAAAAAAAAAAAAAAAAAAAAAAAAAAAAAAAAAAAAAAAAAAAAAAAAAAAAAAAAAAAAAAAAAAAAAAAAAAAAAAAAAAAAAAAAAAAAAAAAAAAAAAAAAAAAAAAAAAAAAAAAAAAAAAAAAAAAAAAAAAAAAAAAAAAAAAAAAAAAAAAAAAAAAAAAAAAAAAAAAAAAAAAAAAAAAAAAAAAAAAAAAAAAAAAAAAAAAAAAAAAAAAAAAAAAAAAAAAAAAAAAAAAAAAAAAAAAAAAAAAAAAAAAAAAAAAAAAAAAAAAAAAAAAAAAAAAAAAAAAAAAAAAAAAAAAAAAAAAAAAAAAAAAAAAAAAAAAAAAAAAAAAAAAAAAAAAAAAAAAAAAAAAAAAAAAAAAAAAAAAAAAAAAAAAAAAAAAAAAAAAAAAAAAAAAAAAAAAAAAAAAAAAAAAAAAAAAAAAAAAAAAAAAAAAAAAAAAAAAAAAAAAAAAAAAAAAAAAAAAAAAAAAAAAAAAAAAAAAAAAAAAAAAAAAAAAAAAAAAAAAAAAAAAAAAAAAAAAAAAAAAAAAAAAAAAAAAAAAAAAAAAAAAAAAAAAAAAAAAAAAAAAAAAAAAAAAAAAAAAAAAAAAAAAAAAAAAAAAAAAAAAAAAAAAAAAAAAAAAAAAAAAAAAAAAAAAAAAAAAAAAAAAAAAAAAAAAAAAAAAAAAAAAAAAAAAAAAAAAAAAAAAAAAAAAAAAAAAAAAAAAAAAAAAAAAAAAAAAAAAAAAAAAAAAAAAAAAAAAAAAAAAAAAAAAAAAAAAAAAAAAAAAAAAAAAAAAAAAAAAAAAAAAAAAAAAAAAAAAAAAAAAAAAAAAAAAAAAAAAAAAAAAAAAAAAAAAAAAAAAAAAAAAAAAAAAAAAAAAAAAAAAAAAAAAAAAAAAAAAAAAAAAAAAAAAAAAAAAAAAAAAAAAAAAAAAAAAAAAAAAAAAAAAAAAAAAAAAAAAAAAAAAAAAAAAAAAAAAAAAAAAAAAAAAAAAAAAAAAAAAAAAAAAAAAAAAAAAAAAAAAAAAAAAAAAAAAAAAAAAAAAAAAAAAAAAAAAAAAAAAAAAAAAAAAAAAAAAAAAAAAAAAAAAAAAAAAAAAAAAAAAAAAAAAAAAAAAAAAAAAAAAAAAAAAAAAAAAAAAAAAAAAAAAAAAAAAAAAAAAAAAAAAAAAAAAAAAAAAAAAAAAAAAAAAAAAAAAAAAAAAAAAAAAAAAAAAAAAAAAAAAAAAAAAAAAAAAAAAAAAAAAAAAAAAAAAAAAAAAAAAAAAAAAAAAAAAAAAAAAAAAAAAAAAAAAAAAAAAAAAAAAAAAAAAAAAAAAAAAAAAAAAAAAAAAAAAAAAAAAAAAAAAAAAAAAAAAAAAAAAAAAAAAAAAAAAAAAAAAAAAAAAAAAAAAAAAAAAAAAAAAAAAAAAAAAAAAAAAAAAAAAAAAAAAAAAAAAAAAAAAAAAAAAAAAAAAAAAAAAAAAAAAAAAAAAAAAAAAAAAAAAAAAAAAAAAAAAAAAAAAAAAAAAAAAAAAAAAAAAAAAAAAAAAAAAAAAAAAAAAAAAAAAAAAAAAAAAAAAAAAAAAAAAAAAAAAAAAAAAAAAAAAAAAAAAAAAAAAAAAAAAAAAAAAAAAAAAAAAAAAAAAAAAAAAAAAAAAAAAAAAAAAAAAAAAAAAAAAAAAAAAAAAAAAAAAAAAAAAAAAAAAAAAAAAAAAAAAAAAAAAAAAAAAAAAAAAAAAAAAAAAAAAAAAAAAAAAAAAAAAAAAAAAAAAAAAAAAAAAAAAAAAAAAAAAAAAAAAAAAAAAAAAAAAAAAAAAAAAAAAAAAAAAAAAAAAAAAAAAAAAAAAAAAAAAAAAAAAAAAAAAAAAAAAAAAAAAAAAAAAAAAAAAAAAAAAAAAAAAAAAAAAAAAAAAAAAAAAAAAAAAAAAAAAAAAAAAAAAAAAAAAAAAAAAAAAAAAAAAAAAAAAAAAAAAAAAAAAAAAAAAAAAAAAAAAAAAAAAAAAAAAAAAAAAAAAAAAAAAAAAAAAAAAAAAAAAAAAAAAAAAAAAAAAAAAAAAAAAAAAAAAAAAAAAAAAAAAAAAAAAAAAAAAAAAAAAAAAAAAAAAAAAAAAAAAAAAAAAAAAAAAAAAAAAAAAAAAAAAAAAAAAAAAAAAAAAAAAAAAAAAAAAAAAAAAAAAAAAAAAAAAAAAAAAAAAAAAAAAAAAAAAAAAAAAAAAAAAAAAAAAAAAAAAAAAAAAAAAAAAAAAAAAAAAAAAAAAAAAAAAAAAAAAAAAAAAAAAAAAAAAAAAAAAAAAAAAAAAAAAAAAAAAAAAAAAAAAAAAAAAAAAAAAAAAAAAAAAAAAAAAAAAAAAAAAAAAAAAAAAAAAAAAAAAAAAAAAAAAAAAAAAAAAAAAAAAAAAAAAAAAAAAAAAAAAAAAAAAAAAAAAAAAAAAAAAAAAAAAAAAAAAAAAAAAAAAAAAAAAAAAAAAAAAAAAAAAAAAAAAAAAAAAAAAAAAAAAAAAAAAAAAAAAAAAAAAAAAAAAAAAAAAAAAAAAAAAAAAAAAAAAAAAAAAAAAAAAAAAAAAAAAAAAAAAAAAAAAAAAAAAAAAAAAAAAAAAAAAAAAAAAAAAAAAAAAAAAAAAAAAAAAAAAAAAAAAAAAAAAAAAAAAAAAAAAAAAAAAAAAAAAAAAAAAAAAAAAAAAAAAAAAAAAAAAAAAAAAAAAAAAAAAAAAAAAAAAAAAAAAAAAAAAAAAAAAAAAAAAAAAAAAAAAAAAAAAAAAAAAAAAAAAAAAAAAAAAAAAAAAAAAAAAAAAAAAAAAAAAAAAAAAAAAAAAAAAAAAAAAAAAAAAAAAAAAAAAAAAAAAAAAAAAAAAAAAAAAAAAAAAAAAAAAAAAAAAAAAAAAAAAAAAAAAAAAAAAAAAAAAAAAAAAAAAAAAAAAAAAAAAAAAAAAAAAAAAAAAAAAAAAAAAAAAAAAAAAAAAAAAAAAAAAAAAAAAAAAAAAAAAAAAAAAAAAAAAAAAAAAAAAAAAAAAAAAAAAAAAAAAAAAAAAAAAAAAAAAAAAAAAAAAAAAAAAAAAAAAAAAAAAAAAAAAAAAAAAAAAAAAAAAAAAAAAAAAAAAAAAAAAAAAAAAAAAAAAAAAAAAAAAAAAAAAAAAAAAAAAAAAAAAAAAAAAAAAAAAAAAAAAAAAAAAAAAAAAAAAAAAAAAAAAAAAAAAAAAAAAAAAAAAAAAAAAAAAAAAAAAAAAAAAAAAAAAAAAAAAAAAAAAAAAAAAAAAAAAAAAAAAAAAAAAAAAAAAAAAAAAAAAAAAAAAAAAAAAAAAAAAAAAAAAAAAAAAAAAAAAAAAAAAAAAAAAAAAAAAAAAAAAAAAAAAAAAAAAAAAAAAAAAAAAAAAAAAAAAAAAAAAAAAAAAAAAAAAAAAAAAAAAAAAAAAAAAAAAAAAAAAAAAAAAAAAAAAAAAAAAAAAAAAAAAAAAAAAAAAAAAAAAAAAAAAAAAAAAAAAAAAAAAAAAAAAAAAAAAAAAAAAAAAAAAAAAAAAAAAAAAAAAAAAAAAAAAAAAAAAAAAAAAAAAAAAAAAAAAAAAAAAAAAAAAAAAAAAAAAAAAAAAAAAAAAAAAAAAAAAAAAAAAAAAAAAAAAAAAAAAAAAAAAAAAAAAAAAAAAAAAAAAAAAAAAAAAAAAAAAAAAAAAAAAAAAAAAAAAAAAAAAAAAAAAAAAAAAAAAAAAAAAAAAAAAAAAAAAAAAAAAAAAAAAAAAAAAAAAAAAAAAAAAAAAAAAAAAAAAAAAAAAAAAAAAAAAAAAAAAAAAAAAAAAAAAAAAAAAAAAAAAAAAAAAAAAAAAAAAAAAAAAAAAAAAAAAAAAAAAAAAAAAAAAAAAAAAAAAAAAAAAAAAAAAAAAAAAAAAAAAAAAAAAAAAAAAAAAAAAAAAAAAAAAAAAAAAAAAAAAAAAAAAAAAAAAAAAAAAAAAAAAAAAAAAAAAAAAAAAAAAAAAAAAAAAAAAAAAAAAAAAAAAAAAAAAAAAAAAAAAAAAAAAAAAAAAAAAAAAAAAAAAAAAAAAAAAAAAAAAAAAAAAAAAAAAAAAAAAAAAAAAAAAAAAAAAAAAAAAAAAAAAAAAAAAAAAAAAAAAAAAAAAAAAAAAAAAAAAAAAAAAAAAAAAAAAAAAAAAAAAAAAAAAAAAAAAAAAAAAAAAAAAAAAAAAAAAAAAAAAAAAAAAAAAAAAAAAAAAAAAAAAAAAAAAAAAAAAAAAAAAAAAAAAAAAAAAAAAAAAAAAAAAAAAAAAAAAAAAAAAAAAAAAAAAAAAAAAAAAAAAAAAAAAAAAAAAAAAAAAAAAAAAAAAAAAAAAAAAAAAAAAAAAAAAAAAAAAAAAAAAAAAAAAAAAAAAAAAAAAAAAAAAAAAAAAAAAAAAAAAAAAAAAAAAAAAAAAAAAAAAAAAAAAAAAAAAAAAAAAAAAAAAAAAAAAAAAAAAAAAAAAAAAAAAAAAAAAAAAAAAAAAAAAAAAAAAAAAAAAAAAAAAAAAAAAAAAAAAAAAAAAAAAAAAAAAAAAAAAAAAAAAAAAAAAAAAAAAAAAAAAAAAAAAAAAAAAAAAAAAAAAAAAAAAAAAAAAAAAAAAAAAAAAAAAAAAAAAAAAAAAAAAAAAAAAAAAAAAAAAAAAAAAAAAAAAAAAAAAAAAAAAAAAAAAAAAAAAAAAAAAAAAAAAAAAAAAAAAAAAAAAAAAAAAAAAAAAAAAAAAAAAAAAAAAAAAAAAAAAAAAAAAAAAAAAAAAAAAAAAAAAAAAAAAAAAAAAAAAAAAAAAAAAAAAAAAAAAAAAAAAAAAAAAAAAAAAAAAAAAAAAAAAAAAAAAAAAAAAAAAAAAAAAAAAAAAAAAAAAAAAAAAAAAAAAAAAAAAAAAAAAAAAAAAAAAAAAAAAAAAAAAAAAAAAAAAAAAAAAAAAAAAAAAAAAAAAAAAAAAAAAAAAAAAAAAAAAAAAAAAAAAAAAAAAAAAAAAAAAAAAAAAAAAAAAAAAAAAAAAAAAAAAAAAAAAAAAAAAAAAAAAAAAAAAAAAAAAAAAAAAAAAAAAAAAAAAAAAAAAAAAAAAAAAAAAAAAAAAAAAAAAAAAAAAAAAAAAAAAAAAAAAAAAAAAAAAAAAAAAAAAAAAAAAAAAAAAAAAAAAAAAAAAAAAAAAAAAAAAAAAAAAAAAAAAAAAAAAAAAAAAAAAAAAAAAAAAAAAAAAAAAAAAAAAAAAAAAAAAAAAAAAAAAAAAAAAAAAAAAAAAAAAAAAAAAAAAAAAAAAAAAAAAAAAAAAAAAAAAAAAAAAAAAAAAAAAAAAAAAAAAAAAAAAAAAAAAAAAAAAAAAAAAAAAAAAAAAAAAAAAAAAAAAAAAAAAAAAAAAAAAAAAAAAAAAAAAAAAAAAAAAAAAAAAAAAAAAAAAAAAAAAAAAAAAAAAAAAAAAAAAAAAAAAAAAAAAAAAAAAAAAAAAAAAAAAAAAAAAAAAAAAAAAAAAAAAAAAAAAAAAAAAAAAAAAAAAAAAAAAAAAAAAAAAAAAAAAAAAAAAAAAAAAAAAAAAAAAAAAAAAAAAAAAAAAAAAAAAAAAAAAAAAAAAAAAAAAAAAAAAAAAAAAAAAAAAAAAAAAAAAAAAAAAAAAAAAAAAAAAAAAAAAAAAAAAAAAAAAAAAAAAAAAAAAAAAAAAAAAAAAAAAAAAAAAAAAAAAAAAAAAAAAAAAAAAAAAAAAAAAAAAAAAAAAAAAAAAAAAAAAAAAAAAAAAAAAAAAAAAAAAAAAAAAAAAAAAAAAAAAAAAAAAAAAAAAAAAAAAAAAAAAAAAAAAAAAAAAAAAAAAAAAAAAAAAAAAAAAAAAAAAAAAAAAAAAAAAAAAAAAAAAAAAAAAAAAAAAAAAAAAAAAAAAAAAAAAAAAAAAAAAAAAAAAAAAAAAAAAAAAAAAAAAAAAAAAAAAAAAAAAAAAAAAAAAAAAAAAAAAAAAAAAAAAAAAAAAAAAAAAAAAAAAAAAAAAAAAAAAAAAAAAAAAAAAAAAAAAAAAAAAAAAAAAAAAAAAAAAAAAAAAAAAAAAAAAAAAAAAAAAAAAAAAAAAAAAAAAAAAAAAAAAAAAAAAAAAAAAAAAAAAAAAAAAAAAAAAAAAAAAAAAAAAAAAAAAAAAAAAAAAAAAAAAAAAAAAAAAAAAAAAAAAAAAAAAAAAAAAAAAAAAAAAAAAAAAAAAAAAAAAAAAAAAAAAAAAAAAAAAAAAAAAAAAAAAAAAAAAAAAAAAAAAAAAAAAAAAAAAAAAAAAAAAAAAAAAAAAAAAAAAAAAAAAAAAAAAAAAAAAAAAAAAAAAAAAAAAAAAAAAAAAAAAAAAAAAAAAAAAAAAAAAAAAAAAAAAAAAAAAAAAAAAAAAAAAAAAAAAAAAAAAAAAAAAAAAAAAAAAAAAAAAAAAAAAAAAAAAAAAAAAAAAAAAAAAAAAAAAAAAAAAAAAAAAAAAAAAAAAAAAAAAAAAAAAAAAAAAAAAAAAAAAAAAAAAAAAAAAAAAAAAAAAAAAAAAAAAAAAAAAAAAAAAAAAAAAAAAAAAAAAAAAAAAAAAAAAAAAAAAAAAAAAAAAAAAAAAAAAAAAAAAAAAAAAAAAAAAAAAAAAAAAAAAAAAAAAAAAAAAAAAAAAAAAAAAAAAAAAAAAAAAAAAAAAAAAAAAAAAAAAAAAAAAAAAAAAAAAAAAAAAAAAAAAAAAAAAAAAAAAAAAAAAAAAAAAAAAAAAAAAAAAAAAAAAAAAAAAAAAAAAAAAAAAAAAAAAAAAAAAAAAAAAAAAAAAAAAAAAAAAAAAAAAAAAAAAAAAAAAAAAAAAAAAAAAAAAAAAAAAAAAAAAAAAAAAAAAAAAAAAAAAAAAAAAAAAAAAAAAAAAAAAAAAAAAAAAAAAAAAAAAAAAAAAAAAAAAAAAAAAAAAAAAAAAAAAAAAAAAAAAAAAAAAAAAAAAAAAAAAAAAAAAAAAAAAAAAAAAAAAAAAAAAAAAAAAAAAAAAAAAAAAAAAAAAAAAAAAAAAAAAAAAAAAAAAAAAAAAAAAAAAAAAAAAAAAAAAAAAAAAAAAAAAAAAAAAAAAAAAAAAAAAAAAAAAAAAAAAAAAAAAAAAAAAAAAAAAAAAAAAAAAAAAAAAAAAAAAAAAAAAAAAAAAAAAAAAAAAAAAAAAAAAAAAAAAAAAAAAAAAAAAAAAAAAAAAAAAAAAAAAAAAAAAAAAAAAAAAAAAAAAAAAAAAAAAAAAAAAAAAAAAAAAAAAAAAAAAAAAAAAAAAAAAAAAAAAAAAAAAAAAAAAAAAAAAAAAAAAAAAAAAAAAAAAAAAAAAAAAAAAAAAAAAAAAAAAAAAAAAAAAAAAAAAAAAAAAAAAAAAAAAAAAAAAAAAAAAAAAAAAAAAAAAAAAAAAAAAAAAAAAAAAAAAAAAAAAAAAAAAAAAAAAAAAAAAAAAAAAAAAAAAAAAAAAAAAAAAAAAAAAAAAAAAAAAAAAAAAAAAAAAAAAAAAAAAAAAAAAAAAAAAAAAAAAAAAAAAAAAAAAAAAAAAAAAAAAAAAAAAAAAAAAAAAAAAAAAAAAAAAAAAAAAAAAAAAAAAAAAAAAAAAAAAAAAAAAAAAAAAAAAAAAAAAAAAAAAAAAAAAAAAAAAAAAAAAAAAAAAAAAAAAAAAAAAAAAAAAAAAAAAAAAAAAAAAAAAAAAAAAAAAAAAAAAAAAAAAAAAAAAAAAAAAAAAAAAAAAAAAAAAAAAAAAAAAAAAAAAAAAAAAAAAAAAAAAAAAAAAAAAAAAAAAAAAAAAAAAAAAAAAAAAAAAAAAAAAAAAAAAAAAAAAAAAAAAAAAAAAAAAAAAAAAAAAAAAAAAAAAAAAAAAAAAAAAAAAAAAAAAAAAAAAAAAAAAAAAAAAAAAAAAAAAAAAAAAAAAAAAAAAAAAAAAAAAAAAAAAAAAAAAAAAAAAAAAAAAAAAAAAAAAAAAAAAAAAAAAAAAAAAAAAAAAAAAAAAAAAAAAAAAAAAAAAAAAAAAAAAAAAAAAAAAAAAAAAAAAAAAAAAAAAAAAAAAAAAAAAAAAAAAAAAAAAAAAAAAAAAAAAAAAAAAAAAAAAAAAAAAAAAAAAAAAAAAAAAAAAAAAAAAAAAAAAAAAAAAAAAAAAAAAAAAAAAAAAAAAAAAAAAAAAAAAAAAAAAAAAAAAAAAAAAAAAAAAAAAAAAAAAAAAAAAAAAAAAAAAAAAAAAAAAAAAAAAAAAAAAAAAAAAAAAAAAAAAAAAAAAAAAAAAAAAAAAAAAAAAAAAAAAAAAAAAAAAAAAAAAAAAAAAAAAAAAAAAAAAAAAAAAAAAAAAAAAAAAAAAAAAAAAAAAAAAAAAAAAAAAAAAAAAAAAAAAAAAAAAAAAAAAAAAAAAAAAAAAAAAAAAAAAAAAAAAAAAAAAAAAAAAAAAAAAAAAAAAAAAAAAAAAAAAAAAAAAAAAAAAAAAAAAAAAAAAAAAAAAAAAAAAAAAAAAAAAAAAAAAAAAAAAAAAAAAAAAAAAAAAAAAAAAAAAAAAAAAAAAAAAAAAAAAAAAAAAAAAAAAAAAAAAAAAAAAAAAAAAAAAAAAAAAAAAAAAAAAAAAAAAAAAAAAAAAAAAAAAAAAAAAAAAAAAAAAAAAAAAAAAAAAAAAAAAAAAAAAAAAAAAAAAAAAAAAAAAAAAAAAAAAAAAAAAAAAAAAAAAAAAAAAAAAAAAAAAAAAAAAAAAAAAAAAAAAAAAAAAAAAAAAAAAAAAAAAAAAAAAAAAAAAAAAAAAAAAAAAAAAAAAAAAAAAAAAAAAAAAAAAAAAAAAAAAAAAAAAAAAAAAAAAAAAAAAAAAAAAAAAAAAAAAAAAAAAAAAAAAAAAAAAAAAAAAAAAAAAAAAAAAAAAAAAAAAAAAAAAAAAAAAAAAAAAAAAAAAAAAAAAAAAAAAAAAAAAAAAAAAAAAAAAAAAAAAAAAAAAAAAAAAAAAAAAAAAAAAAAAAAAAAAAAAAAAAAAAAAAAAAAAAAAAAAAAAAAAAAAAAAAAAAAAAAAAAAAAAAAAAAAAAAAAAAAAAAAAAAAAAAAAAAAAAAAAAAAAAAAAAAAAAAAAAAAAAAAAAAAAAAAAAAAAAAAAAAAAAAAAAAAAAAAAAAAAAAAAAAAAAAAAAAAAAAAAAAAAAAAAAAAAAAAAAAAAAAAAAAAAAAAAAAAAAAAAAAAAAAAAAAAAAAAAAAAAAAAAAAAAAAAAAAAAAAAAAAAAAAAAAAAAAAAAAAAAAAAAAAAAAAAAAAAAAAAAAAAAAAAAAAAAAAAAAAAAAAAAAAAAAAAAAAAAAAAAAAAAAAAAAAAAAAAAAAAAAAAAAAAAAAAAAAAAAAAAAAAAAAAAAAAAAAAAAAAAAAAAAAAAAAAAAAAAAAAAAAAAAAAAAAAAAAAAAAAAAAAAAAAAAAAAAAAAAAAAAAAAAAAAAAAAAAAAAAAAAAAAAAAAAAAAAAAAAAAAAAAAAAAAAAAAAAAAAAAAAAAAAAAAAAAAAAAAAAAAAAAAAAAAAAAAAAAAAAAAAAAAAAAAAAAAAAAAAAAAAAAAAAAAAAAAAAAAAAAAAAAAAAAAAAAAAAAAAAAAAAAAAAAAAAAAAAAAAAAAAAAAAAAAAAAAAAAAAAAAAAAAAAAAAAAAAAAAAAAAAAAAAAAAAAAAAAAAAAAAAAAAAAAAAAAAAAAAAAAAAAAAAAAAAAAAAAAAAAAAAAAAAAAAAAAAAAAAAAAAAAAAAAAAAAAAAAAAAAAAAAAAAAAAAAAAAAAAAAAAAAAAAAAAAAAAAAAAAAAAAAAAAAAAAAAAAAAAAAAAAAAAAAAAAAAAAAAAAAAAAAAAAAAAAAAAAAAAAAAAAAAAAAAAAAAAAAAAAAAAAAAAAAAAAAAAAAAAAAAAAAAAAAAAAAAAAAAAAAAAAAAAAAAAAAAAAAAAAAAAAAAAAAAAAAAAAAAAAAAAAAAAAAAAAAAAAAAAAAAAAAAAAAAAAAAAAAAAAAAAAAAAAAAAAAAAAAAAAAAAAAAAAAAAAAAAAAAAAAAAAAAAAAAAAAAAAAAAAAAAAAAAAAAAAAAAAAAAAAAAAAAAAAAAAAAAAAAAAAAAAAAAAAAAAAAAAAAAAAAAAAAAAAAAAAAAAAAAAAAAAAAAAAAAAAAAAAAAAAAAAAAAAAAAAAAAAAAAAAAAAAAAAAAAAAAAAAAAAAAAAAAAAAAAAAAAAAAAAAAAAAAAAAAAAAAAAAAAAAAAAAAAAAAAAAAAAAAAAAAAAAAAAAAAAAAAAAAAAAAAAAAAAAAAAAAAAAAAAAAAAAAAAAAAAAAAAAAAAAAAAAAAAAAAAAAAAAAAAAAAAAAAAAAAAAAAAAAAAAAAAAAAAAAAAAAAAAAAAAAAAAAAAAAAAAAAAAAAAAAAAAAAAAAAAAAAAAAAAAAAAAAAAAAAAAAAAAAAAAAAAAAAAAAAAAAAAAAAAAAAAAAAAAAAAAAAAAAAAAAAAAAAAAAAAAAAAAAAAAAAAAAAAAAAAAAAAAAAAAAAAAAAAAAAAAAAAAAAAAAAAAAAAAAAAAAAAAAAAAAAAAAAAAAAAAAAAAAAAAAAAAAAAAAAAAAAAAAAAAAAAAAAAAAAAAAAAAAAAAAAAAAAAAAAAAAAAAAAAAAAAAAAAAAAAAAAAAAAAAAAAAAAAAAAAAAAAAAAAAAAAAAAAAAAAAAAAAAAAAAAAAAAAAAAAAAAAAAAAAAAAAAAAAAAAAAAAAAAAAAAAAAAAAAAAAAAAAAAAAAAAAAAAAAAAAAAAAAAAAAAAAAAAAAAAAAAAAAAAAAAAAAAAAAAAAAAAAAAAAAAAAAAAAAAAAAAAAAAAAAAAAAAAAAAAAAAAAAAAAAAAAAAAAAAAAAAAAAAAAAAAAAAAAAAAAAAAAAAAAAAAAAAAAAAAAAAAAAAAAAAAAAAAAAAAAAAAAAAAAAAAAAAAAAAAAAAAAAAAAAAAAAAAAAAAAAAAAAAAAAAAAAAAAAAAAAAAAAAAAAAAAAAAAAAAAAAAAAAAAAAAAAAAAAAAAAAAAAAAAAAAAAAAAAAAAAAAAAAAAAAAAAAAAAAAAAAAAAAAAAAAAAAAAAAAAAAAAAAAAAAAAAAAAAAAAAAAAAAAAAAAAAAAAAAAAAAAAAAAAAAAAAAAAAAAAAAAAAAAAAAAAAAAAAAAAAAAAAAAAAAAAAAAAAAAAAAAAAAAAAAAAAAAAAAAAAAAAAAAAAAAAAAAAAAAAAAAAAAAAAAAAAAAAAAAAAAAAAAAAAAAAAAAAAAAAAAAAAAAAAAAAAAAAAAAAAAAAAAAAAAAAAAAAAAAAAAAAAAAAAAAAAAAAAAAAAAAAAAAAAAAAAAAAAAAAAAAAAAAAAAAAAAAAAAAAAAAAAAAAAAAAAAAAAAAAAAAAAAAAAAAAAAAAAAAAAAAAAAAAAAAAAAAAAAAAAAAAAAAAAAAAAAAAAAAAAAAAAAAAAAAAAAAAAAAAAAAAAAAAAAAAAAAAAAAAAAAAAAAAAAAAAAAAAAAAAAAAAAAAAAAAAAAAAAAAAAAAAAAAAAAAAAAAAAAAAAAAAAAAAAAAAAAAAAAAAAAAAAAAAAAAAAAAAAAAAAAAAAAAAAAAAAAAAAAAAAAAAAAAAAAAAAAAAAAAAAAAAAAAAAAAAAAAAAAAAAAAAAAAAAAAAAAAAAAAAAAAAAAAAAAAAAAAAAAAAAAAAAAAAAAAAAAAAAAAAAAAAAAAAAAAAAAAAAAAAAAAAAAAAAAAAAAAAAAAAAAAAAAAAAAAAAAAAAAAAAAAAAAAAAAAAAAAAAAAAAAAAAAAAAAAAAAAAAAAAAAAAAAAAAAAAAAAAAAAAAAAAAAAAAAAAAAAAAAAAAAAAAAAAAAAAAAAAAAAAAAAAAAAAAAAAAAAAAAAAAAAAAAAAAAAAAAAAAAAAAAAAAAAAAAAAAAAAAAAAAAAAAAAAAAAAAAAAAAAAAAAAAAAAAAAAAAAAAAAAAAAAAAAAAAAAAAAAAAAAAAAAAAAAAAAAAAAAAAAAAAAAAAAAAAAAAAAAAAAAAAAAAAAAAAAAAAAAAAAAAAAAAAAAAAAAAAAAAAAAAAAAAAAAAAAAAAAAAAAAAAAAAAAAAAAAAAAAAAAAAAAAAAAAAAAAAAAAAAAAAAAAAAAAAAAAAAAAAAAAAAAAAAAAAAAAAAAAAAAAAAAAAAAAAAAAAAAAAAAAAAAAAAAAAAAAAAAAAAAAAAAAAAAAAAAAAAAAAAAAAAAAAAAAAAAAAAAAAAAAAAAAAAAAAAAAAAAAAAAAAAAAAAAAAAAAAAAAAAAAAAAAAAAAAAAAAAAAAAAAAAAAAAAAAAAAAAAAAAAAAAAAAAAAAAAAAAAAAAAAAAAAAAAAAAAAAAAAAAAAAAAAAAAAAAAAAAAAAAAAAAAAAAAAAAAAAAAAAAAAAAAAAAAAAAAAAAAAAAAAAAAAAAAAAAAAAAAAAAAAAAAAAAAAAAAAAAAAAAAAAAAAAAAAAAAAAAAAAAAAAAAAAAAAAAAAAAAAAAAAAAAAAAAAAAAAAAAAAAAAAAAAAAAAAAAAAAAAAAAAAAAAAAAAAAAAAAAAAAAAAAAAAAAAAAAAAAAAAAAAAAAAAAAAAAAAAAAAAAAAAAAAAAAAAAAAAAAAAAAAAAAAAAAAAAAAAAAAAAAAAAAAAAAAAAAAAAAAAAAAAAAAAAAAAAAAAAAAAAAAAAAAAAAAAAAAAAAAAAAAAAAAAAAAAAAAAAAAAAAAAAAAAAAAAAAAAAAAAAAAAAAAAAAAAAAAAAAAAAAAAAAAAAAAAAAAAAAAAAAAAAAAAAAAAAAAAAAAAAAAAAAAAAAAAAAAAAAAAAAAAAAAAAAAAAAAAAAAAAAAAAAAAAAAAAAAAAAAAAAAAAAAAAAAAAAAAAAAAAAAAAAAAAAAAAAAAAAAAAAAAAAAAAAAAAAAAAAAAAAAAAAAAAAAAAAAAAAAAAAAAAAAAAAAAAAAAAAAAAAAAAAAAAAAAAAAAAAAAAAAAAAAAAAAAAAAAAAAAAAAAAAAAAAAAAAAAAAAAAAAAAAAAAAAAAAAAAAAAAAAAAAAAAAAAAAAAAAAAAAAAAAAAAAAAAAAAAAAAAAAAAAAAAAAAAAAAAAAAAAAAAAAAAAAAAAAAAAAAAAAAAAAAAAAAAAAAAAAAAAAAAAAAAAAAAAAAAAAAAAAAAAAAAAAAAAAAAAAAAAAAAAAAAAAAAAAAAAAAAAAAAAAAAAAAAAAAAAAAAAAAAAAAAAAAAAAAAAAAAAAAAAAAAAAAAAAAAAAAAAAAAAAAAAAAAAAAAAAAAAAAAAAAAAAAAAAAAAAAAAAAAAAAAAAAAAAAAAAAAAAAAAAAAAAAAAAAAAAAAAAAAAAAAAAAAAAAAAAAAAAAAAAAAAAAAAAAAAAAAAAAAAAAAAAAAAAAAAAAAAAAAAAAAAAAAAAAAAAAAAAAAAAAAAAAAAAAAAAAAAAAAAAAAAAAAAAAAAAAAAAAAAAAAAAAAAAAAAAAAAAAAAAAAAAAAAAAAAAAAAAAAAAAAAAAAAAAAAAAAAAAAAAAAAAAAAAAAAAAAAAAAAAAAAAAAAAAAAAAAAAAAAAAAAAAAAAAAAAAAAAAAAAAAAAAAAAAAAAAAAAAAAAAAAAAAAAAAAAAAAAAAAAAAAAAAAAAAAAAAAAAAAAAAAAAAAAAAAAAAAAAAAAAAAAAAAAAAAAAAAAAAAAAAAAAAAAAAAAAAAAAAAAAAAAAAAAAAAAAAAAAAAAAAAAAAAAAAAAAAAAAAAAAAAAAAAAAAAAAAAAAAAAAAAAAAAAAAAAAAAAAAAAAAAAAAAAAAAAAAAAAAAAAAAAAAAAAAAAAAAAAAAAAAAAAAAAAAAAAAAAAAAAAAAAAAAAAAAAAAAAAAAAAAAAAAAAAAAAAAAAAAAAAAAAAAAAAAAAAAAAAAAAAAAAAAAAAAAAAAAAAAAAAAAAAAAAAAAAAAAAAAAAAAAAAAAAAAAAAAAAAAAAAAAAAAAAAAAAAAAAAAAAAAAAAAAAAAAAAAAAAAAAAAAAAAAAAAAAAAAAAAAAAAAAAAAAAAAAAAAAAAAAAAAAAAAAAAAAAAAAAAAAAAAAAAAAAAAAAAAAAAAAAAAAAAAAAAAAAAAAAAAAAAAAAAAAAAAAAAAAAAAAAAAAAAAAAAAAAAAAAAAAAAAAAAAAAAAAAAAAAAAAAAAAAAAAAAAAAAAAAAAAAAAAAAAAAAAAAAAAAAAAAAAAAAAAAAAAAAAAAAAAAAAAAAAAAAAAAAAAAAAAAAAAAAAAAAAAAAAAAAAAAAAAAAAAAAAAAAAAAAAAAAAAAAAAAAAAAAAAAAAAAAAAAAAAAAAAAAAAAAAAAAAAAAAAAAAAAAAAAAAAAAAAAAAAAAAAAAAAAAAAAAAAAAAAAAAAAAAAAAAAAAAAAAAAAAAAAAAAAAAAAAAAAAAAAAAAAAAAAAAAAAAAAAAAAAAAAAAAAAAAAAAAAAAAAAAAAAAAAAAAAAAAAAAAAAAAAAAAAAAAAAAAAAAAAAAAAAAAAAAAAAAAAAAAAAAAAAAAAAAAAAAAAAAAAAAAAAAAAAAAAAAAAAAAAAAAAAAAAAAAAAAAAAAAAAAAAAAAAAAAAAAAAAAAAAAAAAAAAAAAAAAAAAAAAAAAAAAAAAAAAAAAAAAAAAAAAAAAAAAAAAAAAAAAAAAAAAAAAAAAAAAAAAAAAAAAAAAAAAAAAAAAAAAAAAAAAAAAAAAAAAAAAAAAAAAAAAAAAAAAAAAAAAAAAAAAAAAAAAAAAAAAAAAAAAAAAAAAAAAAAAAAAAAAAAAAAAAAAAAAAAAAAAAAAAAAAAAAAAAAAAAAAAAAAAAAAAAAAAAAAAAAAAAAAAAAAAAAAAAAAAAAAAAAAAAAAAAAAAAAAAAAAAAAAAAAAAAAAAAAAAAAAAAAAAAAAAAAAAAAAAAAAAAAAAAAAAAAAAAAAAAAAAAAAAAAAAAAAAAAAAAAAAAAAAAAAAAAAAAAAAAAAAAAAAAAAAAAAAAAAAAAAAAAAAAAAAAAAAAAAAAAAAAAAAAAAAAAAAAAAAAAAAAAAAAAAAAAAAAAAAAAAAAAAAAAAAAAAAAAAAAAAAAAAAAAAAAAAAAAAAAAAAAAAAAAAAAAAAAAAAAAAAAAAAAAAAAAAAAAAAAAAAAAAAAAAAAAAAAAAAAAAAAAAAAAAAAAAAAAAAAAAAAAAAAAAAAAAAAAAAAAAAAAAAAAAAAAAAAAAAAAAAAAAAAAAAAAAAAAAAAAAAAAAAAAAAAAAAAAAAAAAAAAAAAAAAAAAAAAAAAAAAAAAAAAAAAAAAAAAAAAAAAAAAAAAAAAAAAAAAAAAAAAAAAAAAAAAAAAAAAAAAAAAAAAAAAAAAAAAAAAAAAAAAAAAAAAAAAAAAAAAAAAAAAAAAAAAAAAAAAAAAAAAAAAAAAAAAAAAAAAAAAAAAAAAAAAAAAAAAAAAAAAAAAAAAAAAAAAAAAAAAAAAAAAAAAAAAAAAAAAAAAAAAAAAAAAAAAAAAAAAAAAAAAAAAAAAAAAAAAAAAAAAAAAAAAAAAAAAAAAAAAAAAAAAAAAAAAAAAAAAAAAAAAAAAAAAAAAAAAAAAAAAAAAAAAAAAAAAAAAAAAAAAAAAAAAAAAAAAAAAAAAAAAAAAAAAAAAAAAAAAAAAAAAAAAAAAAAAAAAAAAAAAAAAAAAAAAAAAAAAAAAAAAAAAAAAAAAAAAAAAAAAAAAAAAAAAAAAAAAAAAAAAAAAAAAAAAAAAAAAAAAAAAAAAAAAAAAAAAAAAAAAAAAAAAAAAAAAAAAAAAAAAAAAAAAAAAAAAAAAAAAAAAAAAAAAAAAAAAAAAAAAAAAAAAAAAAAAAAAAAAAAAAAAAAAAAAAAAAAAAAAAAAAAAAAAAAAAAAAAAAAAAAAAAAAAAAAAAAAAAAAAAAAAAAAAAAAAAAAAAAAAAAAAAAAAAAAAAAAAAAAAAAAAAAAAAAAAAAAAAAAAAAAAAAAAAAAAAAAAAAAAAAAAAAAAAAAAAAAAAAAAAAAAAAAAAAAAAAAAAAAAAAAAAAAAAAAAAAAAAAAAAAAAAAAAAAAAAAAAAAAAAAAAAAAAAAAAAAAAAAAAAAAAAAAAAAAAAAAAAAAAAAAAAAAAAAAAAAAAAAAAAAAAAAAAAAAAAAAAAAAAAAAAAAAAAAAAAAAAAAAAAAAAAAAAAAAAAAAAAAAAAAAAAAAAAAAAAAAAAAAAAAAAAAAAAAAAAAAAAAAAAAAAAAAAAAAAAAAAAAAAAAAAAAAAAAAAAAAAAAAAAAAAAAAAAAAAAAAAAAAAAAAAAAAAAAAAAAAAAAAAAAAAAAAAAAAAAAAAAAAAAAAAAAAAAAAAAAAAAAAAAAAAAAAAAAAAAAAAAAAAAAAAAAAAAAAAAAAAAAAAAAAAAAAAAAAAAAAAAAAAAAAAAAAAAAAAAAAAAAAAAAAAAAAAAAAAAAAAAAAAAAAAAAAAAAAAAAAAAAAAAAAAAAAAAAAAAAAAAAAAAAAAAAAAAAAAAAAAAAAAAAAAAAAAAAAAAAAAAAAAAAAAAAAAAAAAAAAAAAAAAAAAAAAAAAAAAAAAAAAAAAAAAAAAAAAAAAAAAAAAAAAAAAAAAAAAAAAAAAAAAAAAAAAAAAAAAAAAAAAAAAAAAAAAAAAAAAAAAAAAAAAAAAAAAAAAAAAAAAAAAAAAAAAAAAAAAAAAAAAAAAAAAAAAAAAAAAAAAAAAAAAAAAAAAAAAAAAAAAAAAAAAAAAAAAAAAAAAAAAAAAAAAAAAAAAAAAAAAAAAAAAAAAAAAAAAAAAAAAAAAAAAAAAAAAAAAAAAAAAAAAAAAAAAAAAAAAAAAAAAAAAAAAAAAAAAAAAAAAAAAAAAAAAAAAAAAAAAAAAAAAAAAAAAAAAAAAAAAAAAAAAAAAAAAAAAAAAAAAAAAAAAAAAAAAAAAAAAAAAAAAAAAAAAAAAAAAAAAAAAAAAAAAAAAAAAAAAAAAAAAAAAAAAAAAAAAAAAAAAAAAAAAAAAAAAAAAAAAAAAAAAAAAAAAAAAAAAAAAAAAAAAAAAAAAAAAAAAAAAAAAAAAAAAAAAAAAAAAAAAAAAAAAAAAAAAAAAAAAAAAAAAAAAAAAAAAAAAAAAAAAAAAAAAAAAAAAAAAAAAAAAAAAAAAAAAAAAAAAAAAAAAAAAAAAAAAAAAAAAAAAAAAAAAAAAAAAAAAAAAAAAAAAAAAAAAAAAAAAAAAAAAAAAAAAAAAAAAAAAAAAAAAAAAAAAAAAAAAAAAAAAAAAAAAAAAAAAAAAAAAAAAAAAAAAAAAAAAAAAAAAAAAAAAAAAAAAAAAAAAAAAAAAAAAAAAAAAAAAAAAAAAAAAAAAAAAAAAAAAAAAAAAAAAAAAAAAAAAAAAAAAAAAAAAAAAAAAAAAAAAAAAAAAAAAAAAAAAAAAAAAAAAAAAAAAAAAAAAAAAAAAAAAAAAAAAAAAAAAAAAAAAAAAAAAAAAAAAAAAAAAAAAAAAAAAAAAAAAAAAAAAAAAAAAAAAAAAAAAAAAAAAAAAAAAAAAAAAAAAAAAAAAAAAAAAAAAAAAAAAAAAAAAAAAAAAAAAAAAAAAAAAAAAAAAAAAAAAAAAAAAAAAAAAAAAAAAAAAAAAAAAAAAAAAAAAAAAAAAAAAAAAAAAAAAAAAAAAAAAAAAAAAAAAAAAAAAAAAAAAAAAAAAAAAAAAAAAAAAAAAAAAAAAAAAAAAAAAAAAAAAAAAAAAAAAAAAAAAAAAAAAAAAAAAAAAAAAAAAAAAAAAAAAAAAAAAAAAAAAAAAAAAAAAAAAAAAAAAAAAAAAAAAAAAAAAAAAAAAAAAAAAAAAAAAAAAAAAAAAAAAAAAAAAAAAAAAAAAAAAAAAAAAAAAAAAAAAAAAAAAAAAAAAAAAAAAAAAAAAAAAAAAAAAAAAAAAAAAAAAAAAAAAAAAAAAAAAAAAAAAAAAAAAAAAAAAAAAAAAAAAAAAAAAAAAAAAAAAAAAAAAAAAAAAAAAAAAAAAAAAAAAAAAAAAAAAAAAAAAAAAAAAAAAAAAAAAAAAAAAAAAAAAAAAAAAAAAAAAAAAAAAAAAAAAAAAAAAAAAAAAAAAAAAAAAAAAAAAAAAAAAAAAAAAAAAAAAAAAAAAAAAAAAAAAAAAAAAAAAAAAAAAAAAAAAAAAAAAAAAAAAAAAAAAAAAAAAAAAAAAAAAAAAAAAAAAAAAAAAAAAAAAAAAAAAAAAAAAAAAAAAAAAAAAAAAAAAAAAAAAAAAAAAAAAAAAAAAAAAAAAAAAAAAAAAAAAAAAAAAAAAAAAAAAAAAAAAAAAAAAAAAAAAAAAAAAAAAAAAAAAAAAAAAAAAAAAAAAAAAAAAAAAAAAAAAAAAAAAAAAAAAAAAAAAAAAAAAAAAAAAAAAAAAAAAAAAAAAAAAAAAAAAAAAAAAAAAAAAAAAAAAAAAAAAAAAAAAAAAAAAAAAAAAAAAAAAAAAAAAAAAAAAAAAAAAAAAAAAAAAAAAAAAAAAAAAAAAAAAAAAAAAAAAAAAAAAAAAAAAAAAAAAAAAAAAAAAAAAAAAAAAAAAAAAAAAAAAAAAAAAAAAAAAAAAAAAAAAAAAAAAAAAAAAAAAAAAAAAAAAAAAAAAAAAAAAAAAAAAAAAAAAAAAAAAAAAAAAAAAAAAAAAAAAAAAAAAAAAAAAAAAAAAAAAAAAAAAAAAAAAAAAAAAAAAAAAAAAAAAAAAAAAAAAAAAAAAAAAAAAAAAAAAAAAAAAAAAAAAAAAAAAAAAAAAAAAAAAAAAAAAAAAAAAAAAAAAAAAAAAAAAAAAAAAAAAAAAAAAAAAAAAAAAAAAAAAAAAAAAAAAAAAAAAAAAAAAAAAAAAAAAAAAAAAAAAAAAAAAAAAAAAAAAAAAAAAAAAAAAAAAAAAAAAAAAAAAAAAAAAAAAAAAAAAAAAAAAAAAAAAAAAAAAAAAAAAAAAAAAAAAAAAAAAAAAAAAAAAAAAAAAAAAAAAAAAAAAAAAAAAAAAAAAAAAAAAAAAAAAAAAAAAAAAAAAAAAAAAAAAAAAAAAAAAAAAAAAAAAAAAAAAAAAAAAAAAAAAAAAAAAAAAAAAAAAAAAAAAAAAAAAAAAAAAAAAAAAAAAAAAAAAAAAAAAAAAAAAAAAAAAAAAAAAAAAAAAAAAAAAAAAAAAAAAAAAAAAAAAAAAAAAAAAAAAAAAAAAAAAAAAAAAAAAAAAAAAAAAAAAAAAAAAAAAAAAAAAAAAAAAAAAAAAAAAAAAAAAAAAAAAAAAAAAAAAAAAAAAAAAAAAAAAAAAAAAAAAAAAAAAAAAAAAAAAAAAAAAAAAAAAAAAAAAAAAAAAAAAAAAAAAAAAAAAAAAAAAAAAAAAAAAAAAAAAAAAAAAAAAAAAAAAAAAAAAAAAAAAAAAAAAAAAAAAAAAAAAAAAAAAAAAAAAAAAAAAAAAAAAAAAAAAAAAAAAAAAAAAAAAAAAAAAAAAAAAAAAAAAAAAAAAAAAAAAAAAAAAAAAAAAAAAAAAAAAAAAAAAAAAAAAAAAAAAAAAAAAAAAAAAAAAAAAAAAAAAAAAAAAAAAAAAAAAAAAAAAAAAAAAAAAAAAAAAAAAAAAAAAAAAAAAAAAAAAAAAAAAAAAAAAAAAAAAAAAAAAAAAAAAAAAAAAAAAAAAAAAAAAAAAAAAAAAAAAAAAAAAAAAAAAAAAAAAAAAAAAAAAAAAAAAAAAAAAAAAAAAAAAAAAAAAAAAAAAAAAAAAAAAAAAAAAAAAAAAAAAAAAAAAAAAAAAAAAAAAAAAAAAAAAAAAAAAAAAAAAAAAAAAAAAAAAAAAAAAAAAAAAAAAAAAAAAAAAAAAAAAAAAAAAAAAAAAAAAAAAAAAAAAAAAAAAAAAAAAAAAAAAAAAAAAAAAAAAAAAAAAAAAAAAAAAAAAAAAAAAAAAAAAAAAAAAAAAAAAAAAAAAAAAAAAAAAAAAAAAAAAAAAAAAAAAAAAAAAAAAAAAAAAAAAAAAAAAAAAAAAAAAAAAAAAAAAAAAAAAAAAAAAAAAAAAAAAAAAAAAAAAAAAAAAAAAAAAAAAAAAAAAAAAAAAAAAAAAAAAAAAAAAAAAAAAAAAAAAAAAAAAAAAAAAAAAAAAAAAAAAAAAAAAAAAAAAAAAAAAAAAAAAAAAAAAAAAAAAAAAAAAAAAAAAAAAAAAAAAAAAAAAAAAAAAAAAAAAAAAAAAAAAAAAAAAAAAAAAAAAAAAAAAAAAAAAAAAAAAAAAAAAAAAAAAAAAAAAAAAAAAAAAAAAAAAAAAAAAAAAAAAAAAAAAAAP//AAAAAAAAAAAAAAAAAAABAAAAAAAAAAAAAAAAAAAAAAAAAAAAAAAAAAEAAAAAAAAAAAAAAP//////////AAAAAAAAAQABAAEAAQAAAAAAAAAAAP///////wAAAAAAAAEAAQABAAEAAAAAAAAA///+//7//v8AAAAAAQACAAIAAgACAAEAAAD+//3//f/9//7/AAABAAMABAAEAAMAAgAAAP7//P/8//z//f8AAAEABAAFAAUABAACAAAA/f/7//r/+v/8////AQAEAAYABwAFAAMAAAD8//r/+f/4//v//v8BAAUABwAIAAcAAwAAAPz/+f/3//j/+v/+/wIABQAIAAkABwAEAAAA/P/5//f/9//6//3/AQAFAAgACQAIAAUAAQD9//n/9//4//r//v8BAAUACQAKAAgABQABAP3/+f/3//f/+f/9/wAABAAIAAkACAAFAAEA/v/6//j/+P/5//z/AAADAAcACAAIAAYAAgD///v/+f/4//n/+////wIABQAIAAgABgAEAAAA/f/6//j/+P/6//7/AQAFAAcACQAIAAUAAQD+//r/+P/3//n/+////wMABgAJAAkABwAEAAAA+//4//f/9//6////AgAHAAoACgAJAAYAAQD8//j/9f/1//j//P8AAAYACgAMAAsACAACAP3/+P/0//T/9v/6/wAABgAMAA4ADQAKAAQA/v/2//H/8P/y//f///8GAAwADwAPAAsABAD8//X/8P/u//H/9////wcADgASABIADgAGAP//9v/x/+7/8P/3/wAACAARABUAFQAQAAgA///1/+7/7f/v//b///8IABEAFgAVABAACAD///b/7//t/+//9P/9/wQADAARABEADgAIAAAA+f/0//H/8v/1//v/AAAFAAkACgAKAAcAAwD+//r/9//1//b/+P/7////AQAEAAUABgAGAAQAAQD///z/+f/4//j/+v/9/wAAAgAEAAUABQAEAAEA///8//r/+v/7//z///8BAAMABAAEAAMAAQAAAP///v/+//3//v///wAAAQABAAEAAQAAAAAAAAAAAAAAAAAAAAAAAAAAAAAAAAAAAAAAAAAAAAAAAAAAAAAAAAAAAAAAAAAAAAAAAAAAAAAAAAAAAAAAAAAAAAAAAAAAAAAAAAAAAAAAAAAAAAAAAAAAAAAAAAAAAAAAAAAAAAAAAAAAAAAAAAAAAAAAAAAAAAAAAAAAAAAAAAAAAAAAAAAAAAAAAAAAAAAAAAAAAAAAAAAAAAAAAAAAAAAAAAAAAAAAAAAAAAAAAAAAAAAAAAAAAAAAAAAAAAAAAAAAAAAAAAAAAAAAAAAAAAAAAAAAAAAAAAAAAAAAAAAAAAAAAAAAAAAAAAAAAAAAAAAAAAAAAAAAAAAAAAAAAAAAAAAAAAAAAAAAAAAAAAAAAAAAAAAAAAAAAAAAAAAAAAAAAAAAAAAAAAAAAAAAAAAAAAAAAAAAAAAAAAAAAAAAAAAAAAAAAAAAAAAAAAAAAAAAAAAAAAAAAAAAAAAAAAAAAAAAAAAAAAAAAAAAAAAAAAAAAAAAAAAAAAAAAAAAAAAAAAAAAAAAAAAAAAAAAAAAAAAAAAAAAAAAAAAAAAAAAAAAAAAAAAAAAAAAAAAAAAAAAAAAAAAAAAAAAAAAAAAAAAAAAAAAAAAAAAAAAAAAAAAAAAAAAAAAAAAAAAAAAAAAAAAAAAAAAAAAAAAAAAAAAAAAAAAAAAAAAAAAAAAAAAAAAQABAAIAAQAAAP///P/6//j/+P/6/wAABQAMABEAEwAQAAgA/f/w/+X/3//h/+v/+/8PACIALwAyACgAFAD5/9z/xv+7/8H/1//5/x4AQABVAFYAQwAdAO//wv+h/5X/ov/H//z/NABiAHsAeABXAB8A3/+k/3z/c/+L/8H/BgBNAIMAnACPAGEAGgDM/4j/X/9c/3//wv8UAGIAmwCxAJwAYwARALz/df9O/1H/fP/H/x4AcACoALkAnwBgAAoAs/9t/0n/T/9+/8v/IwB0AKoAuACcAFwABwCy/2//TP9U/4L/zv8jAHAApACyAJcAWgAJALf/df9S/1f/gP/G/xgAZQCbAK8AnABnABwAzf+M/2n/a/+S/9P/GwBdAIgAkgB5AEIA+f+p/2j/Rv9N/37/z/8qAHYAmwCQAFcABACy/3//d/+V/83/CwBBAGkAiwCuANAA6gDwANcAnABDAOT/l/9w/3j/pv/g/wUA/P+8/1//Cv/d/vD+QP+r/wkARQBSADYABwDg/87/0f/l/wAAFgAlADEAQgBYAGwAdwB1AGgAVgBHAEIAPQAoAP7/wv99/z//HP8e/0r/l//z/0cAgQCSAH0AUgAkAAUA+v/7//r/6//I/53/gP99/5v/2P8fAEsARwAMAJ7/H/+5/oj+nP7w/mf/0P8GAPn/rv9N/wP/7/4a/3L/wf/n/9z/of9d/0P/Uv97/7T/xv+x/53/fP+G/8H/BQBwANgAFwEeAfMAyAC0AOEAIgE0ATkBQAE+AWABpwGYASwBrADP/73+Of6O/iT/W//3/uj91vyp/HX9Sf4E/vr7Wvj79IjzVPRQ9pr2DfOk6ybj8N5y41Xy+wjgIIozJD2uPf843TMLMfwwHTIEMrcvrysSJ08j/yB8H/gd9xsqGUIW3xPpETsQSw7MC7gI+wVBBMUC1QEkAUYAqv+C/in9APyi+of5jPiT97X2Jvbd9Z/1tPV+9dj0E/TI8mHxXfDC76XvHPCN8HjwQvB/74ruHe7D7dDtI+4/7jruBe607UPtGO0a7QHtOe1H7RntIe3l7IHsU+wD7MjrHuyU7ETtRu7V7g3vA+957v3tyu3A7QjuiO7s7jLvWO9V71vvdO+q7/3va/Dm8DvxkfHF8c3x/PEQ8jbynPLe8i/zePON867zz/MI9G305/R89QX2fPbb9hn3Tvdv9433v/cB+GH42PhW+cz5QPqc+tb6FPs7+1b7g/u2+/37VvzB/CX9e/3T/QL+MP5r/oH+r/7V/uD+EP8+/3z/5P87AIgAxQDgAOcA6AABASYBWgGdAdMBDQJFAnUCqALeAhMDNwNTA2cDdgOXA8MDBQRVBKAE4QQJBSEFKgU6BWIFiAW8BeYF8wUCBgsGFwY9BmYGhQaSBogGcgZmBnAGkQa/BucG/gYFBwYHFQc6B3EHsAfkBwUIFggkCDoIXwiKCLMIzQjQCMcIugivCLEItwiwCJsIcwg6CAYI2ge/B7QHqwebB30HVwcyBxoHGAckBzYHPgc3BycHGAcZBzEHVAd0B4MHeQddB0IHNQc6B0oHVAdLBywH/gbSBrYGqganBqMGkgZuBkAGFQbzBd4F1gXQBcEFpAV6BUkFGwX3BOEE1ATDBKQEdgQ6BPsDygOsA5oDiwN5A1sDOQMiAx8DLwNNA2gDcQNrA1oDUwNpA5EDwQPsA/ID0QOZA1oDKwMcAykDRQNeA2MDTgMnA/MCvAKLAlUCFQLSAY0BUgE1ATkBUwF4AZIBjAFpATAB7gC5AJoAkACdALwA5wAgAWIBlgGyAaYBZgELAaUASQAbAAwACwAMAOn/pP9M/+j+ov6L/pz+1/4o/23/of+6/6v/if9j/z7/Lv8y/zz/Rf9B/y7/Fv/+/vn+A/8K/w3//P7a/rP+jf6B/pP+uf7u/iP/Tf9n/3H/bf9a/z//Iv8O/wj/A/8A/+b+rf5k/g/+w/2L/WD9Rf0u/R79Gv0k/UX9Y/15/Xv9W/01/RX9Bv0Q/Sf9Q/1W/WP9df2G/Zf9nf2O/XH9RP0f/R79Qv2M/e39SP6K/qX+mv56/k/+H/7z/c39rf2W/X/9bf1o/Wb9b/2G/aH9vv3P/c79vf2c/YD9dv19/Zj9vv3h/fr9BP4D/v/9AP4E/gj+Cv4D/vj98P30/fz9Bv4C/uH9qv1k/ST9//zv/Pr8EP0h/TH9Qf1W/W/9gf2E/Wf9NP0A/dj82fz9/DP9cv2d/bP9vv28/cT9zf3H/a79bv0S/bP8Yvw6/EL8cfy8/BX9a/2x/eH99P3l/bn9dP0j/dn8qPyf/MT8CP1a/ar93/34/f797/3i/d/93f3g/dv90v3R/dj98f0U/j7+ZP57/on+jv6O/o/+jP6H/oH+eP5m/kn+Gv7U/ZH9Xv1D/V79mv3k/TX+cP6V/qn+rP6m/p3+kv6H/or+nP6z/tL+2v7A/pb+X/42/jb+Wv6m/gH/VP+c/9L///8kAEEAUQBNAEUAPQBBAF8AgwCkALYArgCfAI8AjACbAKYArQCnAKIArgDHAPIAFwEhAQ8B2ACXAGMAQgA7ADgAJQAAAMj/k/9+/4n/t//7/y4ARQA+ABIA2/+o/3j/V/9F/z3/Qv9R/2b/ef+C/4L/c/9i/1n/ZP+O/8//KACNAOYANgFxAZABmwGIAV0BHAHMAHsALwD6/9T/vv+5/7j/xv/e//j/EAAcACEAIQAjACsAMQA0ACoAHgAfADAAXwCWAL8AzQCkAGIAHwDr/+v/FABOAJAAtgDCAL0AqgCaAIsAfgBwAF8AVQBJAEEAOgAoABIA9//Z/7//qf+d/5j/qP/O/woAZADAAAgBMQEhAeoAmwBBAPn/x/+r/6r/v//e//z/FAAOAOH/nf9D//b+1P7W/gr/V/+a/9P/9P8EABgALwBOAGUAaABXADUAEwD3/+b/5v/q//L//f8JACMAQwBnAIgAmACSAHgAVgA2ACYAKgBAAGgAlQDBAOwAEQE0AVEBXwFYATsBHAEEAQ0BOAFwAasByQHAAaQBdwFVAUMBMwEjAQMB4ADMAMwA8AAgAUsBYgFPASwBAgHfAOEAAAEuAWcBmQG9AcsBwgGdAWgBLwH5ANUAvwCtAJ4AhgB4AH8AnQDbAA8BKgEgAeQAoQBpAFAAYwB8AJQAmwCQAIsAhwCQAJQAegBOABAA3f/G/8j/6v8TADkAWQBsAH0AigCWAJwAjwB8AGkAYwB4AJYAtADFALUAiQBLAAQAxP+V/3v/dv+O/77/AABNAJIAvgDMALEAeQA1APH/t/+T/4T/hf+a/7n/4v8WAEwAgQCzANYA6QDsANwAvACQAFkAGwDg/6n/fv9n/2D/ZP9x/3z/g/+E/4P/i/+e/8L/8v8aADcAOgAbAO//vf+Q/3n/cP9v/3X/cv9j/1T/SP9D/1T/fv/C/xwAcwC6AOkA7ADQAKIAbABCACgAFwAIAPH/0v+z/53/mP+m/8b/8f8bAD0AVwBnAHAAgwCdAMAA5wD6APoA3wCmAGgAMAAKAAMAEAAtAE0AYABeAFQASABKAGYAkgDHAOwA7QDWAKMAawBIADIALgAxADMAPwBZAJEA1wAYAUcBTAE3ARYB9ADwAPUA9gDqALgAcAAmAOj/z//U/+n/BAATABYAFQAcADIAVQB/AKkAxQDRANAAxgC6ALIAqgCjAJoAiQB7AHMAcgB8AI0AnwCpAK0AsACwAL0A0wDpAAEBDgEPAQkB/QD4APcA9wD5APYA6ADNAKcAegBOAC0AIAAtAEIATgBFABIAzf+I/03/N/85/0X/Uf9P/0v/TP9Z/33/pv/F/9b/zf+w/4f/Wf8j/+/+yv66/tb+H/9+/+T/LgBIADoACgDb/7n/oP+X/4D/WP8z/xf/Iv9Y/6b/+v82AFkAZgBjAFgASQA5ACIADgAIAA4AJAA+AEcANgACALr/eP9K/zz/VP98/6P/xP/Y/+X/8v/+/wsAFQAaAB8ALgBEAFwAcQB0AGsAXgBVAF4AbgB7AHoAYgBEACgAHQAwAEcAUwBIACAA7P+8/5z/mf+t/8f/4f/y////DgAjAD0ATABJADMAEAD6//b/DQA3AFMAYgBaAD4ALwAxAEcAagCBAIkAewBYADAACgDq/8X/m/9z/07/Qv9a/5D/3/81AIEAuADSANEAwwCrAIwAbQBMACgABQDq/9n/0//X/+D/7f/9/xEANABiAJAAugDKALkAjgBLAAMAz/+s/6D/p/+0/8T/1f/v/xcARwB7AK4AzADSAL8AlABbABsA3f+o/4P/bP9p/3z/kv+k/6z/n/+M/4D/gf+d/8v/AAA1AF0AbgBsAFgALgD7/8n/nv+F/4T/kP+l/7D/p/+N/2T/O/8h/xv/K/9P/33/rP/X//X/AAD7/+T/x/+w/6P/p/+9/9r/9f8HAA0AAwDt/83/qf+L/3X/bf91/4n/of+1/8L/y//P/9L/1f/Q/8P/rP+Q/3j/aP9o/3z/mf+0/8b/x/+2/5r/fP9p/2r/e/+g/9T/AQAhACoAEwDh/53/W/8x/yr/Qf91/7L/4f///wkACAALABUAKAA/AE4AVABNADcAGQD4/9P/rf+K/3D/Y/9q/4D/n//B/9//+v8UADEAUABqAHwAfwBtAFEALwANAPH/2P/F/7f/sf+3/8j/5P8HAC4AVQB6AJoAtADKANoA5wD0APoA+wDyANsAuwCYAH0AcQB1AIgAoACzAMAAwACzAJ4AiQB5AHMAdAB3AHoAcABQACMA8f/E/6n/of+v/8n/6v8NADEAUQBmAGsAYgBPAEEAPABIAGMAfACLAIQAYAAtAPX/vf+H/1X/Kv8J//f+/P4T/zr/Z/+R/7T/zf/b/9z/1v/L/77/u//B/9D/5P/v/+z/1v+v/4X/X/9D/zv/Rv9j/4z/vP/n/wgAGwAhACIAHwAbABkAGAAWABcAGwAhACQAJAAZAAYA8P/X/8b/wv/K/9n/6//5//3/9P/a/7H/f/9I/xP/5/7J/r3+xP7j/hj/Xv+t//T/JwBDAEkARAA+AEIAVgBvAIYAlACMAG4AQAALANv/tP+U/3v/ZP9K/zb/Lv86/17/lP/S/wcAMABQAGkAgwCeAK0ArACTAGkANwANAPf/7//x//n/+//9/wgAJQBTAIgAvADhAOoA3gDEAKMAhQBxAGcAZgBjAFkASgA3ACUAIQApADoATABSAEoAMwAVAPv/4v/P/7v/oP+D/2n/WP9W/2P/ef+M/5n/p/+6/9v/DABIAIQArwDAALgAlwBsAD4AFgD3/+T/3v/k//T/CAAeADUASQBdAHEAfgCEAH8AcABaAEIAMQAiABMAAgDr/9X/xf/A/8f/0//c/9r/yf+y/5j/gv9y/2H/Uv9H/0z/ZP+N/8X//f8qAE0AYgBuAHUAdwBvAF0ASAAyACAAGgATAAkA+P/c/7//pP+T/4f/f/96/3X/cv91/3z/h/+P/5D/iP9z/1r/SP9A/0b/Vv9q/3r/hP+C/3v/df9x/3X/hv+c/7r/3f8CACYAQgBNAEcANgAhABMAGgA0AF4AjACxAM0A3QDtAAEBDwEUAQoB7ADDAJYAbgBLACkABwDi/8L/r/+o/63/t/+9/7z/uf/D/9f/+v8kAEIAUgBOAD4ALAAfABsAHQAeACEAIAAfACEAJgAuADEAKgAWAPX/zf+t/57/of+4/9f/9f8IAAwACQAFAAUADgAZAB8AHQARAAAA9P/v//b/AAAIAA0ABwD5/+v/4f/i/+//CAAtAFkAgwClALwAvwCuAJAAbwBaAFUAXwB3AJEApgC3AMEAxQDCALcApQCSAIQAfQCCAIwAjAB9AGAANgAOAPP/7v/7/wsAGgAhAB4AGgAbACIALAAyAC0AFwDy/8X/nf+C/3r/gf+O/5v/o/+p/6z/rv+s/6X/lv+B/2n/Vf9H/0H/Qf9B/z//Ov84/z3/Sv9b/27/fv+N/5n/qv/D/9z/8v////3/7P/Q/67/jP9u/1T/Pf8y/zn/U/98/6z/2P/3/wgAFwAqAEUAZQB+AI4AkQCLAIMAewByAF0AOAALANj/r/+h/63/z//1/w8AGgATAAIA9P/q/+X/4v/Y/8r/u/+z/7L/uf/E/8j/xf/B/8H/zf/o/wYAIQArACIACQDm/8P/pP+M/3n/af9d/1n/Yf92/5P/uP/d//3/FQAqAD8AVQBqAHgAegBqAEoAIwD8/93/zP/E/8D/uf+w/6n/qf+4/9P/8/8RACkAPABNAGEAdwCMAKEAsgDEANwA+gAcATkBRQE+ASMB/wDhAM8AzADXAN0A2ADEAKUAhABkAEwAOwAyADQAQgBcAH4AngC1ALcApgCLAG4AXABXAFcAWQBXAE4APgArABQA/P/e/7//n/+A/2b/VP9M/1D/Xf9x/4v/qf/F/9r/5P/i/9b/xf+0/6j/pf+s/7n/xf/O/8//yv/B/7f/sP+p/5//lf+H/3b/Z/9f/2H/b/+F/5z/sv/G/93/9/8UADUAVABqAHMAbwBjAFIAQAAvABwABADr/9L/xP/E/9H/4//y//z////+//3//f/8//r/9v/0//j/AgALAA0AAQDj/8H/pP+S/43/iv+D/2//Tf8o/w3/A/8Q/yn/Pv9K/0f/O/8q/x3/F/8Y/yP/Nv9V/37/rf/c/wIAGQAfABQAAgDz/+n/5v/r//X/AAAKAAoAAADt/9T/wv/D/9b/+f8kAE8AcwCJAJUAnQClALAAuwC+ALUAnwCGAHMAbQB4AJIArAC9AL4AqwCNAG0AUwBEAD0APQBFAFEAYwB8AJcArgC8AL8AuACvAK4AsgC8AMcAxwC6AJ0AcwBHACEABwD5//L/7P/p/+b/4v/i/+T/6v/w//b//f8AAAEAAwAFAAsAEwAeACoAMwAzACgAEwD1/9L/sP+R/3r/av9g/13/Xf9i/23/e/+M/6D/tv/K/9r/6v/+/xYAPABrAJoAvgDKALQAgAA5AO3/r/+O/4T/jv+g/63/s/+z/6//rP+u/7L/tv/A/8z/3f/7/xkANwBJAEcANAATAPT/3//X/9n/4P/j/9r/wv+f/3T/S/8k/wX/9P7v/vn+Dv8q/0j/Zf+C/5z/t//T/+//CQAmAEMAXQBxAHwAeQBmAEcAHwDw/73/i/9d/zr/Jf8l/zj/W/+D/6n/yf/e/+3//f8OACQANAA7ADkALwArADIARQBhAH8AlgCdAJQAfQBeADoAEwDx/9X/w//B/83/5P/9/xIAJAAxAD8AUgBtAI0ArADFANQA2gDYAM4AvgCjAIEAWwA0ABUAAAD3//f/+v8BABAAIQA3AE8AYABqAGwAbABtAHMAfgCNAJkAmgCQAH0AZQBMADoAMAAvADQAPAA/AD0ANAAiAAkA7P/J/6f/hf9s/2H/aP+C/6z/3f8MADMASwBSAEsAPQAuACIAHwAlAC4ANQAzACQADQDy/9f/x/+//7v/t/+o/43/a/9I/zX/MP89/1n/e/+d/77/2//4/xUAMQBFAE8ATQA9ACkAFQABAPP/4v/P/7r/p/+Y/4v/hf+D/4L/hv+M/5f/p/+9/9P/5v/1//7/BAANABgAIQAhABYAAgDs/9v/2f/o//z/CAAJAPf/2v+8/6j/pv+p/6r/rP+p/6j/tf/P//L/FgA1AEoAWgBmAHEAgQCLAIgAcwBLABgA5f+4/5r/i/+I/4n/if+G/4P/gv+E/4z/mv+s/8P/3f/8/yAARwBqAIYAlwCfAJ8AmACQAIcAewBrAFYAPAAgAAgA9v/r/+v/7v/x//H/7P/m/+f/8v8HACoAUwB7AJ8AtwDFAM0AywC/AKsAkgB5AF8ASQA3ACYAFwALAAUABgAPABoAJwAuADAAMgA0ADkARgBRAFkAWQBVAE8ASgBIAEsAUgBaAF8AXwBZAE0AOAAbAPn/0v+u/5D/ff93/3//kf+o/73/y//P/8n/vP+s/53/l/+c/6r/vv/T/+X/7//v/+X/1v/F/7L/oP+Q/4L/d/9t/2v/b/95/4j/mf+s/77/zP/V/9r/3//k/+n/7//0//X/8f/p/9//1f/J/7v/rv+i/5b/lP+c/6v/vv/O/9b/1v/O/8j/xf/C/8P/wf+8/7b/sP+s/6v/r/+3/8L/0v/k//r/EQAnADkAQgBCADYAIgAMAOz/y/+v/5r/k/+Z/63/xv/k/wIAGQArADYAOgA/AEQASQBNAE0ASAA/ADYALAAmACQAIQAaAAkA8P/U/7j/qv+p/7P/x//e//D//P8CAAUABQAJABIAHgArADQANgAzAC0AKQAsADQAPwBIAEsAQQArABAA9P/e/8z/wP+7/7j/vf/M/+f/CgAyAFQAZwBrAF4ATABBAEEATABeAGoAaQBcAEYALwAgABwAIQAqADAAMAAoABcAAADr/9f/yv/G/8r/1//t/wYAIQA7AE8AXQBlAGcAZQBhAFgASwA4ABwA+//X/7n/pP+b/6D/rv/A/9H/3f/k/+f/5//p/+//+v8HABgAKwA8AEoAUABOAEEALQAUAAAA+P/8/woAIgA4AEgATwBMAEMAMgAdAAQA6//W/87/1P/m/wAAFQAiACMAGQANAAAA8v/n/9r/yv+9/7X/tf+6/8L/zP/S/9b/2//k//P/BgAdADMAQQBGAEEANAAnAB4AGgAcACAAIAAZAAoA+f/s/+T/5P/u//f//f/+//v/9//x/+j/3f/P/7//sf+o/6j/tP/I/+H//P8TACcAMgA1ADQAMAArACgAKQAtAC4AKwAmAB4AFAANAAwAEgAeAC4APwBMAFEATAA8ACIABQDs/9z/2//l//j/CwAbACQAKQAoACoALgAxADEAKwAfAA0A9//h/83/v/+5/7r/wf/M/9z/8P8CABEAGwAfAB4AHwAiACwAOgBGAE4ATABFAD4ANgAuACIADwD3/9z/xP+3/7n/vf/E/8T/tf+l/5f/kv+b/6z/w//W/+b/9v8EABIAIAAtADUAOQA4ADQALAAYAP3/3f+5/5//lP+W/6H/rv+7/8v/3//6/x0AQABbAGYAYABQADsAKAAeABgAFQAVABUAEwASABEADgAGAPv/6//a/8r/vP+w/6X/mf+N/4P/gP+I/53/vf/j/woALgBIAFoAZgBsAG8AbABmAFUAOwAYAPD/yv+p/5H/g/+A/4b/lP+q/8f/6P8KACgAPQBGAEYARgBHAE8AWABZAFEAPwAkAAcA8P/d/8//wP+s/5v/kP+M/5n/rv/E/9b/4//v//n/AwARAB4AJgAnACQAIAAeAB4AHwAfABsAFgAQAAoABwAHAAgACwAPABUAHgAkACUAHQAOAPz/6//e/9r/3f/k//D//P8KACEANgBDAEEALAAIAN7/tv+d/5T/mf+m/7X/v//H/83/1f/h//D/AQARAB0AJQAlABwADwD//+z/2f/I/7z/tv+0/7//1//3/xwAPwBcAHEAeQB6AHgAagBRAC8ABQDf/8L/tf+9/87/4v/y//n/+//9/wAABQAMAA4ACgAAAPD/3//P/7//s/+p/6D/m/+e/6n/u//V//X/FAAvAEIARwA/AC0AFQD+/+T/zf+8/7H/r/+9/9j//v8nAEoAYgBrAGUAWgBKADMAGQD9/9//xv+5/7v/zP/m/wAAGAAoADMAPABFAE8AWABfAGIAXwBYAFAARAA2ACcAGAAMAAcACwAYAC4ASABjAHsAiQCRAI4AgQBoAEoAKwANAPb/5v/f/+H/7P///xgANwBUAGoAeQB5AG0AXABFAC0AEgD1/9j/vP+o/5//ov+x/8b/3f/y/wUAFgAlADMAQABKAE4ATQBJAEEANAAiAA8A/P/l/9D/wP+1/67/r/+3/8b/1v/k/+r/5P/W/8T/s/+p/6j/sP+9/83/3P/s////DgAfACwALwAwADEAMwA6AEUATwBSAE0AQAAsABYAAQDy/+j/5f/p//X/BwAeADQASABRAE8AQQAqAA8A8//Z/8b/uf+y/7D/sP+0/7v/wv/L/9b/4//v//f/+f/1/+n/1//B/6v/mP+K/4L/hP+S/6j/x//o/wEAEgAVAAoA9v/e/8j/t/+s/6j/pf+j/6H/nv+c/53/oP+n/67/tv/A/8v/2f/p//v/CQAUABQADgADAPb/7f/p/+f/6f/t//P//v8LABsAKwA1ADcAMwAsACYAJQApADEANgA1AC8AIwAVAAsAAgD9//r/+v/9/wAABQAKAAwACwAGAAAA//8BAAgAEAAYABkAFwAWABMAFQAbAB4AGwARAAMA8//o/+f/7f/9/wwAFQAaABsAHAAeACIAJgAoACIAFAAFAPf/7f/q/+z/8P/w/+v/5P/d/9j/2f/i//D/AQARAB0AJgApACkAKQAlACIAHwAbABMACAD8/+7/4v/X/9D/0f/W/+D/7/8AAA4AFwAeABkADQAAAPD/5//i/9//2//U/8//y//Q/97/9v8SACYAMAAqABoABgD0/+z/6v/o/+X/3P/N/77/sv+s/6//vP/P/+X//f8SACcAOAA+ADgAJgALAOv/zP+0/6T/of+m/7L/wP/O/9v/4//o/+j/5f/k/+X/6v/x//v/AwALABEAFwAbABsAFwASAAsACwAUACYAPABLAE8AQwAqAA8A/P/0//r/BwAaAC0AQgBWAG8AiQCaAJ8AlAB8AGIASgA8ADYAMwAvACYAGQAMAAYABgAHAAcAAAD4//D/7v/6/xEAKwBCAFAAUwBNAEMANwAqABwADgAEAAAAAAAHAA8AEwAPAAYA///5//j//v8CAAQABgAKABIAIQA1AEsAWwBiAGUAZQBkAGUAZgBmAGMAXQBUAEwAQAAxAB0ABADo/83/uv+0/7n/y//k//7/GgAxAEEATABSAFQAVABVAFQAUABJADwALAAZAAQA8f/f/9P/x/+//7n/tP+z/7X/uv/E/9H/4f/x/wAACwASABgAHAAgACUAKgAuAC8AKgAcAAYA7f/O/7H/mP+F/3f/bf9m/2P/ZP9q/3f/i/+k/73/1P/n//X//f////3/+P/u/+H/1P/J/8T/xP/M/9j/6P/1//j/9f/o/9L/uP+c/4H/bP9g/1//af9+/5n/uf/a//f/DgAfACgAKgAnAB8AFAAJAPj/4P/B/53/ef9h/1n/Zf9//5//wf/d//D/AAAOABoAIgAiAB4AFwAQAAsACAAEAPz/7v/h/9z/4P/x/woAHQAmACIAEQD7/+T/zP+3/6b/mP+T/5r/rv/O//L/DwAlAC8AMQAyADIANgA5ADkANgAyADAAMAAyADIALAAeAAsA+v/u/+z/9f8FABcAJgAxADYANwAyACkAIAAWABEAFgAkADkATABYAFwAVwBNAEcASQBQAFoAYwBmAGUAXABSAEgAPAAwACMAFQAKAAMAAQAFAA8AHgAzAEoAYgB4AIgAjwCJAHgAYABDACcADwD7/+z/5f/j/+X/6//x//X/9f/x/+r/4v/b/9f/1v/X/9j/1//R/8X/uP+v/67/u//X////KgBQAGcAbQBhAEcAJgAAANr/tf+V/33/c/92/4f/o//A/9z/8v8AAAwAFgAcAB0AGgASAAMA8v/f/9H/xf+8/7j/uv/B/83/3f/t//n//f/4/+n/0/+6/6P/k/+M/5D/nP+t/8P/3P/1/w0AJgA7AEsATwBJADwALAAcAA8ABAD8//D/4P/M/7n/qv+m/63/vv/X//D/BwAaACcALwAzADkAPgBDAEkASwBMAEoARQBAAD0APAA8ADwAOgAzACcAGAAJAP//+////woAHAAsADsAQgBDAD8AOAAxACwAKQAoACkALgAzADwARgBNAE4ARgA1AB4ACAD1/+j/5P/j/+P/5f/l/+n/8P/5/wIADAAXACMAMgBDAFYAZgBuAGwAXgBKADAAEwD8/+j/2P/Q/9L/3v/x/wUAGAAlACsAKwAkABYAAwDv/9j/xv+9/8X/2v/x/wkAGgAhACUAJQAmACYAIwAaAAwA/f/v/+T/3f/Z/9n/3f/o//v/FQA0AEwAWwBhAFsATwBBADAAGgAAAOj/z/+8/7D/rP+w/7T/uP+6/7z/vf+7/7v/uf+0/7P/tv+9/8X/yf/E/7T/n/+K/37/gP+Q/63/y//m//n/AAAAAPf/6v/b/8r/vv+1/7D/rv+t/6z/rP+t/7L/uv/E/83/0v/T/9L/0//Y/+L/7f/1//n/9f/s/+T/3v/c/+D/5v/w//r/AQAJAA0ACwAHAP//9//y//P/+f8AAA4AHgAsADgAQABFAEcARgBBADsANQAwACwAKAAfABMAAwDz/+P/1//T/9H/0v/T/9L/1//j//f/EgAvAEcAVgBcAF4AXgBdAF0AXABWAEwAQAA3AC8AKAAeABAA/v/m/9L/xP/B/8b/z//a/+L/5v/r/+//8//2//j/+f/8/wEADQAhADcASQBXAFsAVwBPAEYAOgArABsACQD1/+P/1f/L/8b/xv/M/9n/7f8GACUAQABPAFQASwA5ACYAFgAMAAkACAAKAAwADQAOAA4ADAAJAAQA+//q/9X/vv+l/5D/gv98/37/iP+Z/7D/z//w/xYAPgBbAG8AdABrAFoARQAwABsABgDx/9j/wf+u/6L/of+r/77/0//o//b/+//5//D/4f/P/7v/rP+k/6j/tv/M/+n/BAAaACcAKQAiABYABgD2/+f/3P/S/8r/w/+8/7T/r/+s/6//t//F/9f/6f/7/woAFwAjACwAMwA2ADUAMwAwAC8AMAA2ADwARABLAE8ATgBKAEMAOwAwACYAHAATAAwACAALABMAHgAuAEEAUgBiAHIAewB8AHEAWwA6ABMA7//Q/7z/sv+w/7P/uv/C/8v/1//j//T/BgAZAC0AQQBOAFUAVABNAEIANAApABwADwAFAP7/+v/4//f/9//2//P/7//s/+z/7f/w//H/8f/y//X//P8FABAAFgATAAYA9v/l/9r/2v/j//H/AAAOAB0ALgA9AEsAVQBUAEYAKwAKAOv/0f/A/7j/tv+2/7n/v//J/9r/7/8HAB0ALQA1ADQAKgAaAAYA8//h/9P/yf/B/7v/tv+z/7P/uf/H/9z/9P8LAB4AKgAtACoAIwAWAAoAAAD6//z/BAAUACcANwBAAD4AMQAdAAUA8f/g/9X/z//I/8D/uP+x/7D/tf/A/87/2//j/+b/5P/f/93/4P/m/+z/8P/x//L/8//4/wIAEQAhADEAPABCAEUAQwA7AC0AFQD1/87/p/+H/3f/ev+Q/7X/3v8DACIANQA7ADkAMwAoABsACADz/9z/x/+3/7P/u//M/+T//f8SACYANQBCAEwAUgBWAFMASwA/ADQAKwAmACgAMAA7AEcAUABXAFoAWQBVAFAASgBBADUAJQAPAPv/5P/P/8D/tP+r/6b/pP+n/63/uP/H/9r/7f///xEAIgAxADsAQgBFAEIAOwAxACYAGwAQAAUA/P/0/+7/6v/o/+n/7v/1////CgAVAB4AIgAgABoADgAAAPT/5v/Y/8r/vP+v/6D/lP+L/4j/i/+V/6X/u//S/+j//f8QACMAMwBAAEcASgBHAEEAOwA5ADoAPgBEAEkASwBLAEgAQwA7AC8AHAAHAPL/3v/Q/8j/xf/E/8P/wf/A/8L/x//Q/9z/5v/s/+7/6v/k/9//2v/V/9H/zf/L/8z/0f/c/+3//v8KABEADwAFAPj/6v/e/9r/3v/q//7/FgAvAEUAVABbAFkATwA8ACIABADj/8H/o/+N/4H/gP+I/5X/pP+x/73/yP/U/+X/+v8SACwAQQBMAEgANwAaAPj/2//M/9H/5/8HACwATABjAHIAfACDAIYAgwB2AGAAQwAjAAgA9f/o/+L/3//c/9v/3//o//b/BAARABoAHgAeAB4AHgAdABoAEAACAPP/5v/k/+z/+/8OACEAMgA9AEMARQBCADkAKgAZAAwAAwAEAAwAGgAmAC4ANQA5AD4ARABIAEUAOQAkAAkA7v/U/77/rv+g/5X/kP+T/6H/uf/X//X/DQAgACwAMwA2ADcAMwArAB8AFAAMAAgACQAOABIAFAARAAgA/P/t/97/z//C/7v/tf+x/7H/s/+5/8P/0P/f/+7/+P/+/wAA/v/9//7/AAADAAQAAAD2/+r/3v/Y/9j/3P/h/+T/5f/l/+j/7//7/wwAHQArADcAQQBLAFYAXgBgAFcAQQAiAAAA4f/J/7r/sP+s/6z/sf+8/8v/3v/v//b/8f/i/87/uv+r/6X/p/+u/7j/xf/T/+D/7//6/wAABQAIAA0AEwAcACUALAAsACcAHQAPAAIA+P/z//L/8//5/wEACgAVACEALgA8AEkAVABTAEcAMgAYAAAA8v/s/+3/8f/w/+z/6P/k/+j/8////wkADwARABEAEQATABUAEgAJAPz/7P/h/+H/7P8AABcALQA+AEUAQgA2ACIABwDo/8r/sf+j/6T/sv/K/+j/BgAhADYAQgBGAEQAOwAvACEAEgAEAPf/6f/e/9f/2f/l//v/FAAuAEEATABSAFMAUgBQAEwAQwAzAB8ACAD3/+3/5//n/+z/8f/3////BwAMABEAEwAVABoAIQAnACsAKQAhABIAAwD4//D/7P/p/+n/6//x////EAAmADsASwBTAFEASQA9ACoAEgD7/+T/0f/D/7v/t/+0/7L/rv+r/6v/r/+4/8T/0v/d/+T/5f/h/9r/z//D/7v/uP+5/7//yv/b//H/CAAhADYARABKAEcAPwA1AC0AKAAnACUAIgAbABAAAgDz/+P/1P/J/8L/xP/Q/9//8P///wgACgAFAPv/7f/e/9P/yv/F/8b/y//T/9z/6P/y//r/AQAGAAoADwATABcAGgAbABgAFAANAAYAAwAFAAwAGAAmADIAOgA8ADgALQAcAAgA9P/g/9L/yf/E/8X/yP/L/83/0v/d/+n/9/8CAAcABAD6/+v/3//Z/9n/3//o//X/BAAXACwAPgBJAEkAPwAsABkABwD7//L/6v/h/9n/1P/U/9r/5f/z////CAARABcAHAAgACAAHwAeABwAGwAbABsAFwAPAAQA+//0//T//f8MACEANwBMAF0AaABrAGcAXABLADgAJgAVAAcA///4//X/9P/4/wAACgAWAB4AIQAcAA8A/f/o/9X/xv+9/7b/r/+o/6H/mv+X/5z/q//F/+f/CwAtAEYAVQBaAFYATwBFADkALgAkAB4AGgAXABYAFAARAAwABAD+//n/8v/s/+f/5v/s//n/CQAYAB8AGQAHAO//1v/E/7r/uP+6/7z/vP+9/8H/x//P/9j/3f/f/97/3P/d/+H/5//v//b//v8EAAwAGAAlADQAQQBMAFIAUwBRAE0ASwBHAEIAOQAsABoABwD3/+j/3P/Q/8P/s/+j/5X/jf+N/5X/o/+y/8P/1P/o//3/EgAjAC4AMAAqACAAEwAKAAgACAAKAAwADwARABIAFgAcACIAKAAtADAAMgA1ADcAOgA7ADsANgArABsACAD3/+n/4f/f/+H/5P/n/+r/7f/0//7/BwAPABEADgAHAAAA/f/6//n/9//z/+7/6//t//L/+/8GABIAHQApADQAPQBEAEcARgBBADkALgAhABEA/v/r/9r/0P/O/9T/3//r//T/+P/2//H/6f/h/9j/0P/I/8P/wf/E/8v/1v/k//T/AgAPABcAGQAUAAsAAAD2/+7/7P/v//X///8HABAAFAATAAsA///u/9z/zv/F/8L/w//H/87/1//h/+z/9f/6//v/9f/r/+H/2//a/97/4//m/+b/4P/b/9j/2f/e/+T/6f/v//X//P8GABEAGwAgABsADQD6/+P/zv++/7b/t//A/8//4P/x/wAACgAQABYAHgAoADUAQwBOAFIATwBEADMAIgARAAQA/P/1//L/8v/0//n/AAAHAA8AFAAWABUAEAALAAYAAQAAAAAAAwANABoAKAAzADoAPQA2ACsAIQAXABEADgAMAAsADAAPABUAIAAtADoARQBKAEoARQA6AC0AHQAMAP3/8P/q/+z/8//+/woAFAAcACQALQA2AD4AQgBAADcAKAAXAAgA///8//v//f///wAABAAJABAAGgAlADAANwA3ADMAKgAeABUAEQASABUAFQARAAYA+f/u/+j/6v/0/wAADAAVABsAHgAfAB4AGQARAAcA/P/y/+r/4//a/9D/xf+7/7P/sf+0/7j/vP/A/8X/zf/a/+n/+f8FAA0ADgALAAUAAAD9//n/9v/y/+z/5v/h/+H/4//o//H/+v///wAA/f/0/+j/3v/X/9X/1f/X/9r/3P/a/9b/0f/M/8f/xv/L/9b/5v/6/w8AIwAyADkAOQAyACYAFgAIAP3/9P/x//P/9//7////AAAAAPz/+v/3//T/9f/3//v/AAAGAAoACgAGAPz/7v/f/9H/xf++/7j/tP+x/6//rv+y/7v/yP/Y/+n/+v8JABUAHgAjACMAIgAbABMADAAFAAAA//8AAAYAEAAeAC4APgBLAFQAWABUAEoAOwApABgACQAAAPz/+f/5//r/+//8/wAABAALABIAGgAhACcALgA2AD0AQABAADwANgAuACcAIgAcABUADgAMAA0AEwAfACwAOQA/AEAAPAA1AC0AJAAZAA4AAgD5//H/7f/r/+v/6v/p/+j/6f/q/+3/7//w/+//7f/t//D/8//2//b/8P/l/9j/zP/C/7v/uf+7/73/wv/H/87/1//g/+v/9v8AAAcADQASABQAFAASAA4ACQABAPv/9f/x//D/7f/r/+r/6v/u//f/AgAMABAACwD+/+r/2P/L/8T/xP/G/8n/zP/P/9X/4P/t//n/AAABAAAA+//4//f/+f/8/wAABQAKAA4AEAAOAAkAAQD6//T/8//1//n/+v/6//n/+P/5//7/BgAQABkAHwAiACEAHAAUAAYA9f/i/83/vP+y/7L/uv/G/9X/4f/o/+3/8P/1//v/BAAQABkAIgAnACsALAAtACwAJwAhABgAEAANAA8AGgAoADcAQgBGAEMAOgAvACMAGQARAAsACAAHAAcACgANABEAFAAUABQAFAAVABYAGAAZABkAFQARAAwABgAEAAMAAQAAAP//AAAAAAIABwANABMAGgAgACYALAAwADEALwArACUAIQAgACMAJQAmACMAGQAKAPn/6f/e/9b/0//R/9D/0//X/97/6P/z//r//v/+//z/+f/2//P/7v/l/9v/0v/M/8//2//s/wAAEQAfACgAKwArACkAIwAaAAwA+//q/9v/0v/S/9b/3v/l/+b/4f/Y/8z/w/+8/7r/vf/F/9D/3v/s//j/AAADAAEA/v/3/+7/5//h/97/3//h/+j/7//0//b/8v/v/+7/8v///xAAIgAzAD4AQQA+ADYAKQAaAAgA+P/p/97/2f/a/9//5v/v//j/AAADAAEA+//u/9v/yf+5/7D/rv+0/8D/z//e/+v/9v/8/wEABQAGAAkADgATABYAGAAZABcAFQATABEADwAOAA0ADAAMAA8AFAAeACoANgA/AEIAPgA0ACUAFwANAAcABAACAP7/8//k/9L/xf+9/7z/xv/W/+n//v8OACAALwA9AEcATgBOAEcAOwAsAB0AEQAGAAAA/P/8/wAACAAWACcANwBFAEwAUABQAEoAQwA5AC4AIgAVAAcA/P/x/+r/5f/j/+L/4v/k/+j/7f/2////CAATABwAJAAoACgAIgAXAAgA/P/u/+b/5v/r//j/CAAbAC4APwBNAFMAUgBJADcAIwAMAPj/5v/V/8j/vv+3/7b/t/++/8f/z//X/9z/4f/l/+n/7P/u/+3/6v/o/+j/6v/w//b/+v/8//z//P/9/wAABQAJAAsACQAEAP//+v/6//3/AQAGAAoACQAEAP7/9v/v/+r/5//k/+L/4P/f/97/3//g/+D/3f/Y/9T/0f/S/9n/5f/y//7/AwABAPr/7//i/9n/0//T/9b/3v/q//j/CgAcACoAMwA0ADEAKgAnACkALgA0ADcAMwApABoACQD4/+j/2f/K/7//vP/C/9P/6/8FAB4ALwA3ADcAMQAoAB4AEwAHAP7/9//1//j///8IABEAFQAVABIADwAOABUAIAAvAD8ATABVAFYAUABBAC4AGQAEAPb/7//v//b/AAAMABUAHgAlACkAKgAoAB8AEAD9/+j/1//M/8v/z//W/93/4f/k/+f/6v/x//r/AwANABcAIwAxAEIAUgBdAGAAVwBEACwAEgD+/+7/5P/g/97/4P/k/+v/8v/3//f/8f/l/9X/yP+//7r/u//A/8X/yv/P/9X/2v/g/+T/5v/m/+P/4f/g/+T/7v/5/wUAEgAaAB4AGgAPAP3/5f/L/7X/p/+l/6//wv/b//T/CwAeACsAMgAuACAACwDw/9T/v/+x/6v/qf+s/7L/uf/D/87/1//d/93/2f/X/93/7f8FAB8ANAA9ADgALAAeABMAEQAWAB4AJAAlACEAGAAOAAgABQAFAAUABQABAP7/+v/1//b/+P/6//v/+P/1//P/9f/8/wYAEgAcACEAIQAeABwAGwAdACAAIwAnACkALQAzADgAPQA9ADYAKQAVAAEA9P/t//H/+/8JABUAHgAjACYAKAArAC8AMQAyADIAMgAyADQANwA6ADsAOgA0ACoAHgAQAAIA+P/z//H/9P/6/wAAAwABAPn/7P/b/83/xP+//8L/zP/b/+3///8OABcAFwARAAYA+f/t/+f/4//k/+n/7v/x//P/8P/m/9n/yf+9/7j/u//J/9z/9P8LAB8AMAA8AEIAPwAzACEADAD6/+3/6P/o/+n/6f/m/+H/3P/Y/9r/3f/k/+3/9f8BAAsAEgAVABIACgD7/+r/3P/O/8b/wP+8/7z/wf/M/9v/7/8DABYAIwArAC0AKgAlABwAEAAAAO3/2P/F/7b/sf+0/8D/0v/n//z/DQAcACcALAAsACgAHgARAAAA7//c/8z/xP/H/9f/7/8JACMANQA/AEMAQQA+ADgALwAiABEAAgD3//H/7//x//H/7//v//L//P8MACAAMgA8ADwAMgAjABMAAwD2/+r/3f/S/8j/w//B/8X/y//S/9n/3//h/+P/4//i/+H/4v/k/+f/7P/v//L/9f/0//X/+P/8/wEABwAPABUAHAAiACYAJwAmACEAGgASAA0ACwAKAAoACQAGAAIA/////wEABwAQABkAIgArADQAOgA9ADoAMwAnABwAFQAWACEAMABAAE0AVABVAFMAUQBQAFEAUQBPAEkAQQA5AC8AKAAjAB4AGwAbABwAIQAqADIAOQA4AC4AHQAFAOz/1f/E/73/wf/M/9z/7P/3//n/8//p/97/1f/S/9T/1//c/9//4f/j/+T/5P/k/+L/4f/e/93/3v/g/+T/6P/t//P/+v///wAA/P/x/+P/1f/K/8P/wv/F/8X/xv/G/8j/zv/Y/+T/8P/3//v/+v/4//n/+/8AAAAA+//u/9v/xf+z/6j/qf+y/8D/0v/k//X/BAAQABgAGwAXAA4AAADw/+D/0v/I/8L/v/++/73/vP+8/7//xv/T/+b/+/8PACAAKwAxADUANgA6AD0APwBCAEQASQBSAGAAdQCLAKEAswDAAMYAxgDDALoArgCfAI0AegBmAE8AOAAiAAwA+//o/9f/x/+1/6f/m/+P/4f/gf98/3j/cf9q/2L/W/9X/1n/Xv9o/3b/g/+P/5j/n/+m/7D/vP/O/+f/AgAiAEMAYQB5AIkAkwCWAI8AiQCAAHgAdQBzAHMAdgB5AHwAfgB9AHcAbQBeAEwAOgAoABgACwABAPn/8v/s/+P/1f/E/6//mf+L/4b/iv+a/6//wv/S/9z/3//f/9//3v/f/+X/7f/5/wgAFQAgACYAJQAeABMABwD+//j/9P/2//n///8DAAYABwAAAPn/7f/a/83/xP++/8H/x//P/9P/0//N/8X/vf+4/7P/sP+r/6D/lf+J/3r/cP9n/2D/Xf9c/2L/a/95/4b/k/+f/6X/q/+z/7v/xv/R/9v/4v/o/+7/9f8DABcAMQBNAGcAeQCDAIcAhwCJAI8AlgCjAKoArgCwAK8AtAC3ALoAugC0AKkAlwCHAHcAagBhAFUATgBBADQAJwAXAAwA///x/+v/5P/i/9//3P/Y/9L/zf/J/8j/yP/I/8X/vv+0/6f/nf+U/4//kP+T/5v/ov+s/7j/wv/N/9T/2f/d/9v/2v/a/9n/2v/b/97/4//p//L/+f/9//////8AAAcAFAAlADgASQBUAFgAVwBQAEYAOgAsAB4AEgAGAAAAAAAEAAwAGAAgACUAJwAhABcABQDu/9b/v/+t/6P/n/+h/6b/p/+n/6T/nf+b/5v/n/+r/7j/zP/f/+///v8GAA4AEQASABUAFQAZAB0AJAAwAD0ATwBfAGsAcQBtAGMAVABIAEEAQQBJAFMAXgBpAHMAewCDAIkAiACFAH8AeQB8AIQAkACdAKUApACaAI4AfABqAF0AUQBHAEUASQBRAFoAXwBaAE0ANgAbAAEA6f/U/7//qv+V/3//b/9h/1P/SP85/yr/G/8O/wT/Af8E/w3/Hf8y/0r/Y/95/4v/l/+h/6v/t//J/9//+f8WADIATgBlAHcAhACHAIIAeQBrAF8AVgBTAFYAWQBaAFcASwA4ACIACQDv/9b/vv+o/5j/iv+B/3b/af9Y/0D/Jv8N//v+8/7y/vr+B/8W/yj/N/9J/1r/Z/90/3//jP+d/7H/y//o/wYAKQBIAGQAfQCPAJwApQCsALIAugDFANMA4wD1AAMBDgEPAQsBAwHyAOUA2wDTAM4AxQC+ALMAowCUAIIAbwBdAEkANQAhABEAAwD7//f/8f/v/+b/2v/S/8b/v/+//8L/y//S/97/8f8LADgAbQCnAOMAFgFCAWkBjQGsAcoB4wH0AQQCFQInAj4CVgJgAl8CUAIuAgUC2QGkAWoBKAHcAIgALwDQ/2X/7/5q/tP9Mv2Q/On7TPvD+jv6v/lS+eH4d/gW+LP3XPcX9+X2yvbL9ub2GPds99n3XfgB+bb5dvpF+yP8CP36/f/+BgAUASoCOQNEBFMFVwZOB0MIKQn+CdAKlwtMDPoMlA0TDnoOwg7dDtQOpQ5JDs8NPQ2NDMML5QrsCdkIuweQBlkFJgToApoBTADz/o79L/zT+nb5Ifje9pr1ZfRN8z/yT/GJ8Ofvce8q7wzvEe8+75HvAfCa8FfxJPIL8wb0CPUs9nP3zvhK+tz7cf0N/7EAVAL0A5wFNQe3CDEKkAvSDAAOCw/qD6AQKRF+EakRuRGdEV8RCBGIEOIPIg87DisNBAy8ClQJ4gdaBroEGwNxAbv/Df5k/Lz6Kvmz91H2DvXy8/DyCvJJ8aTwHfDI75Lveu+I763v6+9M8NTwffFK8jnzMvQ89V/2i/fL+CL6fvvd/D7+kf/XABkCSwNwBJEFogajB5kIeQk8CuYKdgvmC0EMiwy7DM8MzQyqDGsMGQyuCykLkgrjCR8JVwiHB7IG4gUOBTAEUANpAn8BnADB/+r+Gv5Q/Yz80vsq+5T6Efqn+U/5A/nH+Jb4bvhb+F34cvid+Nr4Ivly+dD5Nfqh+hf7i/sA/HT85PxW/c79TP7K/kr/xP8wAJEA5wAwAWoBnQHGAeQB/QELAhICFQIRAg8CCwIBAvAB1AGtAXoBQAEGAcgAjABQABMA2/+o/3n/U/8t/wb/2/6t/of+av5d/mP+cP6G/qD+tf7L/uP+/f4c/0L/Z/+L/7H/y//p/wsALABTAHgAmAC3AM0A4gD5ABQBNAFSAW0BhgGaAa0BxgHZAeQB6wHmAdkBzQHDAboBtwG2AbUBuAG0AbIBsQGmAZ4BkwGGAYMBfgF8AXoBcAFtAWkBYgFcAU0BOAEeAQAB6ADUAMcAuACkAJAAdQBbAEEAIwAEAN//rv96/0L/Dv/d/rH+h/5b/jD+Af7W/a/9if1s/VH9Nv0f/QX97vza/Mj8v/y8/LT8rvys/Kr8tvzS/Pr8MP1s/aj95f0j/mD+ov7t/jb/fv/E/wYATwCfAAEBbgHcAUwCsgIJA10DrAP+A1sEtQQFBUwFggWqBdMF+wUdBjUGOwYnBgMGzwWSBVEFBwW0BFgE7wN7A/oCdQLrAVIBtgAUAGT/sf73/TT9e/zO+y/7qvor+qj5KPmq+Dj43/ef9273Rfcl9wj3/PYO9zj3evfK9x/4dPjW+E/53vmI+kX7B/zS/Kf9f/5c/0AAIgECAu4C1wO5BKAFdwY5B/gHqghNCe4JewrnCkELgwunC8YL0QuyC3MLCAt3CtcJLgl9CLwH6Qb8BfQE4wPHApwBbQA6//L9pfxe+w/61fi596D2nvW69N/zHfN88uzxe/E+8SLxKvFe8Z/x8fFi8u3ymvNp9FH1TPZd95D43PlE+878Xv7q/3UB8AJbBM8FPQebCPoJOwtYDGYNUA4TD8IPUBC5EA0ROxE6EQ8RuRA8EKMP7w4YDhYN7guoCkkJ5Qd7BgAFgAPxAVAAuP4w/bX7U/oB+ab3V/Yd9fTz9PIb8lbxsPAt8Mjvje+B75bvzO8r8K3wUvEe8gTz+/MI9Sv2Yvex+Bf6gvvr/Ff+v/8lAZ0CFQR+BdgGDwgjCS0KJwsCDMYMXw3BDQUOKg4xDi0OEQ7QDWwN4wwyDGcLiQqUCZAIfAddBjEF/APKAo4BVAAs/wH+5/zd+9H61/n7+Dj4mvcg97b2V/YJ9sD1jPV39Xn1l/XK9Qz2XfbE9kb34PeR+E/5EfrR+o/7S/wB/bz9fP4//w4A1wCRAUEC3AJoA/ADbwTfBEQFlAXRBQgGOgZvBqgG0gbiBs0GkQY9BtwFewUdBb0EWQT1A5EDMAPWAnsCIQLIAWoBDAGuAE0A8P+b/07/Dv/b/qf+cP4v/tz9if1B/QX93vzA/Jr8d/xX/D78Ovw2/CX8BfzO+477U/sh+/n62fq9+qX6lvqU+p76sPrF+tn66voA+x/7QPtn+5H7wPsK/Hj8/fyT/Sf+ov4W/5b/GgC2AGQBCwK1AmoDGwTcBKUFXAYAB4sH9AdUCLQIDAlhCa0J7QkrCm8KsQrnCgAL7Aq1Cl8K9Al6CesITginB/sGVwa3BQkFUQSDA5gCpwG4AMn/4/71/fD87fvt+vn5JPlc+JH3yfYI9lD1u/RI9OTzlfNY8yfzFPMi80zzkfPn80b0sPQq9bf1WvYW9+b3zPjK+eL6C/w4/Wb+if+kAMcB6gIFBBMFCQbnBscHqAiECV8KHwuzCyMMbQyZDLsM1QzXDMMMkww9DNULXwvTCjQKfwmrCLwHvgapBYUEZgNMAj0BQABD/zT+F/3z+9D6v/nF+ND35fYE9iT1XPSz8yvzzvKL8lTyKvIS8hTyNvJ78tnyTvPe84T0QfUN9uD2vPek+KH5sfrJ++b8AP4X/z4AcgGtAvIDJwU7BjcHEQjWCKIJYQoKC6QLFQxoDLoM+gwrDUQNMQ35DKcMQQzPC0sLtgoKCkwJgQisB8kG1AXNBLQDkAJ2AV8AVf9U/kn9QfxL+2f6oPnw+EH4jPfg9kD2vPVo9Sv1AfXu9OP08/Qq9X/18vVv9un2XvfS91X47fid+WL6MfsI/OX8yP2z/qX/lgB5AU4CDwO5A1cE5wRwBfYFeQbwBlkHrwfpBxQINAg/CEMINggVCOUHoQdNB/AGkQYuBsUFUwXPBDgEmQP3AloCywFMAdQAYQDy/3//E/+z/lv+DP7C/XT9JP3e/KP8ffxx/HX8gvyW/Kn8w/zu/DD9hP3l/UP+kv7U/hL/VP+k/wEAXACxAPwANQFgAYwBtgHfAQoCLAJAAkgCRgI8Ai4CHgIDAtkBnAFEAdgAaAAAAKf/Wv8M/6/+Sv7g/Xv9LP3r/Kz8bPwi/NL7i/tV+zf7LPsq+yn7I/sg+yb7O/tm+6T78PtG/KP8//xb/b39I/6R/gr/g//4/2IAwgAbAXkB3wFGArICEANbA5sDyAP0AyIESgRtBHsEdQRhBEMELAQeBBMEBQTrA8EDjANYAyYD/ALVAqICZAIeAtUBkwFhATYBDQHrAMAAlABuAEQAIgD+/9f/uv+j/5v/kf96/1f/Kf/9/tv+vf6U/ln+EP7E/Yn9Y/1F/SD93vx7/Af8mftC+wD7wPpo+u35Xfnb+H/4S/g1+BH42Pei93f3bfeK97P33PcP+Ez4mfgQ+aP5Qfrw+qX7YPw6/TL+Nv9HAF8BcAKTA9kEKAZxB6UIsQmvCsUL5wwJDhgP7w+JEAsRhBECEokS+RIpExoTzhJUEtMRSxGiEMgPuA57DScM1gqCCRgIlAbqBBsDSwGJ/8P9Dvxj+qn4Afd49fnznfJc8Rfw8O7/7TftrexY7A/s4evX6/LrVOz57Mftre6U74TwjPHD8kD07/Wt92r5D/uf/Ej+BwDQAakDXwXZBjgIfQmvCu4LFg39Da8OIw9fD5QPvg/LD7cPbg/kDjAOaA2MDJkLiwpPCeQHZAbfBFcD1gFPAK/+E/2T+yz67fjF95D2W/VA9EnzlfIl8svxdPEa8b3wifCp8BfxuPFn8gLzkvNE9Dv1ePbY9yv5TvpK+1H8ff3S/kEAlgGwAqIDfgRfBWAGYQczCMsIJQlfCa4JDwpjCosKcAohCsYJcwkfCbQIFwhOB3gGuQUmBagEHgRrA4EChAGqAAcAlP8n/4r+uv3j/Dr82vu5+6L7avsQ+7H6dvp7+rX6+fok+zP7NftQ+6D7GPyP/OP8Bf0V/UD9kv0C/nD+tf7W/u7+Ff9W/57/yv/R/7T/hv9v/3j/i/+R/3X/PP8H//f+EP8+/1f/Q/8V//H+9v4v/4f/1/8EABkALgBkAMkAPQGzARYCUAKUAgUDmQNKBAIFowUeBo8GEwebBx8IkwjkCBIJNwlsCaoJ7AkjCjsKOwowChsKAAraCY8JIAmnCCYIsQdPB+gGcQblBUQFowQVBJADDQOHAuoBRQGxADkA7f+//5j/bf80/+7+uv6g/pb+mv6a/o3+if6e/tr+Rv/L/0IArwALAU0BngH0AUIClgLTAgoDVAOoAw8EeQTRBAQFFQUOBfsE6AS4BHgENATTA3UDNQPvApECJQKXAeEAKgBx/7b+/f04/XX8xfsr+7L6U/rz+YD5+Phd+NL3Z/cT9+X2zfa59sP26/Yx9533GfiM+P34a/nR+VX69fqg+2L8Kf3x/cv+rv+YAIUBaQI8A/wDvQRzBSAG0gZkB+sHbAjMCDEJggmpCcEJtwmZCXwJWQklCd0IfAj1B28H7gZgBt4FUAWiBOADFQNMAokB0gAaAF3/j/6//Q79Z/zR+1b71fpT+t35bfn8+Jv4O/jU94X3Ovf69tf2u/ao9qb2rPa79t72Bfci90H3Ufdi9433xfcO+Fv4mvjL+PX4HPlD+XX5n/nD+er5Dvo8+nn6wfoE+z37Yvtt+377jvul+8/78/sX/D/8ZfyS/M38Bv02/Wz9kv25/e79Hf5g/rL+BP9n/93/UwDFADsBngH4AV0CxgJLA9YDWgTlBF0FygVDBsMGMAeXB+0HGwhSCI4IyggiCWsJnwnBCdkJ7gn6CRUKEwrtCbsJWAn1CKEIOQjmB4sHFQehBiMGpAUoBZsECwR2A90CSwLAATUBogARAIb/B/+i/kf+8/2f/UL96/yr/Iz8gvyS/Kj8r/zI/O78Kf2K/fb9Xf7G/i7/lP8fAMkAeQFBAv0CrANpBCMF6gXCBpUHUQgGCbMJSwruCogLGwyjDA4NgQ3gDTwOoA7eDhAPIw8SD/EOuw56DhoOtA1ADbAMLQyXC+MKMgpmCX8IpgfBBssF6gT6A/AC9wH/AAYAKf9Z/nz9qPzi+xX7YfrB+Rz5ifgG+Iv3MPf99tf2yPbP9sX2yfbc9u72F/dN94r32vdE+L/4VfkE+qj6Ufvu+3r8Ef2Y/Rz+jv71/lv/u/9JANIAYwH1ATECcAKGAnACkwKOAnwCeAI0AukBqAFcARMBxgBHAI3/xf7p/Rb9dvza+zz7nvrt+Tf5nvgT+Hn33vYd9jX1Z/S/803zI/MY8wnzBPMM8yHzavPE8xT0afSn9O/0dvUv9hL3FvgE+cj5k/pV+yb8JP39/a/+S/+1/yEApwArAYYBygHMAX8BTAHpAFoA2f/U/pD9PPyf+ij5yfdC9qr08vIX8Tzvfu2r67rprOdk5R7jAOEc34zdOtwT2wzaKdl62AHYr9dx1zrXBNcF12fXLNhj2e7aqdyh3tTgNuPP5YnoMOvW7ZPwV/Nc9r75Of29AEwEpgfoCkQObRFdFBQXSBk0GyQd+B7QILYiPiR0JXUm+yZLJ2kn9iYoJuwkOyODIdAfHB52HKkajxhYFgwUoBFJD9MMGwpeB5cE7gGy/8D9BvyZ+kL5+fcQ92D21fWX9WP1NvVf9dz1ufYW+L75fPtt/X3/lAHjA0oGkAjICvIMBQ9BEcATUxb5GJQb2B3oH88hYSO2JMQlXCaaJq8mniaJJokmaSYcJp4luCSPIzIifCCgHpMcTRobGPkV+RM5En8QvA76DBULGwk1B04FcgPQAU8AEv87/p79SP0p/QP94/zV/MD8v/zn/Bz9cf37/a7+pf/WACACcwOsBLYFmwZYB+8HdwjmCEIJsQkdCpUKLQusCxEMYgxwDEkMAgx9C8sKCwoqCU0IlwfnBkQGtQUJBTkEYANqAlMBQgAl//39Bf09/Kn7bvtY+0H7OfsT+8T6hPo5+uf5uvmI+V75cvmk+Qb6tfpn+wr8qvwD/SP9PP0h/fT83/ys/Hv8evxv/HP8qfy3/JX8bPzr+y/7gPqx+d/4RPih9wL3nvY39tH1mvVD9cD0QvSX89vyWfLx8a7xufHP8evxRPKV8uDyWvOr883z+fPx8+bzHvRT9KD0J/WE9dX1TPaT9rn21vZ09qX1pfQx86DxSvDW7mztN+zR6lvpCuh85rjk0OJp4LHd+do82M7V5dNE0uPQvc+ZznfNZcxQyzbKGckHyDTHxcb1xuLHacl8y+/NbND+0qLVHtit2nTdNeBA49HmruoV7xP0K/lc/okDOQiQDLUQXxTUF14bsh4EIo8l/ChXLLQvnTIKNQs3RTjkOCM5yTgOOCk36jWENBQzYjGBL1ctpiqTJwkk+B+nGxIXThKzDTUJ5gQCAUP9l/kk9pTy6e5o69XnOeTr4Mbd8drm2IfXyNbW1krX6dfz2C7abtsA3bLeTuBA4qDkYOfy6kfv7vPm+Pn9swJQB+0LJBAgFAEYcxvnHsQixSYOK4IvgjPwNtE55ztXPWk+6D7uPtM+eD4iPhI+7j2QPbM8/Tp8OE01nTGXLWUpISXqIPUcPxnQFY0SIQ+FC4cHNwPq/qH6m/bx8pDvn+wz6mboHOc15o/l2+RF5N7jpePv45TkieXh5obom+ok7SnwbfOc9rz5lPxK/zACHgUqCD8LKg4JEfwTERcgGh0dzR/cIYYjxCSiJXomBSdCJ0sn9yaEJg0miiXiJNQjWCJgIAUegxvXGBMWQxNoEKENBwucCEQG9QOMAef+NfyI+e/2ovSM8q3wHe/P7d7sTuzq65brP+vJ6mPqKuoW6kjqruo06wvsKe177hHwrfEO8yv08fRx9ev1fPYg9+r3xPia+Y36jvt+/E791v0L/vr9xP2e/ZP9sP3s/Rf+L/4m/vj92v3F/av9qf2e/Y/9oP2y/d79Hv48/lf+Wv4y/iD+Kf5F/oD+uP6u/mf+8P0p/V78m/uQ+of5ZfgE98j1h/Qw87nx1u+J7cXq1Ofv5BbiqN9i3Q3b7di+1oTUbNI50L/NDMtMyILFIMNtwQHAJ7+uvhK+xb2evX69x71Ivga/JsCvwcDDVcZkybjMJdCi0yjXwNpo3kriWOaS6k7vMPQn+Wf+ZgM1CP0MVhFpFVcZ1xwHICkjCibMKKsrHy4WMJ0xVDKfMp0yIzJmMR4wTS40LNcpbifxJDEiAh9QGzUX3hK2DrsK1gYiAzf/Nvt9997zgPBA7cXpLeax4qnfSN2428na/9l12Q7ZtNje2H7ZWdqK2wLds94G4Snkred46zLvQPIi9Sz4P/vP/r8CnwaiCt4OJxOsF1UcdSALJCAnYCl0K8UtATBbMqM0dzYlONw5dDvsPB0+dT4XPno9fTyeOyo7kjryOTg5BjjANnM14TMnMiMwoC3yKnIoDCbcI9Qhgh8HHW0alhfgFC0SUg+KDKoJrwbbAyMBlf5J/Bn6Bvg19oz0+vKU8SXwou5Q7SXsJetz6uzpmOmo6Rnq6+oo7KTtK+/U8LTyvPQQ97T5T/zN/j4BjwMaBiMJZwzdD2oTpBayGckctB93IgAl+yaDKNgpEyt6LBYumi/SMIoxrDFhMcow/y/yLnctqyumKXgngyW4I7shmh8QHeAZghb2EiMPigvzByQEpwBL/e35G/d49LLxKu+B7JTp+eZh5LThet9P3STbhdkR2MPWENaD1Q7V/tTT1JHUktRy1EzUiNTP1D3VKdYq11PY3dlU29jcmt4s4LzhguMr5ejm7ejj6u/sNO9P8V7zg/Vh9zn5Rfsx/TD/YgFXAzoFNgfuCJsKYQy7DcsOuQ8RECgQVRAnENAPeQ+RDk8NCgxYCnkInQYaBAUBu/3o+fD1VvKq7unqRuc94+PerNpD1rPRSM2MyIzD2L5mum+2WbO9sFSuMqwHqtynDqZ6pCijTaLBobihhqIopLmmF6rOrbSxirU0uQK99sAKxYrJVs5g0wzZId9v5SXst/LY+Mf+FATICGANkBFvFWgZHR2ZIB8kKyewKdArHS3QLSwu2y0gLSAsmir7KF0ndiWOI2chqB66G4kYEBXmEd8OvwvfCPsFEAO2AK7+uPwF+wz5pvZ69JXyEPFn8EbwVPDP8InxYPKr8xP1F/bj9mD3k/dX+Ar6ZPx1/9QCvwVbCLEKcgwLDmsPHBDEEMMR/RIiFR8YEBvkHTEgbCFBItoi8iIfIz4j7SL5IpojhSQuJiAogSmJKvcqiyoLKmIpRihMJ00mMSWyJMkkISXJJSwmxiXoJJQjxyEKIDYeGhwlGkYYiRY6FQ0UyxJfEXQPDQ1wCrEH4gQvAnv/s/ws+ub37/Vw9ATzjPEf8H/uzuxL69Dpbuhi56HmQOaI5lTnfugX6r3rVe0i7/TwzfLl9Bf3YvkU/D7/1wIBB38LARCUFAoZRh1lITklrijYK8AulDGCNKM35ToKPuFAQ0MVRVdGKUdzRyJHbkZLRedDr0JqQQdAhj5dPHY5DDb8MWgtuCjSI6kesxnQFO8PhgskB3gC0P26+DHz0u1/6D3jjt412gbWeNI/zx/Mk8kwx63EicJowDu+o7xiu2+6Orpfur26xLsNvX6+hMCcwrPEK8eIyffL6s4A0nrVj9mt3frhoOYb657vTfSN+J38rQBIBAUIHAwFED8UrhiiHJMgdSS9J8kqcS0TLxIwkzBCMNIvhS/RLiEuiS1mLBErlylBJx4kOCARGxMV9A6kCJgCY/1g+HLz8O4e6tzkiN9q2XDSPsuswz28+bW1sHOshqkkp++kH6MeodmetZxZmvyXN5YPlQeVhpYjmcCcDqFhpb6pBq78sQK2C7r/vWLCH8c0zB3SgdgN3+DlW+w+8uH36vxiAcAFrQlCDeYQQhRsF6kalR0xIJAiRiRmJQsm/CWLJeEk2iPLIrEhVSDyHmcdmxvhGQUY4RW6E0wRiw79C5YJXAewBUoE9QLtAfYACAB5/wH/Yf7Q/Sv9bfwo/IL8Pf1w/sz/0QC5AZcCVwNkBK8Fywb0BzUJWArOC50NPw/EEO4RZRLMElwT5BPaFO0VhBYdF7cXJRgWGTwa/RrGG0gcOxyZHEkd2h3oHgIgrCC5IQkjTiQQJsQnzyjCKYMq2CqhK8Asky2sLqsvHjC1MB8xLjE+MdMw7C/4Lt0tnSxrKwIqGCjmJVgjVyAzHbYZ3hUNEhAOCQpjBs4CMv/m+4j49vSq8Vru7urR57rkyOGr3y7eMt0Z3VLdf90z3jffXuA54ojk+eYA6oftV/H29TL7ewASBrAL8BBgFhkcvyF8JzMtcTJ9N488cUFXRipLbk8eUzZWjFgwWkNbtFtaW15a7VgSVwBV1FJHUChNiEkiRfw/gjpjNKAtuCZpH9kXthC+CcgCTvzV9SLv0uiM4kHcg9bK0A3L6MUewce8bLmatgS0ErJtsA6vh65arneuI6/Rr76wMbLuszC2+Lj3uxm/acKoxeLIZszBzxTTftZr2XHctd8X4zvnsesT8Hv0cfjX+/r+ywEzBLQGPQm+C8kO4hHlFBEY2xpbHaEfaiG2IoAj7yP4I9wj3yOjI3QjfyMcI50i9iFPIB8eWhuEF18T3Q7PCewEPADJ+933JPQ68N3r5uZM4QLbTNRZzUPGwr8aul21v7HGrhWsXqlmphajbJ/hm2SYOpXTkhmRgpAskQKToZV8mImbJJ6uoIejNaZ/qU6tXrE6trq7vcFZyHbPQNaK3Irih+dr7J3xbPaq++MAogWtCmUPpxPmF3Qbhx5sIaojoSVQJ3EoYykSKm8qtir3KuQqbiqKKccnuiW1I5Yh/R+dHi0d6RumGkAZ5xe2Fi8VsBMaEvIPXw4PDQ4MCAzEC4sLggslCzELWgtRC0kLKgv6CvUKVwvbC5kMag3VDR0OQQ6HDg0PiA/ND40PPg85D7IPzBDlEcISJhM7EzwTIBNuE60T5xNnFHwU4xSiFYIWERiPGfkaVhxDHSMeyB4sH34f7h+8IOAhciPYJNsltCb2Jg0nMCffJncmBCYCJQgkPiMsInIhoCALHyIdjRquF+UU4RHhDpQLKQgIBSICwv+p/ZD7UPnT9vvz8PA87rHroOlO6Dvnsua75ivn9ucT6X/q9uv47W7w8PLq9ff4Dfyn/6MD8AeoDLwRzBYSHKghESeWLAwyyzbnOnU+kEG6REhI3UsrTwFSDFR6VXpWAlfoVhdWqFRkUqRPr0xFScxFLEIdPsI55zSaL8wplCMZHRsWJg9BCEYBz/py9DDuXeiV4hPd69f10izOickBxY/AjLwJuUi2TrTRshqymbF6sfKxOrIksyG007RPtpG3Rbn+u6y+P8IFxoDJfc0F0aDUaNi120jfleLo5a3pY+2q8RD2bPq1/kYCgAXwB/gJIgwcDrIQYxP4Fb0YChtDHVwfHSGDIlwjviNwI9Mi/CHjIPUfCB9AHpwdEB1iHE4b1RlOF/oT8A8eC2EG0QHf/Y/6f/eK9AjxNe3s6AXk294V2dPSdMxdxsrAIryHuGC1t7Lpr46s2qiopJSgnJxTmfaW6JT2k5CTbZNmlKqVGJcAmbiaOpxLnqigUqMOpymrka+jtNC5Xb9mxb3LHtJs2IveGOSr6TzvsvR4+iUApgXQCqQPMRR9GN0ctyAYJBAnUymlK+It0y+QMZoyGDMzM+QyXjKOMWEwEi+2LWAsSys2Kg4psSe9JX0j4yANHm0b2hiIFoAUjRLfEGEPDQ4aDV4MqAv5Cg4K8AjeB9AGAQaOBV0FggXyBX0GLQf9B5sIKglmCTwJWwmHCTsKiwvCDEwOlQ+iEPQRERNiFMIV8hboF5gYfBmEGhsc4h08H30gJSHBIboihiNFJKMkqySQJIskuiS8JMokeCTQIysjQSKKIdMg5B/BHgcdHRsjGToXiBXHE8YRbQ/qDCMKigdIBeEC7ADs/pz8p/qF+J/2MPXH88fy2/Hy8FHww++R77jvC/DB8KvxvfIv9Pf1IfjO+tv93ACnA1cG6QjwC6IPhBOYF3sbPB9XI50nJCxTMN4zHDelOT08MT/hQd9ErUeYSSJLBEwoTDlMB0xRS29KHkkxR/9EjELOP9Y8xDlANiQy3i0gKQwkDR+mGQoUmw4hCdQDGv+c+hL2qfHK7F7nJ+IV3WnYfNTF0DTNLsq4x8DFY8T/wi3Bf7/avYK86LtquyC7ILs9u+a7Db26vsvA5sISxfrGwcjMyvPMQ8+60RPUadZH2XXc4d/T413nyepo7oXx5fQy+B77MP7pALUDigZtCcUMCRCdExEXFxobHXwftSGsIxgljiZ8Jzoo9Sg0KY4p1SnWKckpQynwJ9olEiOKH7Mb7BcMFGQQ5Az2CMYENAD5+nr1ge/u6A7i9No71ODN3cdVwn682raMsRWsRaeBopKdJJmIlD+QrYyKiYWHRIaphfuFkIbTh7+JnIvmjWOQ3pI3lkKat57uo3SpBK8etXa74sHByIjPPdYS3Z3jJuqB8ML2H/05A2kJRw+iFMYZVB61It8miSrXLXUwnTJoNM01DDfpNzs4IDirN8E2tTWUNBczljHGL7Etqyt4KVsnMyUCI8YgVx45HAQawxe6FVwTGBESDzENpAtKCigJ9wcOB2cGngVGBdsENATcA0cDqQJfAiICJAKtAnMDRARGBRgGlAYMB2UHiAfOBzYIfwhLCVwKfAthDQgPnBAzEtwSmhPzEy4UAxWIFcQWFxg5GRobfRwYHsgfrCCCIZshVSE3IeIg+iBIIYQhCiJ8Is8iRyNKI/cibCL1IDQfSx0wG3UZzBdjFvEUghNEEqoQVQ+YDVILOgmBBuoDnAFe/7/9OPwE+/z5C/mT+CT4G/gq+Av4J/gw+H34HvkF+oj7Uf1z/wwCyQTYBysLXA6LEY8UVhdIGmcd1CBzJEooTywMMOgzgzemOr09FkD4QXRDYUQ8RdlFn0YdRzpHXEedRplFPUT7QYw/gzz2OCg1ITH9LJkoayTOH9ca9hVVEL0KHQUS/1z5ifPW7XfoOuNo3rLZSdUU0crMzcjRxPfAm72Auui39rVctEezoLIMssmxsbG4sUCy9rINtKS1f7f3uce82b8mw1PGsskTzZnQidSB2NfcVOGo5Trqyu5R8xH4p/zWANQEhAj6C7wPfRMeF+kaax6tIfgkCCjHKlEtZy+tMIExyTFuMTox0DAiMLIv+i4WLiItoiuEKaMm1iJQHk0Z8ROaDlEJPQRy/3T6v/X78LLrduZr4LXZzNJMyxfEOr3FtgWx0Ktlp0ujqZ9QnMiYeZXxkYqOdouWiKuGdoVFhTiG5IeNir+NJ5GVlPqXQJtpnkOiWabUqmqwSrb7vJ3EKczY03nbZuL/6IPvbPUR+8kAHAaRC2URGhfXHIkixSdoLH8w3DNdNlw4yjmaOlc71DvqOy08KTyoOyY7DTp+OMM2fTQpMrwvJy25KiEocyWbInUfXBxGGSgWZBPSEDkOFQwLCg4IlwbtBF8DHwKQAEn/O/5R/c78mPy8/Af9nv1D/tv+zf+VAHABmQKNA54E3AUeB5sITwr0C5kNVA/QEEgS1RMXFV4WvRcGGZMaPRywHTwflCCFIYQiNSOoIy0kXCR/JKIklSScJKokkSQ8JMEj/CISIj4hJCACH8MdGhx3Gq8YthbcFOYSzhDbDtMMswrYCNAGuQTHAoMAZv5y/JP6HvnU99D22fXw9ED0bvP38r/yhfLJ8j3z4vMl9cv2t/gJ+3792f9EArgEEAeSCVcMFQ8ZEokV9BjKHPUg9iQMKdosNTAkM6Y11DehOXo7KT26PohAEEJ7Q69Eb0WwRT5FSUSFQklAzD3sOkA4azV0MmIv7ytjKFUkIiDIG9YW4RGnDCgH3wG0/Kr3/PKF7uPpkuV24SPdO9lk1WbRwM06yurGM8T+wRrAvb7DvcS8LrwQvAK8SrzCvPW8a70ovvm+k8CcwsnEk8d8ynjNsNDt0ynXWtp93WHgTuNC5jLpl+wg8P3zRfiC/PoARAUgCbwMog8AEhMUxxWFF6gZGhzmHjkimiWyKJgrsy3dLmQv1C6XLSgsUCrTKN8nXCdfJ2UnWydiJkskTyGoHGMXghHnCvcEJf/f+bP12fF37vnq5+bx4c3buNSmzHfEarzItJKuUKldpa+iPqA8ntOblpj/lLmQPowUiJeEPYJWgTWCXITLhwuMJJBflAmYDJvxnY+gmaMap6ere7EsuGjA88iT0V/aAeJN6Q7wA/bY+0cB1gZ3DIMSDxmLH1kmsixLMlI3SjtfPsdAoULgQ+xE0UVrRiJHlEe2R15HeEYNRd5ClUC8PZM6uTdpNFwxYy71Kpcn9iMlIE4cgxihFN0QXQ3KCcAG9ANsAYH/dv2e+5v5Vfdb9VHzufGJ8KjvcO+f71nwl/EV86P0EvYr9973evgR+QP6d/s7/Xb/LgIuBXMIAQweD+URUxTYFX8X+xhLGl8cXR6yIGQj/iXiKHkr0i2BL1cwvjBTMNkvhi8OL/UuJS9TL50v+y/RL0cvMi4OLI0piyY1IxcgEx1zGvEXsBWtE2gRNg+9DMAJoAY6A5T/UPxm+Zz2mPTn8kzxRvBH737u7+1r7R/t8Ow37antmO4t8MvxGvSv9lT5e/yB/7oCGAZfCfoMnhBkFGoYghyvIPkkOik6LRwxnDS0N5Y6AD0sPx5BukImRFJFT0bqRjBHK0dyRkRFk0M+QZU+ajvcNxU06y+tK2MnAyO3HjcaiBWzEGoL6QVXAJf66fRr7xbqG+WG4E/ccdjS1FLRy81nyjvHD8RtwUS/M73mu+66Prp/uui6s7vrvNO95L72vxjBk8JIxIbGB8nyy0rPwdKs1pfaYN794R3l5OdX6tvsaO9A8qT1Jvku/VEBXgWKCRwNLBBzEuET4xSMFYcW3xfAGS4czB6uITckeCYkKMso0CiRJ5UlfCMgIZIfyx53Hs0eIB/2HjIebBxrGV4VRhBLCvwD1v1R+MLzQvBs7c7qFOig5DLgotr000rMCMTkuxq0kK25qDSlKqPEoTOgRZ6LmwKYsJMQj3mKPYZsgxqCbIL5hMOILo0/ko2WCZpZnbSfAaLRpMynG6y7sZi46cDpyT7TTNyw5Ezs/PIE+Z3+GQSMCVoPnxUlHEojWioqMY43mzzKQMpDrkU3R/1Hw0iQSe1JlEr3StVKkUqMScdHeUVWQq0+8zonN2gz5i9iLJYovCTBII4cZBgaFMQPmguWB+kDrgDo/XL7NPky9yz1KvNP8ZnvJe4T7XTsUOzA7KLtBu/b8Mjy4fS69kD40vkp+638lP6PAP0C0AXdCEkM6g9WE3cWNxkuG6wc/B0SH20gECLZI9kl8ycGKvArqi3KLjovMS9wLmotZCxUK5UqFiq8KW4pLynGKPsnCCdlJSsjsCCwHbMa+BeCFW4TwRFEEKYOQg2nC7cJ3weEBfkChQAl/jz80foQ+pH5WPlV+QX55fi7+Ij4mvis+P74l/mq+iX8B/5WAIkC4wQgBzAJcguWDfQPaBLeFHkXKxozHUsglyO2Jm0p6ivBLXAv5DAuMpYz1zQmNjU3QDgfOZ056TlmOWM4wjanNHMyADC6LSwruigjJgkjNiDUHEgZrBV9ES0NkgguBMH/kvvO97bz/+9B7Gvo2ORD4cndTNob19LTy9BgzubLDcp+yPDGwMWwxOLDUsMvwy7DY8Ppw0rEDsUMxjHHqsguytPLiM2Mz9PRYdQy1+vZtNxU39rhYeTg5nzpC+zN7pvxlvTo91L7/f6CAtYF1QhXC6ANgQ9PERQT4xToFhIZmBs2HgUhtCPuJcAnrSj/KK4oyCeXJiMl6iO4Iu4hjyELIZsgkB+pHdEa2xb6EUQMUwb//+b5g/Rd7yjrYOeJ45Hf0NpF1ajOU8dcvy63mq+CqMmiV54Fm+CYEJe5leGTcJGpjvSKZYcmhL6ByYA3gZuDTIdrjHeSdZh5npqj96e3qyev9bJPtyy9M8SDzDjWTuDX6g71b/6uBpgNcxMrGOEclCGHJpEs5DK7ObpAPkcSTZxRx1QlVjFWFVUlU2RRnk9fTo1N3ExLTCpLm0kbR5lDKj+iOaIzMS0GJ0whGhzTF7sTLBDgDFwJ4gUWAgj+q/lG9QDxG+0T6qznU+bJ5bblQub25tjnoehX6Qjqh+pA6y/so+29727yw/Vk+UH98QCIBOkHtgpYDY4PjBGiE9AVdBhbG4seyyHVJI4nsClvK5gsWC2tLZotpS1/La0tTi7aLqMvOjBaMBQwYC8tLpwsBSv/KP0mRyVuIxgiDSH1H/Ueth0LHAIaxRceFXIS9w9XDSMLMwlqBw4GwgSLA0kC7wBs/9X9Xvzc+rH5sPjU91337fbX9gj3avci+AT5D/oV+zj8P/1H/oP/jgDpAWgD/QQYB3IJIgwAD/URvxRBF58ZbxscHaEe4x9VIcoifCR4JpwovCqVLAEuqC7JLksuPC0ELHEq8CiTJ0YmOyU3JBgjpSHLH0QdJRq0Fr0S0w4CCzUH4wPNAOD9FftA+Bz1wfFS7oXq7uaU40bgjd0e29/Y79Yh1UzTiNEA0GDOIc1VzKTLjsvEyxnMqMw0zbLNGM6lzjvPDtBr0QzTLdWs10zaBN2g3wPiCeTq5YPn++i96qLs/u7Z8Rn1sPhM/Mr/6gKuBeYHlgnwCu4LAQ1NDikQmhJZFZUYwBurHjMh/SIQJEgkxCN9IhQhtB+BHlYecx7QHmIfbR8RH9Adihv7Fz0TiQ3/BsgA0fqt9bbxS+6b663ocOWV4WDcEtY9znzFN7xTs7+rqaXioW6fSZ7znducXZuumMKU84+RiquFsYEBgJ+AsoMjiV+POpaEnLmhqqU+qICqQKzZrvyysLjawLjK+NW24Q/tLPd1/40GxgtMEAYVkxlAH88lRy3BNWo+rEaRTc9Sy1UGVyxXPFZfVYlUGlRcVKZUNVViVbNU21KNT+lKG0XsPnc4dTI1LRIouCORHyMb2RYpEgUNlwfRAcT7JPYo8bXslOkX5+/kh+Ma4s/gxN+Z3nzdq9wL3LTbady03avfqOKm5fboWexN72jyV/UL+Nj6zP22AOwDvgekCw8QpBTFGMscOCANI5ol1ieqKVErDy12LhEw9jG+M8U1mTfrOL45BzqgOdY4/jd9Ngc1xzNFMk0xlDDKLxMvCC5cLDQqnydWJBkh8h27GiMYwBWcE7gRyg/NDYMLAAn8Bc8Ct/+x/FD6WfgC9wP2DvV29InzfPJ68S/wEu9D7tftBO4G73XwPfJ79EP25vd/+Yz6ufsS/Yz+oABeA4oGQgppDi8SuBXKGNgagBzJHc4eJyDgIe4jfSZzKTos1C7xMO4xHjJfMcsvDS5RLOMq5ylYKdsoSSiTJxMmBCRcIa0dpRldFd0QwgwrCfEFGwOEALP9v/qs90H0uPAO7TrpdOX64cve+dus2ZjXvNUZ1JHSKtHtz+jO6s0jzW7MvMtxy0PLWsvGy1jMHs0CzjDPdNAR0uvTo9WE1xvZmto03OLdzt/A4QfkQ+a36I7rMO4r8Qr0pvY5+ZX77/0oAKoCKAWmB1sKwQxOD74RFhR2Fr4YHRsXHTsfKSGpIk0kQCXTJfYlliUGJVAk3iMbI5ciAyKzIFkfGx0fGnoW8hHgDEEH1gFY/Fr3AvNj7hnqS+Xc3+bZEdP5y0nEuLxXtU+ucKhEo1KfDZwlmW2WKJMakKCMFokehkuDfIGogCaB84INhl+K044AlOGYL53zoVGmGauMsJO2ob1xxVXOs9ec4a/rFvU7/mQG4Q0PFd8b6iK/Kcsw8DfBPp5F50uFUUpWBVrCXIJewl8/YG9gb2C/X9deTl0vW4pYOVWXUTdNjkiBQ+Q9YjiSMrgs3CbRIKkaWRRyDnEI3ALQ/Yj49fNp7wnrROd0407gTt242rvY49YJ1n3VfdU11gHXVdi/2YPbit2p33TiJ+Uw6Knr8+7h8gn3/fpf/3EDJgc/CwUPrxKcFhMafh3QIMcjviaPKSQsgy7XMLsyZDQvNnA3uDjTOVU64zrhOpk6VzqqOfg4PDhUN1M2WDU9NPkyoTHOL7EtTyuhKPclYyP3IJ0edhwfGqgXNBVSEpYPnAx5CYcGVAO4AEv+Hvy0+hH5qPcq9kP0Z/Jr8KruJe0p7JnrbOsQ7MPs0e0L79/vyfBn8RryBvMc9O/1Bvip+tj95QA2BGgHGgq4DBUPHxFCE5wV8xe1GtUdpCCyI2cmWShsKqgriSyDLbctSC6eLrYuNy/zLsouOS7DLFwrJSnAJlgkiCHrHhIcKhkxFg0TwQ8JDEEIEATC/5/7afeg8wHwgOw56cXlRuK53hDbedcH1MvQ/M2Qy6LJQ8j9xiTGUcUrxF3DQ8JGwdvAdsDOwK/B58LNxO/GOslny23NQ8/D0I3ScNSB1lbZaNzy3xbkEOgp7ArwQPM69q74/Ppp/f7/SwPTBtkKOA8KE+cWNBqEHK8eJyAMITYiWiO+JOgmPymoKyAu1C+lMJcwey9zLe0qSih0JQwjNSGGH0Qe2RzKGuEXsRNKDpYHNQCI+LPwu+l/49vdZ9lQ1QbRt8xXx6TAVrkgsaqo6aDymVCURpDYjY2MB4wVjIyLh4oIiYWGBYTpgYiA2IAMgzGHDI1OlDWc7KNlq/WxYrdqvBjB4cXeyyfTtdvn5Q/xY/zJB1oSiRumI0Aqpy+PNAs55z1tQ4xJWlAcV4Fd9WLgZmxpPGp/ab9nMWVpYsdfiF2rW/JZE1iTVSVSlk3dRy1B0TkeMnAqJSNjHFAW0BC9C+UGrQEy/EL2v+9s6T/jjt3k2PLUBNIn0ObOK87MzV/NyMw5zLrLg8vvyyPNMc8X0sLV5dlZ3uziRud/64XvQ/ML9//6Jf+yA78I5A0mE3sYUB3wIT0m3ilQLUww5zKUNQ04ljorPZs/3kG4QzpFOkbRRiRHCUfCRjNGW0VsRENDAkKTQPk+MT0LO7o4IDZRM20wTS0oKuMmZSPwH2EcoxgBFUgRVA2dCcUF2wFq/t76f/eZ9Ivxve5Y7NTpf+eI5WLjaeH936je1t3D3f7dsd7O3wbhSuLE4zPljuY/6Pzp+eun7sjxZvWL+QT+SgJ6BpMK9A08EW8UKhc0GmwdsSBxJGMoQywVMJYzPjY2OJs5BzoTOgE6ejkmOeo4gThlOPs3MzcNNuwzMjGVLVAp3iTwH1Yb5BaOEr8O2AolB0UD8v5e+iP1tu8R6nXkTd9z2krWoNJ9z7/MKcrVx0rF38JnwNu90LveuYS4z7d3t+m3urjauWK7EL3LvqbAocKCxLPGC8mEy5jOvdEr1QDZudyU4HzkU+gk7Orvp/NL9/n6dP7IAS8FSAhIC1gOHxHUE5UWLxnfG6IeOCGuI9clfyeyKIUp7in+KRkqGSodKogq5ipfKwEsESyfK4oqeyixJUgibR5hGlsWkBIxDz0MewnTBtEDKgCj++v1bO/+5wPgb9gG0YPKMcWhwBO9xrlptrSy/K2PqFiitJtQlY2P8IrRh16GMIZdh1SJKIsjjWeOzo4yj0WPuI9ZkTOUhpiVnhCmYK50t4fA+8jS0LnX292p473pJvBV98f/qQhXEoccICZSL3Y3Oz7dQ2VII0xjT7lSAFZkWRNdXWBZY6hl6WYmZxpmFWQ5Yadd1VnOVYpRU00MSUlEhz9pOoU0vy5sKKchUBuPFPoN9ge2Ad/7YfbG8Jnro+bm4bzd49mk1gLUvdEY0MDOs80azZrMjMwAzcjNS89R0dzTD9d92mHegOKB5rXqxe7L8vr2IfuL/yoE+gj3DSMTVhg5HRYibiY3KsUtsjCJMzA2szhOO509J0BcQlxEYkZxR1tIr0gTSJJHcEYJReBDYELfQHY/2j0kPFk6HjiBNXYy1S75KtQmsCK6HtYaXRcJFNoQ2w3BCo8HGARPADn8B/jt8wTwt+wA6s7nQeY/5XTkweMc4xri5uCV3y3eMt213APdQN5k4EPjfOYL6lTtRPDk8gj1GPcR+X77aP7zAY4GYAvVEF4WLBu7Hy8j5yUrKOEp1SvNLT8wEzMVNl05GzxyPss/A0B3P7c9sjtZOdY26zTzMkIxri+oLTMr/ScKJB0fvBkTFPoNfQg3Ayr+3vlv9Q/xtOzb5+Diu9112ErTic5MyobGi8PrwJG+mLx/uqm49rZbtW20wrOms1a0Q7XAtp+4frqZvLu+28BIwwPGAMl+zG3QktQN2ardJOJ55n7qIO528a303/dA+wb/BQM9B4cLlA9NE4AWIRkxG68c1h3BHqgfwiAUIrEjfCU7J60ovik5KuwpMCnlJxAmWSRxIpkgYB8bHjIdtRzBG9AafRkmF2EU0xB3DO8HPwOv/qL6IPcg9JfxRO/I7OjpY+b94bHcutZR0L/JqsN4vhq65ba7tM6yJLFFr1+s9qjTpN2fLZvqlkqTNZGekCeRGJPHlXGYMJtQnb+ezp+GoI6hH6PrpRiqfa+Mtli+n8YrzwbXTN7V5KDqCvB59T/7kgHfCMYQSRkkIqAqvzLWOdQ/6ETNSBhM9U6AURxUylZqWe9bRF71X+1gGGEgYCpeZFvhV8dTjE8aS3BG/UFMPXQ4oTNiLtYoByPiHGUW7A93CegCzPzN9gnx1+vv5rji9t6s2+3YSdYN1PLR/M9jzgHNKszPyz7MXc0Lz8TRuNQj2Dvc49/K49LnUetB72jzjfdR/GsBsAZhDEQS5xdmHZMi+yYCK6EuvjHVNNQ3tjqhPXNAB0NWRVFHwkisSQFKykkmSRJI00ZMRY9D1UHfP9k9uTtQObE23DPNMHAtDypjJm4irx6sGscWURPXD8oMFQpoB/MEjQL8/1H9nfqu99D0QfLb7xDu6+wz7Cfsduzb7GTto+2R7Vrt1Oxx7G7s3Ows7jDw0PLu9R75JvzO/v4AlwLqAxUFOwYACCcK+wyOEDEUJBiuG4se+SBaIlIj5CMYJK4kUSV8JhkouymbK94snS22LZYsHyvsKEEm+yNkIS0fYR1bG6EZlxcWFS8Smw65Ck4G2gF9/fH4/vQP8TLt2ukx5rHiVt+j20PY5tSg0dzOI8zXydzH5MV7xCHD/cFlwdTA3MBXwRTCc8PoxKHGfMg9yjXMKs5Y0OHSudXw2I3cjuCe5PLoI+3s8Kf0y/e3+qb9VwBDA0UGcAm2DOQPDBOrFdYXoRmyGn4bFxxCHJEc2hzgHDEdNB3hHIEcbBsbGnUYXxZrFD8SRBB8DqoMHwtsCaIHuwWFAzwBzP5X/Af68fcj9rL0mfOd8sHxxfB+7/XtEuzy6cDnoeWn4x7i/eAp4NPfed8O31ze8dwi26DYrNW00qPPD839ynfJn8gcyMLHJ8cmxnjE+cEvvwe84rhztou0jrPDs5S0ErYDuKW5ALvnuyq8I7wlvI+8m729vwzDOMd8zGXSS9hP3urjs+g07UDx7fQI+W/9eAJmCO0OIxZfHZkkXiv6MBo2/jncPKA/pEG0QzpGvEiHS4ROJFEbU4BUpVSaU85Rvk43S2xHSUOKP+c7fDg6Nb4x8i2EKXUkoB5VGMER5gp0BET+jfjI83rvxeuf6IHld+KC32rcV9mQ1hDUCdLK0FLQndDU0c7TK9bw2O3bx9644crkx+cQ68LulvID9+v7+gCIBhwMjxHIFoMb9B/LI28n3yrOLeww0zOrNtQ5tTxmP8JBiEO0RFVFb0XmRB9E90KbQWJABz/ZPaM8TDvTOeE3tDUUMxMw6ix1Kf4lmiJ6H58cHhr0F70VxROkET4PAw1cCrUHQQWnAngAlf7r/MD71fof+pj5Dvlj+KH3xfbb9Q31W/Tt87jzzfNR9P305/Xk9q/3dvgO+YX5C/qX+jT7/fsD/R3+bP/kAEsCyAMqBWAGiwehCJ8JmgqvC5QMlg26DpUPtRCnEV4STRPOE04UwRTfFPMUshRlFNITFxNvEmoRmRCqD4oOkw08DNEKHAkhBwQFewIpAKn9FPv9+Kj2f/So8oDwa+597Dfq4OfA5VPjJOGN3/Dd9Nx/3Pbb3Nvs29vb4tve28TbtNvn22zcRd233n7gfOL05FjnnOnw68vtf+8s8afyUfQK9ub38PkH/EH+RwAqAsADyASUBegF4QXTBZEFVgVMBToFNAVDBQcFhQTQA4AC3wAg/wT9Dvtk+dH3svbs9Sn1ovQO9DbzYfJE8QTw8u7m7UDt++wI7ZftZe5078HwC/I280H0GfWo9S32rfYY97z3hPhO+U76Wvsr/PX8c/1i/Q/9LvzM+i75NPcb9dHyjvBT7urrvelr5+XkWOJH39HbA9jS027PGssJxz/DHsCbvZe7MLoeuTC4PLc1tvi0m7N3spexY7ELsr6zg7YruuG+28MPyYfOSNPy14vcsuBV5YfqKfC+9j3+BQYzDoQWCx4JJUMrUDC8NKM4HjyKPzRD70bGSrJOElLeVLJWUlfgVjdV6VLcT4FMUknYRbxClD8RPHk4/DPvLj4psyIYHD8VYA4LCO8BPPxa97XyV+6H6mTmVOKf3rHaRNdn1OTRLtA4z+XOQ89V0NTRqNPb1SfYmdpd3WPgquNs54Dr2O+39MT5FP+XBPsJWg9YFBEZgh2OIZMlYCkWLdkwiDQ6OOo7YT9dQgRF7EYsSBtJQElBSf9IYUgOSHZH/kaORsdF6kRpQ45BLz9EPEs51TVxMhcvoSuyKOAlPSPbIE8enBu+GKAVLRK0DjALlgdqBHIBt/6O/Hr6l/gH90r1jfPd8eXv7e0T7Drqouhn53Tm4eW65cDlAOZd5pzm5uYR5z/njeft57fos+ny6p3sWe478FbyZ/Ro9qH4xvrU/En/hwG+A0cGdAivCh0NQA9nEcAT0hXPF/8ZwRteHege6h/NIGMhtSHYIcQhwCFoIR0hySD0Hx8f4R0VHB8ayxchFXESug/dDDMKjAfMBDwCiP/D/PX59/bW85LwYe066mHn5OSh4s7gJ9+/3ZXccdt32ozZpNi21/zWa9YZ1mHW1Nas19vY9tlx2+ncRt7G3wLhI+JR43DkseUt57Poaeo97N7tme8h8WTypfOC9DT1y/Uo9n32x/YX91T3rPcH+E74uvj++EH5cPlr+Vn5BvnD+Fv48PfM94L3oPf292L4U/k1+k77ePxa/Uv+5v5P/7P//v96ADsBWQKyA3UFbgc9CT8L1AzfDccO6Q60Dl4Ong37DFkMygtsCxoL9wqXCgcKEAkoB6cELQHl/D74KvNg7s7pz+WZ4ojf/dw32tvWJNNpzibJYMNTvaO3UrIxrh6rFqliqA+oGKhbqBiodKeUplKlLaS2owKkoKW/qCytxLITudm/TMZ0zGLSYdeJ3LXhx+b/7JDz5fpBA6ILeBQIHeYkQSxyMuI3njyXQFZE6EdaS7tOK1JVVfxXQVpuW5Rb+1ouWbZW2lNRUIFMkEg+RKk/DzsjNuEwjCvNJaoffxkwE80MtQbFAOb6g/Vk8IbrROdI47Pfn9z02c/XHdYB1U/UDNRU1O7UBNaF14XZB9wF36ripOYU68rvgPRi+R/++gLkB+UMQBJtF7wc+yGuJkkrey8aM5Y23Dm6PK4/dEKYRLZGMUj+SKRJgEkISTJI5kaHRcZDFkIxQAQ++ztiOZs2sjMzMJ8s2SjMJNogBB1KGfcV3RLID+oM6gnYBtUDngCd/aL6zPeF9V/zpfE68Lzug+1A7AfrIepM6b7odOg86DnoUuh16MroOOm36W3qKOv26xDtJO527yjx0PK/9NT2t/ip+nH8+P2D/w4BrQKwBB4H0AnaDAIQ7BKIFa0XXRmrGs8b+xwvHrsfhSFaI3ElZSfqKDAq3irVKnwqpCl1KG0nTCY8JXIklCOYImsh1h+iHecauBcAFDoQegzECHgFTAIo/yz89PiF9QTyMe5N6njmpOJF3zncb9kW18XUotK10NHON83Dy3vKgsnNyHPIcMjDyFbJHcoTyyTMXc3HzlvQGtIC1PXVHtht2sDcbN8I4pXkU+e06SfsoO698BbzTfVH92n5W/ss/Qj/qwAhAn0DiQR5BVQG6AZwB8AH6AcXCA0IFAgVCOYHzAeUB0kHAAecBiwGlgXxBDMEYAPJAjACsgGHATsBIAFFAUgBhQGpAYgBeAE9AfoAzgCuALAA7AB2ATQCJgMABKEEGgUqBQcFwQQ6BKcDGQORAh0C4QGFARQBrgC5/6P+Sf1D+zP5ufbs8ynxJ+4t6yHoG+VB4kvfetyW2V7WIdOYz8LL+scCxAjAZrwBuRm2wbP3sZ2wjK/lriGuZK3YrAGsd6s+q0irKqzJrWGw1rMIuN28v8HuxvzLtNCl1VvaPd+j5E/quPCv9yz/CgfUDp4W4B2SJN0qXjB/NT06oD4EQ0RHn0vlT99TlleHWqBc410RXlxdG1xFWhFY4lVfU6ZQ2011SqtGcEKjPXU43zIkLSYnISFaG3sV7g+zCnkFnAAE/IL3O/M571/ryOe75Bfi399l3lXdj9yH3L7cI91A3nPf5+AL40Xl2+f06hvuhPEv9dn4ofyEAFUEGQjVC24P2BIwFmkZbhxuHz0i0CRDJ1MpKyu8LOAtyy5EL2cvSy/0Lo8uDC6OLe4sLCxQKxUqtSgIJ/4k3SKGICseARwUGnwYLRcUFvwU0xOhEioRkQ/2DSoMqAp+CYMIOAgMCPkHOwgWCAoI6gdqByMHoQY3BhEG5AUSBmEGzgZVB8cHHwg8CCsI1wd4BxoHvganBqEGxgb5Bh4HJAfxBrgGJQapBVsF5ATzBAwFFwVjBU0FGgXdBHkECwS8A5UDYQObA+4DKASmBNAEygStBEoE1gNkAxoDvQKoArkClALWAtwCmQJqAqABlQCB/zj+/fwG/Df7bvoU+pP55Phv+FP3EPbL9PbyW/Ht74Dunu0L7YrsVewU7IbrAesh6hDpJugS50zmzeWH5anl+uWC5gHnfue657znz+eN55znw+fp55LoDunj6dbqm+ud7C7t1e1V7pXuKO9/7wvwrfA88eDxYPLu8jjzsPMU9Ez09PQw9Zr1IvZP9tf2FfdN95T3qvf49zT4mfj/+Fv5zfkn+qn6+vpV+5r7j/u9+6P7qvsC/Cn8rfw1/Yv9+/0v/kD+N/4D/sr9ef1U/VH9QP2e/dv9AP6F/n/+lv6+/mn+fv5j/lH+iv6K/t3+Cv9P/7v/4f8/AGUAbQBsAEAAJADj/8X/g/8m/9D+H/6K/cv82Pvk+pr5P/iu9uv0CPPH8DXuY+tm6DzlPuJd34jc/NlO15fUt9F+ziTLg8cGxKTAhL0muyG5u7f2tmS2HLb7tdm1tbXgtVi2FrezuO26xb3IwVrGaMse0cDWZ9wm4rLnZu1I83b5IgBLBw4PIRdlH5gnZi+uNjU9QEORSHZNalLOVktb1V+uY2VnfmqAbLptCW42bYNrUWlEZsFiOF8gW9ZWgFJ2TddH5UEXO5czBizZI3cbjBOaCxoENv119gTwzOm047rd79dz0jnNhsidxGDB9r6Kvbi8lbxPvWK+6r8HwkXE5sYayqfNytGf1tvbneHY5y3uwfRV+68BBggKDtUTiRnqHj4keCl4LmYzJDiGPIxAMUQjR31JVUtmTApNSE39TI1M4UsBSw1K4EhmR3xFJENEQOo8VDl1NZox7y1sKj4nMyQ1ITIe/hq6F00UzRBeDfkJ5AYcBLUBzv8e/rj8d/su+vb4sfdr9jH1DPQW80vy1PGk8bDx9/E98m/ygvJj8hHyvvF38THxNfFX8Ybx/fFi8snyN/Na82fzSfMM8/Ty4fIK83Pz6fOi9Gj1DPbP9mX3yvdU+MH4M/n6+dH61/sx/YX+6/9zAcQCCQRDBTwGTgdmCHwJyAr7CyYNSw45DxwQyxBIEaERwxHYEcwRsxGGER8RqxDzD/oO7w2VDBgLhgm4B+IFAQQJAhAADf72+7P5Xffw9Fby2O9O7cTqg+hD5jHkVeJv4LreD91o2+vZb9gP187VtNTa0znT4NK00qbSxtIA00rTv9M+1L7UctUq1gLXKdhH2ZjaEtxn3eXeb+Di4YTjLOXC5n/oNurW66HtWe8I8eDyhvQ69vX3iPlH+/v8s/50ABECvwMxBY8G+QcaCVQKgguIDK0Npw6SD24QGhGrEf0RLxIiEtURjBEKEXwQCxBhD64O/w0CDegLtgolCYAHxgXWAwMCKgBL/oT8tPoA+Ub3hPXX8wPyO/Ce7hDttOuN6nrpj+jn51nn/ebQ5qbmoua85v7mXufb54noL+kH6vzq4ev87P3tBu8t8DDxW/Jw81v0SfXr9V72uvbS9tT2yvab9mv2Nfbr9Zr1JvWO9LLzlvJi8ePvau4M7Znrbupz6YPo0OdM58fmWeYV5qvlX+VI5SPlaOUL5vLmaegv6kHsqO4r8eDzt/aS+aj80/8QA7AGYQo8DnUSmRbOGhofLyMYJ+cqdy6pMc40pjceOqU8xT6iQG1CrkOZRCRFI0W4RN5DokIGQQI/tDwcOg430jNNMEksOyjRIxUfdxqnFeMQRAy5BzkDwv6H+ir2+fEV7h3qmuZy44zgPN503B/bMdrD2YrZjtkE2qraptsE3bbey+By46XmKOpA7nrytvYz+3L/swPYB9sL+Q/4E0MYkhzvIHslsCndLZ8x6TTjNys6MDyqPb0+wD9gQAlBmUHuQRxC50FMQR1Afz5SPKk53Ta7M6Uwri22Ku0nLCVmInYfVxzmGB0VNxEXDRcJSgWiAXT+gPvj+JL2TfQy8vnvru1m6w3pyea05OHiUeEy4HPf8d7L3rDeld6F3k/eHN7x3eXdCt5r3ibfC+A74Zvi7eNp5crmBuhb6YbqxOsl7ZruSfAF8vTz5/XK99X5mPte/Sr/pwBbAvkDkAVkBxgJ6AqkDDIOpg/EEMoRlhI3E9gTXBTcFEgVshXzFQ8WGha6FT8VgxRlE0IS3hBfD90NQAyeCuMIGgcfBf8CsQAd/nn7nfi+9e3yEfBw7c7qUOj65YnjReHu3obcS9oI2O/VDtRA0q7QVs8tzlHNtMw5zPfL28vZyx/MjMwbzfrN+M4i0KHRNtP31PzWDtlE263dGOCM4hrlm+ce6sLsVu/h8YP0FPem+Vr8Bv+dATcEnAbACNcKnQwnDrMP7BAVEkcTNRQwFQ8WrxZHF5IXqBeZFzwXyBYtFmoVrRTSE+cS+xH1ENQPng5QDdoLXQrVCDcHugU9BMQCdQEfAM/+if02/Nv6kPlI+Az3EPYe9VX0wPMH83HyzPEJ8X3w5O9u7z3vHO8r73Xvvu8C8HHwnPC/8A/xAvFC8arx7PG28oXzWvR49XD2V/c1+Pf4f/kP+rD6LfsT/CT9N/63/xwBZQLCA9UExQW5BogHWghFCUUKWAuADNMNEQ9FEHsRURIOE6cT9BNeFLgUHBWjFRAWiRbYFvAW4RZ0Fs8VCBUDFP0SCRLrENsPzw54DRwMiQqgCJkGUgTkAXT/Cf27+pT4nPa/9OvyEPEn7xbt9urt6NrmGOWk42rituFB4RzhQOF24dnhMeKT4g/joeOI5NXlj+fB6WzsVu958rr10/jd+67+XQEABKMGhgl+DNAPVBPTFn4a1R3oIJkjwSWJJ88o8ynSKpsrkCxRLTUu8i5WL3wvHC9HLuYsLysQKawmXCTsIbkfph2fG7IZfhdFFawS0A/zDLoJtQbIAwABqf6L/Ob6bPkx+CT35/Xk9Mfzm/LD8e/wZfBM8HLw+PDY8eryJvR49dL2IPhb+aT63vso/bb+OQDqAc8DkAVqB0cJ7AqCDO0NDg8WEP0QrhFkEgwTnhMyFK0UBxUnFSIV0xRAFKcTwRLZEfwQ5Q/7DvENywzEC24KJAnPBzsGyAQvA5cBJwCo/mr9NvwG+wf64PjX99P2qvWp9IzzgPKn8ebwZPAF8Nfvr++X75LvWu9G7xDvye697pbutu747lLv7O+D8D/x2PFt8u7yH/N786Lz1fNG9K70bfU+9jH3Pvgt+Sn60vpw++b7FPxt/Kv8Df2v/WX+V/9TAFUBOgL8Ao8D1QMHBAIE6wPqA/MDIwRsBNoENAWCBbcFhgU9BZkEpgPKAq4BpQDX//f+Tv7H/Rf9c/yu+4v6ZPkD+Gz2/fR38xjy9PDq7yPvcu7i7VLtsuwZ7EzrierI6Qjpiego6A/oQOii6Dvp7emt6l7rCuyh7CntyO1l7jDvLfBG8ZryCfSB9fT2XPii+b76y/us/If9bv5J/0oAVgFfAnEDZARCBfsFlAYUB2kHygcbCGsI3Qg6Ca8JJAp9CuoKKQtSC3oLewuQC7EL3AshDHIM0AwpDZEN6A0qDnwOqQ7ZDiMPVA+ZD/QPRRCsECMReBG6EdsRuBGAETUR0RCBEDIQ4A+XDzgPwg5DDpcNzwz4C+MKxwmTCDoHAwaxBGgDQgL6AM3/jv46/ez7fvok+cb3a/Ym9eDzufKm8bzw6+8176HuA+6U7Szty+yo7Hvse+yc7MXsIe2M7Sju3e6t76vwp/HQ8gD0JvVg9n73mvi5+d36E/xP/aP+7/9CAZ0CzgP+BAIG0gaeBzIIuwhQCcgJWQrqClsL1QsrDFUMcAxUDBAMuQs8C6cKEwp6CdsIVgjPBzsHtQYNBksFhASRA5kCqAGqAMX/6f4G/jX9Yvya++T6MvqG+dL4Hvhi96D28fUt9Xv04fM788XyWPLk8ZLxLfHF8HDwDPCx72XvEe/J7pbuX+5B7jjuNO5T7oLuuO787kHvgO/J7xzwafDO8EbxwPFi8hbz2fO79KP1lvaP9434ivl/+oj7jPyW/cL+8P8rAYMCzAMNBVcGfweaCLsJvgq0C6QMfw1PDhcPzQ9eENsQNxFkEY8RpBGcEZ8RhBFKEQgRmRAKEGMPkA6rDbcMvgvYCgEKRAmYCOMHLwdnBoEFmQSbA5UCsQHNABYAo/9I/zj/Tf9h/5P/of+d/5z/iP+P/7//HACyAIcBiwKnA+IEDgYTBwUIyAhhCQEKoApCCx0MAg32DQgP9g/iEKERJxKMEpISjRJYEvwR0RFyESYR9BCMEDEQtg8KDzUORA0nDOIKtwlfCA4H5AWdBH8DbQJVAUUAM/8f/vf86fvQ+sH54fj290b3rfYs9uD1j/Vw9Vr1VvWG9bT1EPZv9tT2Tve+91n4+vjH+b/6t/vr/Bf+Pv94AIABhAKGA2METgUyBgUH+gf1COcJ7QrRC4QMHw2CDbkN6A32DekN4w3ADYkNXw0JDakMQAyhC/YKKwpDCU8ISgdKBj0FOAQ6AzICNQE0AC7/LP4q/ST8LPtG+mX5pvjv9z/3svYg9rf1X/UE9df0pPSU9LX01/Qo9YH12fVE9q/2KPek9zf41/h4+UP6Evvs++b80f24/pz/XwAPAb4BWALtApEDLQTJBGkF+QV1BtsGJQdHB1AHOAcFB8UGfQY2BugFqwVmBQAFpgQgBG4DzAL2ARQBUgBh/4D+wf3O/AD8Q/tT+o/5xPjt90H3ifbd9T71ovQX9JnzP/Pg8qDydfJI8kzyT/Jy8qry4PJA84Xz7PNa9LX0UfXP9W72MffT96r4dPk5+hT72PuV/Dj91f1W/sj+T/+4/zQAugAjAZkB/QE4Am0CgAJlAkIC+QGXATwBxgBbAOj/bP/3/l3+wf0G/Sj8RPs7+jX5K/gq90H2WvWT9MfzB/NX8pjx7fA88JHv7u5Q7s/tVu0F7dPst+zJ7OnsGO1d7aXt9O1Y7sjuOu/F71Hw4/CR8UjyFvP/8/L08PXy9uj32Pi9+Yv6WvsZ/Mj8hv0n/sv+ff8QALMATQHCATgCiwK1AtcC2AK+AqYCfgJUAicC9AHBAXsBNwHlAH8AHQCi/xr/kv78/XL98vx1/An8sftb+xX72vqK+j/65/l/+S350viF+Ev4GPgC+Pj3APga+C74T/hu+IL4oviw+L/44fj4+C/5dvmx+Q76ZPrL+lT7zftW/Nv8Tv3K/Uv+zv5Y//j/lABHASAC8wLpA+4E5gXsBu4H1Ai1CZ8KaAtMDE8NPA5iD4wQrBHuEg4UKRUuFhMX5ReTGEkZ5hmAGisbuxtaHO0cYR3DHfkdCx78Hc0dhB0kHa4cLxyjGw8bgRraGS0ZbBiEF44WbxVBFP8SrxFwEBwP5A2vDHILVwokCQkI9wbgBecE7gMTA0QChwHnAEUAz/9g/wb/2f6s/qr+xf7y/kz/uv80AMUAYAHxAZoCUAP6A8kEoQV9BnsHfAh4CYkKigtqDFgNIA7IDoMPEBCcEDARpBEoEpkS+hJOE3kTlROCE1ATDBOkEjUStREnEY4Q6g8/D30OwA3mDPILBAvsCdIItweIBnMFTwQ5AzsCKAE5AEX/Rf5n/XH8i/vE+u35NPmN+Nr3RPfA9kL26fWb9Vf1M/UJ9ff08/Tj9Of03PTW9N/03fTy9BT1P/V79cr1GPZg9rj26vYc91b3YPeM97L3v/f/9yz4UPiL+Kf4r/i/+LX4mfiR+HP4Wvhb+Ez4T/hY+FT4TPg8+C74CPjr99T3q/en95/3kfeb94f3ZvdR9yT39/bc9rD2lfaI9nD2a/Zb9kH2HPbg9aL1SfX+9LX0XvQu9OvzrfOG8z/zA/PE8mTyC/Ky8UDx5fCY8DXwBvDb76/vtO+b75DviO9h71bvLu8T7w3vBu8674Hv6+958ADxl/En8q3yNPO38zz0yPRq9Rf25/bE96v4svmX+o/7efwv/QP+qv5D//r/hwAxAd8BdwIgA6wDJQSFBLwE3ATZBMIEoQRyBDgEAQS9A2UDDwOTAgICZAGcANH/9P4I/if9P/xk+5H6wfkC+Uf4j/fi9jP2hPXl9Ez0w/NV8/fyt/KL8nnye/KI8rHy3vIe83jz0fNO9OL0ffU39v/2zPej+Hz5Ufol+//72vy+/bD+o/+VAIoBdgJVAzEE/gS3BWMG/QZ+B/UHaAjQCDgJoAnzCTcKbAqCCogKgwpjCjgKCgrKCZEJWwkYCd8IoghaCBQIyAdtBxAHtAZOBvUFowVTBRwF5QS6BJwEdgRYBDEECQThA7kDogONA5ADnAOpA8UD1QPtAwYEFQQqBDMEPgROBF0EfQSrBNgEDwVGBW4FnAW9BdgF/wUPBicGQwZWBoQGrwbbBg8HNQdeB4YHsQfeBw8ISgiCCMMIAgk2CWYJjQmqCcgJ7gkMCjMKYAp9CqgKyArWCugK5grVCsIKoQp2CksKHQriCbEJewk7CQUJvAhnCA0ImQcgB6IGIAaoBTMFyQRnBAYEpwNCA9wCcwIGAqEBPAHjAJYATgAYAOn/vP+X/3T/V/9I/0z/XP+A/7P/5/8xAIIAzwAmAXgBxwEhAoQC7wJmA+oDbQQABZIFFwaVBvYGRAeMB8YHBghCCHgIswjnCBQJOwlFCTUJDAnACGUI/weOBx8HswZMBt8FbQX1BGYEygMcA1YCjQHBAPb/Mv95/sT9Hf2E/Ov7WPvC+iH6fvnh+En4wvdX9//2vfaU9nf2avZq9m72d/aF9pb2qvbR9gr3Vve49yX4n/gc+Zz5FvqL+gP7cfvp+2j86Px2/QL+lP4i/6v/LACZAPwASAGKAcgB/AE7AnECrwLnAgcDLAMxAykDGQPnArwCfgI5Av8BuAF+AT0B7wCiADkAyP9L/7j+Lf6e/Qz9jvwP/Jn7NPvJ+mH6+vmI+RH5kfgT+JL3HvfB9mz2M/YE9tT1tPWP9Wr1TfUv9Rf1B/UK9SD1TPWQ9eD1Qvas9hr3jvf792345vhg+e35hfod+8r7dvwh/eD9kv5A//b/lAAvAckBVQLkAncD/wN7BPcEXgWzBQ0GTwaDBrEGwgbPBtUGxwa1Bo8GWQYWBsQFaAX/BI0EEQSIA/YCVwK0AQkBWACt//T+Pf6F/cL8C/xX+6v6DPp0+en4Yfjp93r3D/e19lT2AfbC9YP1YvVS9U/1Z/WG9bb19vU99pX29fZg99z3YPjt+Ir5LPrX+o37RPwA/cD9fv47//j/swBqASIC1QKAAyoEyQRfBfAFegb1BmUH1AcsCH4IzQgFCUIJcAmKCawJtgm+CckJwgm+CawJjglsCTwJBAm/CHEIGgi5B1YH7waGBh4GtgVMBecEeAT/A4UD9gJkAtkBQgG6ADgAsP87/8r+Uv7r/X/9Bv2W/Bb8kvsf+6b6PPrm+ZH5SvkU+d/4q/h8+D74+ve/94D3VfdB9zj3S/dp95b3zfcD+Eb4gvi++AT5Q/mP+ev5TvrH+lf77PuN/Db90v1t/gH/hv8FAIUACQGWATcC4AKJAzkE2QRpBfQFZAbCBhoHZQenB+8HNQhzCLMI6AgFCRoJEwnvCMYIjghOCBgI3gecB1cHBgelBjsGxwVDBbUEHAR8A98CQwK1ATQBuQBGAMn/RP+y/g/+bP3F/CX8m/sg+7j6ZPoW+sr5gfk2+ef4mPhL+AX4xPeV93X3Y/dv94T3qvfZ9wP4MPhV+Hv4ovjS+Bn5Y/nH+TX6nvod+437A/x5/Nr8RP2f/fn9Xv7F/kX/xf9IANMASAG9AS4CkALxAksDlwPdAyEEWgSWBNYECQVBBW4FhwWiBaUFnAWVBXkFXgVEBRoF9wTSBJoEZgQnBNUDigMwA84CeAIRAq0BUAHmAIMAJQC//2D/BP+h/kr++P2h/V79Gf3W/Kn8dPxP/DP8FvwI/PX76/vl++b7+/sO/Df8afyW/Nz8HP1g/br9Df5o/s7+Lf+T/wAAZQDQAD8BpQESAoMC8QJbA8QDLQSPBPcEWAWwBQcGUQaZBucGLQdtB64H3QcECC8IRQhXCGYIXAhXCEgILAgYCPoH3gfBB5oHbAcyB+4GoQZSBgAGsAVlBRcF0QSGBD4E+QO0A3YDLgPgAowCLALRAX0BMAHwAL0AkABqAEkAIgD9/9T/qP+F/2r/V/9O/1L/Wf9o/4b/mP+2/9T/4/8FACEAQgByAKEA2QAUAVcBlwHZAR0CVAKLArcC3AIDAyMDTgN1A58DzQPxAxoENQRLBFwEXQRcBE8EQQQ5BDEEMAQpBBgE/gPZA6QDbAMtA+ICoQJeAhkC5gGvAXYBRwENAc0AjgA/AO7/o/9U/xP/4v6x/pT+fP5h/lH+Ov4d/gL+4v3F/bP9rf23/c796/0I/iL+Of5I/lb+Yv5h/l/+XP5W/l/+bf6C/p3+sf6+/r3+r/6U/mz+Rv4Z/u39xf2g/YL9YP1A/RL91fyZ/D385PuJ+xT7uvpa+vr5tflm+Sb56fik+GL4EvjH93f3MfcD99z20fbV9uD29PYJ9yX3Ovdb9333nPfU9w34Vvi4+Bv5kfkQ+o/6DvuK+/77avze/Ez9w/1H/sL+R//H/zcApwACAVIBlgHMAf0BIQJHAmUCeQKPApICjgKAAloCMQL5AbMBbQEbAccAbgAPALL/Sv/g/nH+8/16/fr8d/wI/Jf7LfvV+nX6GPrF+W35IPnY+JL4Vvgj+Pz33vfM98P3wPfQ9+H3+fch+EX4dfix+O74O/mQ+er5S/qw+hz7ifv3+2X80vw9/af9Ev58/uf+Uv+9/yYAjADtAEUBnwH0AUUCoQLvAjsDhwPAA/kDKQRKBGkEgwSaBLEEzQTjBPYECwUPBRQFFgUGBfsE5gTJBLQEmQSABGwEWARGBDMEHQT6A84DnQNnAzUDCAPcArYCkgJxAlYCNgIQAt4BpAFoASkB7QC4AIYAWwA4ABoAAQDt/9T/t/+V/23/Rv8m/xL/B/8G/w//F/8r/z7/Tf9l/3b/hv+e/7j/2f8CADUAbACqAOgAIQFcAY4BuwHwAScCZgKrAvoCTQOkAwMEXQSzBAMFRAV6BaoF0AXvBRYGOgZgBo4GsgbWBvEG+Ab7Bu4G2AbBBqYGjQZ1BmEGRwYsBgUG0QWZBU4FAAWpBEkE8gOUA0ID+wKxAnQCLwLmAZkBPwHmAIYAKwDZ/47/VP8g//v+3v7A/qv+jv5s/k7+LP4R/gH+/P0F/hv+Of5a/n/+oP6+/t7+9f4J/yT/Ov9W/3//qv/f/xQARABxAJAAqQC4AMEAzADQANcA4gDoAPQA/gADAQYB+wDnAMsAowB5AE4AJwALAPP/4v/R/7j/mf9x/0D/C//T/p3+bP5E/ib+FP4L/gX+Av77/e393v3H/bj9qv2f/aD9n/2p/b790/3v/Qb+Gf4l/in+LP4o/iv+NP49/lH+ZP52/on+kf6O/of+dP5d/kn+M/4f/g7++v3m/dH9uv2l/Y79cv1P/Sj9/fzT/LP8mfyG/Hr8bvxh/FP8QPws/B38CPz6+/j7+PsH/B38N/xd/IH8pfzN/PD8FP07/Wb9lP3L/Qf+SP6P/tb+JP9t/7X//f82AG8AoQDNAAIBNgFtAaYB3AEKAjQCVQJnAncCewJ3AnQCZAJYAkkCNAIiAgQC5wHFAZwBbgE0AfoAtABvACwA5/+w/3T/Pv8U/+H+tP6G/lP+Iv71/c/9qv2Q/X39bv1x/Xz9j/2r/cb94f3+/SD+Qv5v/qj+4/4u/4D/0/8zAJEA6gBEAZUB3gEpAnMCwAIWA3QD1QM5BJYE7gQ9BYEFuQXjBQQGGwYsBkIGUQZjBnUGewaDBn0GagZQBiMG7wW1BXQFNAX4BLwEgwRNBAwEygN/AyQDxwJcAvABjAEuAecAqQB3AE0AGwDx/8H/h/9T/xf/3v6u/oH+Zv5e/l/+cv6P/q7+zv7n/v7+Ef8i/z3/Wf+I/8X/CABhALoAEwFpAa8B7QEiAlICgwKzAuQCGQNQA4gDwAPuAxEEKQQtBCYEFwQABOgD1APDA64DnQOHA2UDPgMEA7wCbQISArcBXwELAb0AdgA2APn/vv+A/zv/6/6W/j/+5/2e/V79Lf0T/QH9/Pz8/Pj89/zv/OX84fzj/O/8CP0z/W39sf3//VH+m/7f/hb/Pv9l/4z/tv/y/zcAhwDgADQBfgG7Ad8B8wH6Ae4B4wHVAcMBuQGtAZ4BjgF1AUsBDwG7AEsA0v9M/8f+Uf7b/W/9Cf2j/D780Ptf+976UvrI+Tb5sPg7+NX3g/dD9wv33Pa39o72ZfZG9iL2CfYA9gX2IvZV9pf26fZI96j3C/hv+NH4N/mc+RD6j/oW+7X7Vvz//LD9Vv73/pH/GQCPAAMBaAHGATQCmAICA2wDwwMUBEwEcwSLBI8EjwSABG4EWAQ8BCYEBQTfA64DagMfA7sCTALVAU8BzwBRANb/av8C/5n+Nv7N/Vr95/xs/PD7evsM+6v6W/oc+uv5xPmk+YT5YvlE+Sb5DfkB+f34Cfko+VP5kfna+Sn6fPrL+hj7Xvuh++r7NvyP/PH8Xv3W/U/+yf46/6b/BQBYAKcA7gA5AYUB1AEnAngCyQIQA1YDjwO3A9wD6wP0A/4DAAQIBBMEIAQwBEMETgRSBE4ENgQYBPQDyAOnA44DewN0A3EDawNkA1sDRQMrAwwD5ALDAqUCjwKFAn8CgQKIApAClAKSAokCdwJhAkoCOgIuAi4COwJHAlsCbgJ3An4CewJtAl0CTAI3Ai8CMAIxAkICUQJbAmkCZwJiAlUCPwIqAhMCBgL5AfYBAQIEAhQCIQIfAiICFQL/AesB0AG8AbABqwGxAbwBygHWAdsB3QHYAcsBvwG3AbABswG/AdAB8AEPAisCTAJdAmYCbwJpAmkCcAJ3Ao0CqgLKAvECEQMuA0UDUQNdA2MDZwNuA3cDhwObA7IDzgPnA/oDCQQRBA0EBgT8A+wD3wPTA8cDxAPBA7wDtAOiA4EDVgMhA+MCqQJtAjQCBgLZAbABigFeASwB8gC1AHAALADr/6r/dP9D/xz/Av/n/tH+t/6X/nP+SP4e/vf91/3B/bf9u/3I/eX9CP4q/k3+Z/56/ob+i/6U/qT+uf7b/gj/OP9q/5r/wP/d/+//9//3//f/+v8BABEAKABCAFkAaQBsAF0ARAAeAO7/vP+K/1n/Mv8T//r+6P7V/rv+mf5s/jb+/P3C/Y79Z/1O/T/9O/09/Tv9Nf0m/RL9+vze/Mn8uvy1/MH82vwD/TT9af2b/cb95v37/Q7+HP4u/kj+aP6T/sf+AP86/2z/k/+p/67/pv+S/37/c/9t/3T/hf+T/6D/of+R/3T/Rv8P/9D+kP5X/iD+9P3T/bL9mP17/VT9Jv3v/LD8b/ww/Pr70Pu3+6r7qPus+6/7rvup+6H7k/uK+4P7gvuV+7P74Pse/F78o/zn/CP9V/2C/aj9zP32/Sn+Zv6v/v3+Tf+a/93/GABJAG4AiACcAKwAvADUAPAAFQE9AV0BdgF+AXUBYAE/ARYB7gDLAK0AlwCHAHcAaQBVADoAGADv/8H/kf9g/zL/Dv/0/uP+2/7Y/tP+y/7C/rv+sf6r/qj+q/65/s/+7/4Y/0b/dv+i/8v/7P8JACYAQQBmAJAAwwD/AD0BfwG9AfYBKAJSAnYCkQKrAsMC2gLyAgoDIwM7A08DXwNmA2EDUwM8AyADAwPnAs4CuwKtAqEClAKEAm0CTQIiAusBrwFxATUBAQHUAK0AjgByAFgAPQAeAPv/1v+w/4v/b/9c/1H/Uv9Z/2P/b/94/37/gv+C/4X/i/+U/6b/vv/i/w8APwB1AKYA0AD4ABcBMgFKAV8BeAGRAa8B1wEBAi0CWAJ4Ao4CmgKbApcClAKPAo8ClgKfAqkCtAK6ArgCrwKbAnwCWgIzAhAC8QHZAckBvAGyAaUBkwF7AVwBNwEOAeIAvQCeAIgAgACAAIMAjACQAI8AiwCCAHcAbABmAGQAaABxAH4AkgCiALAAuwC8ALoAsQCmAJ8AmwCdAKUAsQC+AMYAygDFALoApwCRAHoAXwBKADIAGwAKAPb/6P/X/8D/p/+F/2H/OP8P/+v+yf6x/p3+kv6R/pL+mP6d/pz+lv6K/n/+d/53/oD+k/6t/sr+6f4F/xz/Lv87/0X/Tv9b/2z/hP+i/8L/6/8VAEIAbwCTAK8AxADOANQA2QDcAOMA7QD3AAMBDQEUARYBEQEGAfcA5gDVAMgAwQC+ALwAuQC0AKoAmQCFAGkARwAlAAAA4P/I/7b/sP+v/67/r/+s/6H/lP+E/3X/Zv9Z/0//Sf9G/0f/S/9N/03/S/9A/zP/JP8S/wf///7+/gn/FP8k/zP/Ov87/zT/J/8U/wH/8P7i/tv+2f7d/uf+8P73/vr+9v7w/uv+5P7h/uX+7P75/gr/G/8w/0P/U/9g/2j/bP9w/3n/g/+U/63/yf/r/xAAMwBTAGwAfACHAI8AlgChALAAwQDXAO4ABQEWASIBKQEnAR4BEgEEAfsA9gD2APoAAQEHAQgBBQH1ANwAwQCeAHwAXQA+ACcAEwAAAPT/5v/W/8H/qv+N/23/Tf8w/xn/Cf/+/vn+9f7w/ur+3/7Q/sD+rv6c/o7+hP6B/oP+jP6a/qn+uf7G/s3+0/7U/tb+2v7d/uP+6/7z/v3+B/8S/xr/Iv8o/yf/J/8o/yz/N/9E/1n/bv+E/5n/pv+z/7v/v//G/8z/1P/i//T/CwApAEoAawCNAKsAwADPANgA3QDkAO4A/wATASgBPQFPAV4BagFvAXMBdAFyAXQBdgF6AYMBigGPAY4BhQF2AV4BPwEeAf0A2wC5AJ0AgQBlAEgALAAMAOv/x/+g/3j/Tf8j//7+2P64/pn+ef5b/jf+E/7u/cf9ov2C/Wn9Wf1U/Vj9Zf13/Yr9nv2w/cL91/3u/Qv+LP5R/nz+qf7Y/gr/Pv9w/6b/3v8TAE0AhQC/AP0AOgF6AboB+QE3AnECqALUAvoCGgMxA0cDWwNtA38DkQOgA6oDswO0A7ADpgOSA3UDUgMoA/sCzwKhAnACQQIIAs0BjwFIAQABuABwACwA7P+v/3j/Rv8U/+X+tv6E/lH+Hf7s/bz9kP1s/U39Nf0k/Rr9Fv0W/R39Jf0w/T/9T/1n/YX9pf3N/fn9I/5P/nz+pf7Q/v7+Kv9a/4z/vv/0/ywAZwClAOUAIwFeAZMBwQHrARACMgJTAnQClAKwAssC4QL0AgYDFAMgAyoDLwMyAzEDLwMsAyYDIQMWAwkD9wLdAsICoAJ5AlICKQL+AdUBrgGIAWYBQwEgAQAB3QC7AJsAdwBWADEACgDl/7z/lf9t/0X/Hv/3/tT+sv6S/nX+Wf5E/i7+HP4P/v/98/3m/dz90/3H/b/9tv2s/aX9nv2b/Zr9m/2h/av9uf3M/eX9//0f/j7+XP59/pv+vP7f/gD/Jv9K/27/kP+x/9P/9f8YAD8AZgCPALgA4gAKATABUwFxAYoBoAGvAboBxAHLAdIB2gHeAeEB4AHZAdIBxgG5AawBnQGLAXQBWwFDASoBEgH4ANYArgCDAFIAIADw/8D/lP9r/0b/J/8L//D+2f7D/qv+lv6C/nD+Yf5S/kX+O/4v/ib+If4c/hz+Hf4e/iH+Jv4t/jj+R/5a/nD+h/6h/rn+0f7n/vj+Cf8V/x3/Jv8t/zb/QP9L/1n/a/99/5H/pP+1/8P/zv/V/9r/3P/d/9//4f/h/9//3P/Z/9T/z//P/9D/1f/e/+f/8v/8/wIADAAYACYAOgBOAGAAbgB2AHcAdQBwAG8AcgB7AIkAmQCoALUAvgDGANAA2gDnAPUAAAEKAQ0BCQEAAfIA4wDUAMYAuACrAJwAiwB7AGwAYABWAE0ARAA1ACEACQDv/9H/tf+e/4f/c/9h/07/O/8o/xX/Bf/2/uv+5P7i/ub+7f73/gL/Df8U/xj/Gf8Z/xn/Gv8e/yf/Mv9A/1L/Zv98/5X/r//L/+f/AAAbADMASwBiAHgAkQCnALsAzQDbAOYA8AD4AAMBDgEbASgBMwE9AUMBRwFKAU0BUAFUAVUBVAFQAUcBOgEqARcBBAHxAN8AzwDDALgArgCnAJ8AmACRAIoAggB7AHAAZQBXAEcANwApAB0AFQATABQAFgAYABsAHQAgACcAMgBCAFYAbAB+AIsAkACNAIgAgQB8AHwAfwCHAJAAmwCkAKgArACsAKkApwCkAKEAngCYAJIAigCBAHYAagBeAE8APgApABIA/f/o/9b/yf+//7f/r/+m/5r/i/96/2j/WP9K/z7/Nv8w/yz/KP8l/yL/H/8g/yX/Lv88/0z/X/90/4n/nP+w/8T/1//p//v/CwAbACoAOgBKAFsAbwCDAJgArQDCANcA6gD5AAUBEAEaASEBKAEqASUBGwEMAfgA4wDNALUAngCGAG4AWQBAACkAFAD//+r/1P+7/6H/hP9l/0X/Jv8J//D+2f7D/q7+mv6H/nb+aP5h/l7+YP5p/nb+hf6X/qr+u/7L/tr+5/70/gX/F/8s/0b/Yv9//6H/w//o/w8ANQBbAH0AlwCvAMEAzgDZAOUA8QD6AAEBBQECAfoA8ADjANQAyAC7AK8ApgCXAIcAdABbAEIAJAAAANr/sv+I/13/NP8N/+f+xv6o/oz+c/5b/kX+Mf4f/hD+Bv4A/v39/v0A/gD+Af4E/gb+C/4T/h3+Kv47/k3+ZP5+/pv+u/7f/gb/Lv9W/4D/pf/G/+X/AAAaADUAUQBtAIcAogC5AM8A5QD6ABABJQE4AUYBUQFXAVkBWgFZAVgBVQFNAUEBMAEaAQEB5wDMALEAmgCDAG0AWQBDAC0AGAADAO7/2f/F/7D/nP+J/3f/Zf9T/z//KP8T///+7v7i/tr+1v7W/tf+2f7f/ub+7/75/gP/DP8W/x//Kf81/0H/Tv9f/3D/gf+U/6X/tf/E/9T/5//9/xcANwBYAHkAlACrAMAA0ADdAOsA9wACAQsBEwEZASABJwEyAT0BSQFUAVoBWwFZAVMBTwFLAUgBRwFEATwBMgElARQBBAHzAOIA0QC/AK4AngCSAIoAhAB/AHgAbgBeAEoANgAgAA8AAADy/+b/2P/L/8D/tf+v/6n/pP+e/5n/lv+V/5n/o/+x/8D/y//T/9b/1P/S/9L/1P/d/+n/+P8IABkAKQA1AEAARwBMAFAAVgBdAGYAcQB+AIsAlgCgAKcAqQCpAKYAogCcAJYAjwCKAIcAhQCHAIcAhQCBAHgAagBbAEwAPQAwACYAGwARAAgA/f/x/+P/1P/H/73/tf+w/67/rP+r/6r/q/+u/7H/t/+6/7n/sv+m/5v/kv+N/5P/nf+r/7v/yf/U/9v/4P/l/+v/8//8/wYAEgAaAB8AIQAjACMAJQAoAC0ALwAuACgAHgATAAgAAAD8//n/+P/1/+//5f/Z/87/xP+6/7X/sP+q/6P/mf+L/3v/a/9e/1X/Uf9O/03/TP9J/0X/P/87/zr/N/81/zH/Kv8i/xr/Fv8Y/yL/Mf9C/1T/Yv9v/3r/gf+J/5D/mf+l/7D/vv/N/9r/5//v//T/+f/9/wEACgAVACEALgA5AEEARwBLAE4AUgBTAFMAUABJAD4AMwAoAB4AFwASAA4ACAABAPn/8P/n/97/1f/K/7//sf+i/5T/h/98/3f/cf9t/2n/YP9Y/1L/Tf9L/0v/UP9Y/2H/bP93/4L/i/+S/5v/ov+q/7b/wP/K/9b/4P/s//v/CQAaAC0APQBMAFsAaABzAIAAjQCZAKQArACxALYAtgCyAK0ApQCcAJIAhwB/AHgAcgBtAGoAZwBhAFwAVABGADYAJAAQAAAA7v/g/9X/yf+//7L/pv+b/5D/if+G/4n/jf+W/6D/qf+0/73/wv/J/87/0f/U/9j/3f/i/+r/9v8FABgALgBFAFoAagB4AIMAjgCaAKUAswDAAMsA1ADaAN0A3ADYANQAzgDKAMgAyADKAMwAzwDOAMwAyADAALYAqQCbAIoAewBsAF4AUQBEADUAJwAZAAsA/v/x/+T/2v/V/9L/1f/c/+H/5P/j/+D/2v/T/8z/x//D/8D/vv/A/8P/y//X/+P/8P///wwAGAAhACkALgAxADYAPABCAEoAUQBVAFcAVQBQAEkAQwA/AD4AQQBDAEUARgBIAEkASABHAEQAPwA2ACoAHAAMAP3/8f/n/+D/3f/b/9r/1v/Q/8r/w/+9/7r/uP+3/7n/uP+5/7j/tf+z/6//qf+l/6H/n/+g/6L/pv+t/7X/v//I/9L/2//j/+r/7//z//X/+P/8/wEACAAOABEAEwAVABMAFAAXAB0AJAArADEANQA2ADUAMQAsACQAHAASAAYA/v/3//P/9f/3//v///////3/9//v/+j/3//Y/9L/zf/G/8D/u/+0/67/p/+g/5j/j/+H/3//e/98/33/gv+K/5D/lv+b/57/n/+b/5X/kP+J/4T/gv+D/4r/kf+Y/6H/qf+y/73/xv/O/9X/2f/d/+H/6P/x//v/BAANABIAFAAVABcAGgAgACkANQBAAEoAVQBcAF8AYgBjAGUAYwBhAF4AVgBNAEMAOQAxACwAKQAkAB8AGgASAAoAAgD8//f/8//t/+X/3f/V/8z/xP+6/7D/pP+a/4//g/97/3X/cP9u/27/cv94/4D/iP+P/5X/mf+g/6r/tf/B/87/2f/h/+j/7f/z//z/BwAWACcAOgBNAGEAdACEAJQAogCuALoAwgDJAM4A0QDUANgA2wDdAN4A3gDbANYA0ADHAMAAuACwAKgAoACYAI4AhAB4AGoAXQBPAEAAMQAiABAA/f/o/9P/wP+x/6b/oP+b/5f/kv+P/4r/hv+C/33/d/9w/2n/Zv9o/27/eP+G/5P/nP+k/6r/rv+1/8D/zv/e//D/AgAUACIAMAA7AEQATQBUAFsAYwBrAHQAfgCHAJAAlgCYAJkAmACWAJYAlgCZAJwAnQCcAJcAjgCDAHcAagBbAE0AQAA0ACgAHQAUAAwABQD///f/8f/p/+D/2P/P/8b/v/+5/7b/s/+x/7D/r/+u/67/rP+r/6v/rf+x/7X/u//D/8n/0P/W/93/4v/l/+n/7P/t//H/9v/8/wIACwARABgAHAAdABwAFwARAAoABQAEAAQABwALAA4ADwANAAcA///z/+j/3//Z/9b/1v/V/9L/zf/G/77/tv+v/6n/o/+c/5b/j/+J/4b/hf+E/4b/if+L/4//kf+T/5b/mf+e/6b/sv++/8v/2P/h/+n/7v/y//j/AAAKABUAIAApADEAOQBBAEoAVABaAF0AWgBRAEcAPgA4ADcAOgBAAEMAQwA+ADcALwAlABwAEwAKAAAA9f/q/93/1P/M/8L/uv+z/6r/ov+a/5L/iv+F/4H/f/+A/4P/hv+I/4f/hP+A/3z/e/9+/4P/jv+b/6n/t//F/9D/2P/e/+D/4v/j/+f/7v/3/wIADwAbACQALAAyADYAOQA8AD4APwBAAEIARQBIAEwATwBOAEsARQA7AC8AJgAeABgAFAATABUAFgAVABMADgAHAP//9P/p/97/0//K/8T/wf/A/8L/xf/G/8X/wf+7/7f/tP+0/7f/vf/E/8v/0v/a/+H/5//s//D/8f/z//X/+P/9/wQADgAbACcAMQA5AD4AQABAAEEAQwBHAE4AVABZAF0AXgBeAF0AWgBWAFEATgBKAEoATQBQAFMAUwBPAEgAPQAxACcAHQAWAA8ACgAFAAIAAQAAAAAA/v/5//T/7P/j/97/2v/X/9X/1P/U/9L/0v/U/9f/2v/c/93/2v/X/9b/1f/Z/9//5//x//r/AAADAAYABwAGAAYACAALABIAGgAmADQAPQBEAEcARgBDAD8APQA9AEIASQBQAFcAWwBeAF4AXgBdAFwAWgBWAFIATQBJAEUAQwBAADwANwAxACkAIQAaABUAEAAKAAUAAAD9//n/9f/w/+r/4f/X/8//yf/E/8L/wf/C/8P/xv/I/8v/zP/M/8z/yv/I/8r/zP/P/9T/2f/e/+L/5v/q/+3/8P/z//b/+P/2//X/9P/z//b/+v/+/wAA///5//L/7f/s/+//9v/8/wAAAQAAAP3/+//6//f/9P/w/+z/6P/n/+n/7//2//r//P/9//z/+//7//3/AAADAAMAAgAAAP///v/+//3/+//5//b/8//w/+7/7//y//z/BgARABwAIwAlACUAIQAdABsAHAAeACAAIQAiACAAHgAbABcAEQALAAUAAAD7//r/+v/5//v//f/9//7//P/2/+3/4P/T/8f/vv+7/7z/v//E/8n/zf/O/83/y//I/8T/w//D/8T/yP/O/9P/1//Z/9r/1//U/87/yf/E/8L/xv/O/9f/5P/z/wIAEAAYAB0AHAAXABMADwAOABIAGgAiACsAMgA0ADQAMQArACUAIAAbABgAGAAZABsAHAAdAB0AGwAZABcAFQARAA0ACAADAAAA/v/+////AAABAAEAAAD7//T/7v/q/+n/7P/y//j//f8AAAAA/f/5//b/9P/y//H/8f/y//X/+v8AAAUADAAQABIAEwASABAADgALAAoACwAPABYAHgAkACgAJwAiABwAFwAVABYAGwAgACQAJgAmACYAIgAfABsAFQAOAAgAAgAAAP7//v8AAAIABAADAAEA/P/2/+//6f/l/+X/5//q/+7/8//7/wEABgAKAAgAAgD7//H/6//o/+n/7//2//z/AAABAAEAAQAAAP7//f/8//z///8DAAkAEAAXABwAIAAiACIAHwAaABcAFwAaACEALQA4AD8AQgBBADoAMQAqACUAIAAcABkAFwAVABUAGQAeAB8AHQAXAAwAAAD2//D/7v/v//P/9v/2//L/7P/l/97/2P/U/9H/z//O/8//0f/V/9n/3//j/+T/4v/e/9j/0v/Q/9L/2P/j/+//+/8EAAkACQAFAAAA+f/y/+//8P/1////CQAUAB4AJQApACkAJwAlACMAIgAhACIAJQAqADAANgA6ADoAOAAxACYAHAARAAkABQAFAAcACwAQABMAEwAQAAgA/v/0/+n/4//g/+H/5v/r/+//8P/v/+v/5f/f/9j/0//R/9P/2f/h/+r/8v/1//T/7//o/+D/2f/V/9T/1v/b/+T/7v/5/wIACAAJAAUA/f/z/+z/6f/q//L//f8IABQAHAAgACAAHAAWAA8ACAAAAPz/+v/8/wAABgANABIAEwARAAkAAAD5//T/8v/1//z/AgAHAAsACgAFAP7/9f/s/+b/4v/g/+H/5f/r//T//v8HABAAFAAUABAACQAAAPv/9//2//f/+f/8////AAAAAP3/9//w/+r/5//o/+z/9P///wgAEQAXABoAGgAYABMADQAGAAIAAgAFAAoAEgAaACAAJAAkACIAHQAWAA4ABwADAAMABgAMABEAFAAUABIADAAEAP7/+P/2//b/+v8AAAcADQARABIAEAAMAAcAAAD9//r/+P/5//z/AAAFAAkADAAMAAwACAAEAAEA///9//z//f/9////AQAEAAYABAAAAPn/7//m/9//3P/g/+f/7//4//3//v////7/+//4//b/8v/v/+7/7v/w//f/AAAGAAoACgAIAAQAAAAAAAAABAAIAAwAEQAXAB4AJAAsADEAMwAxACwAJwAjACEAIQAlACcAKAApACcAJAAgAB0AHAAcAB0AHgAfAB8AHQAcABoAFgAQAAcA/P/t/9//1//W/9z/5v/x//j/+v/1/+7/5P/c/9f/1f/X/9j/2//f/+H/4//l/+b/5v/k/+D/3P/W/9H/z//T/9r/5f/x//v/AAABAP7/+P/w/+z/6f/p/+z/8f/3//7/AgAGAAgABgADAAAA/P/5//n//P8AAAgAEwAhAC8AOwBCAEEAOwAvACQAGwAXABYAGQAdAB4AHAAaABYAEQAOAAoABgACAAAA/f/6//j/9//1//H/6//k/9z/1f/P/8z/zv/U/9r/4P/m/+n/7P/t/+z/7P/r/+v/6f/n/+b/6P/s//T//P8CAAYABQABAPv/9f/y//D/8f/0//j//f8BAAcADAAOAA0ABwABAPz/+P/4//z/AgAIAAsADAAKAAQA/f/2//D/7P/s//H/9/8AAAgAEAAXABwAHwAfABwAFQAMAAEA+P/y//L/9//+/wUACwANAAoAAwD7//T/7//t/+7/8v/0//f/+v/6//n/+P/1//D/6v/k/+D/4P/i/+n/8v/7/wEAAwABAP7/+f/0//H/8P/w//L/9v/7/wAACAAOABIAEwARAA8ADQANABEAFwAeACUAKQApACYAIAAZABAACQADAP7//P/7//z/AAAAAAAA/f/2/+3/5f/e/9r/2v/b/97/5P/s//T/+/8AAAMABAACAAAAAAABAAIABAAHAAoADQAQABQAGAAZABgAFQARAA0ADQAPABYAHwAnAC0ALgArACYAHgAWAA8ADAAJAAYAAwAAAPz/+f/3//j/+f/7//v/+f/2//X/+P/9/wUADwAYAB0AHQAZABUAEAALAAcABAACAAEAAgAFAAkACwAMAAgAAQD6//D/6f/l/+H/4P/h/+P/5f/n/+n/6f/o/+X/4//i/+L/5v/r/+//9f/8/wMACQAOABAADgALAAYAAwADAAUACQAMABAAFAAXABsAIQAjACQAJAAhABwAFwAVABUAFAAUABMADgAIAAAA9v/u/+f/4v/h/+H/4v/j/+T/5f/m/+f/6f/t/+//7//v/+7/7P/r/+3/8//4//7/AQADAAMAAwADAAQABgAIAAkACwAMAA4AEgAWABkAHAAeAB0AGgAVAA0ABAD8//T/7v/s/+3/7//z//X/9//4//f/+P/5//r/+v/5//j/9f/y//D/7v/s/+z/6//p/+j/6v/v//f/AQANABkAIgAlACMAHAATAAsABgAEAAUABgAGAAMA/v/2//D/6//q/+v/7f/w//L/8f/w//D/8//3//z///8AAP//+f/w/+j/5P/j/+j/7//1//r//P/8//v/+v/6//3/AAAFAAwAFAAcACQAKAApACUAHAASAAgA/v/1/+3/5v/j/+L/5P/q//H/+P/7//v/+P/z/+//7v/x//b//f8CAAkADQAPABAADwANAAkABQACAAMABwANABUAIAApAC8AMgAwACoAIwAbABQAEAAOAA0ADQAMAAkAAwD+//b/7P/j/9r/0v/O/8z/zv/S/9n/4P/m/+r/6//r/+n/5v/i/9//3f/e/+L/6f/y//v/AgAFAAQAAAD9//r/+f/9/wQADAAUABsAHwAgAB4AGQARAAoABAABAAAAAgAGAAoADQAQAA8ADgAMAAkABwAFAAUABwALAA8AEwATABMAEAALAAYAAgD+//r/9v/3//r///8GAA8AGAAeACAAIAAeABoAFQANAAUA/v/3//L/7//u/+3/6//p/+b/4v/g/9//4P/h/+T/6P/u//X//f8AAAIAAAD6//H/6f/j/+P/5//v//j///8DAAQAAgD///v/+P/2//j//P8AAAUACgAPABUAGAAZABgAFQATABAADgAPABIAFwAcACAAIgAjACEAHgAZABIACgAEAAAA/v/+//7//v/+//z/+v/2//L/7f/p/+X/4f/g/+L/5v/v//n/AQAIAA0ADQAKAAYAAgD///z/+v/3//X/8//x//H/8v/1//f/+v/8//7/AAACAAUACwAQABUAGAAYABUAEAAKAAMAAAD9//z/AAAEAAYACAAHAAQAAQD///7///8CAAkADAAPABAADwAMAAgABAAAAP7//P/8//z//v8AAAIABAAHAAkACgAKAAoABwAFAAIAAgADAAIABQAGAAMAAAD3/+//6f/j/+L/4f/j/+b/6P/p/+z/7v/x//P/9P/1//b/9//3//j/+f/5//n/+f/3//b/9f/z//P/9f/2//j/+P/3//f/+f/+/wUAEAAcACUAKwArACYAHgAUAAkAAAD7//j/+f/+/wMACAAKAAcAAQD8//T/7//u/+//8v/2//v///8AAAEAAAD+//z//P/9////AAACAAQABgAJAA8AFAAbAB0AGQATAAwABAAAAAAAAQADAAUABAACAP///P/5//X/8//x//H/8//1//j/+v/6//j/9v/z/+//7v/t/+v/6//p/+j/6f/s//L/+v8BAAcACwANAA0ADQAMABAAFQAbACIAKAArACwAKgAnACMAIQAdABkAFQAQAAoABQACAP//+//4//X/8f/u/+7/7//z//n/AAAFAAkACgAIAAUAAQD///v/+P/1//T/9P/2//r/AAAHAA8AFgAaABwAGwAZABQADwALAAgABgACAAAA/v/6//f/8//x/+//7//w//H/8//0//T/8//w/+3/6//r/+r/6P/o/+X/4v/g/+D/5P/q//P//P8CAAcACgANAA4AEQAUABkAHgAiACYAKwAuADAALwAoABwADgAAAPb/8f/x//f//f8BAAMAAQD///v/9v/y//D/7//v//L/9v/6//3//f/6//P/6//j/93/3f/g/+j/8f/5////AQABAAAA/f/7//n/+f/8/wAAAwAHAAgABwAFAAAA/P/5//f/+f/9/wIACAALAAwACgAEAP3/9f/w/+3/7//z//j//f///wAA///8//j/9P/y//T/+f8AAAkAEgAXABgAFAAMAAQAAAAAAAcAEgAeACcAKwAnAB4AEAABAPb/7//u//P//P8GAA4AEgAOAAQA+P/r/+L/4P/m//D/+/8DAAkABgD+//D/4P/T/8v/y//U/+L/8/8DAA0ADwALAAMA/P/3//f//f8IABUAHwAkACAAFgAKAAAA/P///wcAFQAiACoALAAnAB4AEgAHAP//+v/5//v///8CAAQAAgD9//T/6f/f/9r/2f/d/+T/7//7/wMACAAJAAUA/v/4//b/+f8DABEAHQAjACAAFQAFAPb/6v/l/+f/7f/3/wEACgAPAA8ACgADAPv/9f/y//P/9//9/wAAAgAAAPv/8//s/+T/4v/j/+j/9P8AAAsAEwAVABMADAAFAAAA/f/+/wAABQAKAA4AEAAPAA4ACQAEAAAA/v///wUADgAXAB4AHwAZAA8AAwD4/+//7P/t//H/+P/+/wIABQADAAAA+//5//v/AAAIABAAFQAWABAACAAAAPf/8f/u/+//8f/1//v/AAABAAAA/P/1/+//7f/v//b/AAAIAA8AEwASAA8ACgAGAAMAAAD/////AAADAAYACAAHAAMA/f/1/+//7f/v//T/+/8AAAQABwAGAAQAAAD9//n/9//3//n//v8EAAoAEAAUABUAEwAQAA8ADgAOABEAFAAUABIADgAJAAMA///9//v/+v/6//r/+v/8//7/AAACAAEAAAD9//n/9//2//f/+f/6//v/+//5//f/8//u/+n/5P/j/+b/6v/x//f//P/+//3//v/+/wAAAwAHAA0AEQAVABgAFgASAAgA+//u/+T/4f/k/+///P8EAAsACgAFAP7/+P/3//n/AAAIAA8AFQAWABIADAAFAAAA/v/+/wEABgAMAA8AEAAOAAgAAQD8//j/9f/2//r//v8BAAQABQADAAAA+P/x/+z/6//u//X//f8BAAIAAAD8//j/+f/9/wMADAAUABkAGgAWAA0AAgD1/+r/5P/k/+n/8v/7/wIABQAFAAIA/v/6//j/+P/7/wAABwANABIAFAASAAwABAD9//j/9P/0//j///8FAAsADwAPAAsABAD8//X/8f/y//j/AQAMABUAGgAaABUADQADAPv/9v/1//r/AAAIAA8AEQAOAAYA+v/u/+b/5f/u//z/CgAWABoAEgACAO//3v/Z/+H/9P8LACAALAAsACEADQD6/+v/5v/t//7/EgAmADIAMgAkAAsA7//X/8r/zP/b//P/CQAaAB4AFgAEAPL/4v/d/+X/9/8NACEAKwAnABkAAQDq/9j/0v/Z/+r///8QABkAFgAKAPr/6v/f/+D/6v/4/wgAFgAdABoAEAACAPX/6//p//D//f8JABMAGQAWAAwAAAD0/+v/5v/n/+3/9v///wQABwAFAAAA9//x/+7/7v/z//n/AAAFAAgACAAIAAgACQALAA4ADwAQAA4ACgAFAAAA/P/6//v//v8AAAEAAAD8//T/7v/s/+//+/8JABcAIAAhABoACwD6/+z/5P/j/+n/8v/9/wMABQABAPz/9P/u/+z/7v/z//n///8DAAQABAACAAAA/P/6//v//v8DAAsAEAASAA8ACQAFAAQABwANABMAFQARAAkA///1/+7/7f/x//f//f8CAAUABgAEAAEA/f/6//j/+f/9/wIABwALAA0ADQAKAAcABgAFAAcACQALAAgABgABAP///f/+/wIACQAPABIAEAAJAP//9f/s/+j/6P/q//L/+f/+/wAAAAD+//r/9//2//f/+/8AAAQABgAFAAAA+f/x/+n/5P/k/+r/8v/+/wcADgAQAA0ABwABAP3//v8BAAcADAAOAAsAAwD8//T/7//x//n/AwAOABUAFgARAAkAAAD6//j/+/8AAAcACwANAAoABAD+//j/9P/1//r/AAAGAAwADwAPAAoABQD///f/8v/v/+//8v/4////BAAIAAgABAD///n/9f/2//v/AQAGAAkABwABAPn/8v/t/+v/7f/z//r/AQAHAAoACwAJAAUAAAD9//r/+f/5//n/+//9/wAABgAMABIAFQAVABIADgAJAAUABAADAAIABQAGAAcACAAIAAgABwAFAAQABAADAAQABAABAAAA/f/5//f/9f/1//j/+//+/wAAAAAAAP3/+//6//r//f8DAAwAFAAbAB0AGAAOAAIA+P/w/+7/8//7/wIABwAKAAcAAAD6//T/8f/0//v/AwAMABMAFgAUAA4ABQD9//X/8P/t/+7/8v/3//z/AAAAAP///v/+/wAABAAJAA0ADQALAAcAAwAAAAAAAAACAAQABQAGAAYABQAEAAMAAwAEAAUABwAHAAYABAABAP///P/7//r/+v/5//f/9//3//n//P///wIAAwACAAAA/f/4//P/8f/y//X/+/8BAAYABwAEAP7/9P/u/+3/7//3/wAACgARABUAFgARAAoAAQD5//L/7f/t//P/+/8DAAkADQANAAkABAAAAP//AAACAAYACQAKAAgAAwD7//L/6f/l/+b/6//1//7/AwAFAAEA+//z/+3/7f/w//f///8FAAoACwAJAAYAAwABAAEAAgADAAIAAAD+//r/9//3//j/+f/6//3/AAADAAsAEgAXABcAEAAHAPz/8f/t/+7/8//7/wEABwAHAAUAAQD8//j/9v/2//f/+/8AAAQACAANABAAEQAPAAwABwACAAAAAAAEAAgADQAPAA0ABwAAAPn/9f/1//n//v8CAAQAAgD+//j/8//v/+3/7v/v//D/8f/x//H/8//2//v/AAAHAAwADgANAAkAAwD///3//v8AAAIABgAHAAYABAACAAAAAAACAAUACgANAA0ADQAJAAUAAAD9//v/+f/3//b/9v/4//z/AAAFAAkACwANABAAFAAXABgAFgARAAkAAAD2//D/7f/u//H/9f/8/wEABwALAA0ADgANAAwACwAKAAkACQAHAAQAAAD6//X/8f/u/+7/8f/z//f/+////wIABAADAAAA+P/u/+b/4v/i/+j/8f/8/wQACAAHAAIA/f/4//b/+P/8/wAAAgACAAAA+f/1//P/9f/7/wAABwAMAA8ADwAQABIAEwAWABoAGwAZABUADwAJAAIA/v/7//n/+P/4//v//f///wAAAAD+//z/+//9/wEACgARABYAFwARAAcA+//w/+n/5//r//H/9//8////AAAAAAIABQAKAA4AEAAPAAwABwAAAPn/8v/t/+v/7f/0//3/BAAKAA0ACgAEAP3/9//1//b/+v8AAAMABQADAP7/+P/z//L/9P/6/wIACgAQABMAEwARAAwACAAIAAgACgAMAAwACgAGAAIA///8//z//v8AAAMABQAFAAIAAAD+//r/+P/4//j/+f/7//3//v/+//7//f/7//r/+v/8/wAABAAIAAsACwAJAAQA///5//T/8f/x//P/9v/5//n/+P/3//b/9v/3//v//f/+//3/+v/3//b/9//5//z///8AAAAAAAABAAIABAAGAAcABgADAP7/9//v/+j/5P/m/+z/9f8AAAkAEAAUABUAEwARAA8ADgANAA4AEAARABEADwAIAAEA/P/5//r/AAAIABEAGAAcABsAFQAOAAYA///6//n/+f/7//z/+v/1/+3/5f/f/93/4P/o//L//P8DAAcABwADAP7/9//x/+7/7v/x//b//P8AAAMAAwAAAP3/+v/6//v/AAAFAAsADwATABIADgAIAAEA/P/5//v//v8DAAkADAAMAAkABQABAAAAAQAFAAoADQANAAoABwAEAAIABAAIAAwAEAASABEAEQAQAA8ADwAOAAwACQAFAAEA///+//z/+f/2//H/7P/n/+b/6P/t//T/+v///wEAAAD///3/+//8//7/AAABAAAA/v/7//j/9f/0//P/8f/v/+3/7P/t//L/+P/+/wMABAADAAAA/v/8//v//f8AAAMABgAIAAgACQAJAAoACwAMAA0ADQAMAAsACQAHAAYABgAFAAUABQAFAAYABwAGAAYABQAEAAUABgAHAAcABQAEAAEA///9//z//f/9//3//P/8//3///8BAAMABAACAP7/+v/0//D/7//v//H/9P/3//r/+//8//3//v/+///////+//3/+v/4//T/8v/x//H/8f/z//T/9v/2//j/+f/7//3/AAADAAYACAAKAAoACAAHAAYABgAIAAsADwATABQAFAATABEADgAMAAsACQAIAAYAAwAAAP///v8AAAEABAAFAAMAAQD9//n/+P/5//v//v////7//f/8//3/AAAEAAcACQAKAAgABgAEAAIAAAD///v/+P/1//P/8//z//T/9f/1//b/9//6//3/AAABAAAA/v/5//P/7v/s/+z/7//0//n//f8AAAIABAAHAAoADgASABYAGAAYABYAEwAPAAsABwAEAAEAAAD///7//v/+/wAAAAABAAMABAAHAAkACwAOABAAEQASABAADQAKAAYAAwABAAAA///+//r/9v/y/+//7f/t//D/8//1//b/9f/0//P/8//1//f/+//+/wAAAAAAAP///f/7//v//P/9//7//v/8//n/9v/0//P/9P/3//v///8AAAAAAAD+//7//v/+/wAAAAAAAP7//P/8//7/AAAGAAwAEAARABEAEAARABIAFAAUABEADQAJAAUAAgAAAP3/+v/3//b/+v8BAAsAFQAcAB4AGwATAAwABgADAAEAAQAAAAAA/v/7//n/+P/3//n/+//8//3//P/6//f/9//4//r//v8AAAAA/P/2//H/7f/s/+3/7//y//X/+f/9/wAABAAHAAgABwAEAAEA/v/8//v/+//8//v/+//7//v/+v/4//X/8v/x//H/9f/6/wAABgAKAAwADgAPABAAEgASABAADAAHAAMAAQAAAAMACQAOABEAEwASABAADgANAAsACgAIAAgACQAKAAsACwAJAAYAAQD9//f/8//y//H/8//1//j/+//8//v/9//y/+3/6P/n/+n/7v/1//3/AwAGAAYAAgD+//v/+P/1//P/8f/v/+7/8P/z//f//P8AAAEAAAD9//r/+P/3//n/+//+/////v/9//z//P/9////AQADAAQABgAHAAkADQARABUAGAAYABUADwAIAAMAAAABAAUACwASABgAHQAeABwAFwAQAAkAAwAAAAAAAwAGAAcABgACAPz/9v/x//D/7//w//P/9v/4//r//P/9//3/+//5//f/9//2//b/+P/4//j/+v/7//3///8AAAEAAQAAAAAAAAAAAAAAAQABAAIAAwAEAAQABAACAP//+v/2//X/9f/5//7/AgAHAAsADQAPAA8ADgAMAAkABwAGAAUABwAIAAkACgAJAAcABAACAAMABQAJAA8AFAAWABYAEgANAAgABAABAP///v/7//b/8f/t/+v/7f/x//j///8FAAoACwAJAAYAAQD8//b/8f/t/+v/6v/q/+v/7P/t/+//8P/x//P/9P/1//f/+f/7//7/AQAFAAcABwAEAAAA/f/5//j/+v/+/wMABwALAA0ADQAMAAsACgAIAAgABwAHAAYABQADAAIAAQAAAP///f/7//n/9//1//X/9v/6/wAABwAPABUAFwAWABIADAAHAAQAAwADAAIAAAD9//r/9//3//n/+//9//7//f/7//j/9v/1//T/8//x/+7/6v/m/+T/4//j/+b/6P/r/+7/8P/0//f/+f/8/wAAAwAFAAkACwALAAoABwAEAAAA////////AAABAAAAAAD+//z//P/9/wAABAAJAA4AEAAQAA4ADAAJAAgABgAGAAgACAAJAAwADQAPAA8ADQAJAAMA///5//b/9f/3//v/AAAGAA0AEwAXABgAFgASAAwABQAAAP7//f/+/wAAAAABAAAAAAD+//3/+v/2//L/8P/u/+3/7f/t/+z/6//q/+r/6//s/+3/7//y//b//P8DAAoAEAASABAACwAFAAAA/v/+////AAACAAQABgAHAAcABwAHAAYABQAFAAYACAALAAwACwAKAAkABwAGAAUABQAGAAcACAAIAAgABwAGAAUAAwAAAP3/+f/1//P/8//2//v/AAAFAAoADAANAAoABgABAP3/+P/2//X/9//6//z//v///////v/+////AAAAAAAA/v/5//T/8v/y//P/9//7//3//f/7//r/+f/6//3/AQAFAAcACQAKAAcABAAAAP3/+f/2//T/8v/x//L/9f/5////BAAJAAwADAAKAAgABQAEAAUABgAJAAsADAAMAAoABQD///j/8P/r/+v/7v/0//z/AgAGAAYAAgD///v/+f/6//z/AAAAAAEAAAD///////8AAAQACAAMABAAEwAVABUAFAARAA8ADQAMAAoACQAGAAMAAAD+//z//P///wEABAAHAAkACgAKAAkACQAHAAYAAwAAAP3/+P/z//D/7v/u//D/9P/3//v//f///wAAAAABAAIAAgADAAIAAQD+//r/9P/u/+n/5v/m/+r/8f/7/wMACgANAA0ACwAGAAIA///9//3//f/+////AAAAAP///f/8//3/AAADAAcACgAMAAwACwAKAAoACgALAA0ADAALAAoACAAGAAMAAgACAAMABAAGAAcACAAIAAgACAAHAAcABwAGAAMAAAD+//v/+f/3//X/9P/y//H/7//v//L/9f/4//v//f/8//n/9f/v/+n/5f/i/+L/5P/n/+z/8v/2//v/AAADAAcACgALAAkABgADAAAA/v/+//3//P/8//v/+//+/wAAAgADAAIA///5//X/9f/4////BQAKAAsACwALAAwAEQAXAB0AHwAcABcADwAGAAEA///+////AAAAAAAA/////wEABgALAA8ADwANAAkAAQD9//r/+v/8//3//v/9//n/9f/x/+//7//w//H/8v/x//D/7//u/+//8f/0//f/+f/5//j/9//4//r//f8AAAEAAQABAAEAAwAFAAkADAAPAA8ADwANAAsACgALAA0AEAARABEADwAKAAQA///6//n/+//+/wIABQAHAAgABwAHAAcABgAHAAYAAwABAAAAAAABAAUACAAKAAoABwADAAAA//8AAAIABQAHAAgABgAEAAIAAAD9//r/+f/3//f/9v/1//T/8v/y//H/8f/x//D/7f/p/+T/4f/h/+X/6//y//j//f///wAAAAAAAAAA///6//X/8f/w//T//f8HABIAGgAeAB0AGQAVABEADwAQABIAFQAYABgAFgASAA4ACQAEAAAA///9//v/+//6//v/+//6//r/+v/4//j/+f/6//v//f/+/wAAAwAFAAcACQAIAAcABAABAAAA///9//z/+//6//j/9//3//X/9P/z//H/8P/u/+7/7//x//X/+f/7//3//v////7//f/7//j/9f/0//P/9v/6////AwAFAAYABgAFAAQABgAIAAwADgAQABIAEwAVABgAGgAcAB4AHgAbABcAFAAQAAwACQAHAAQAAgAAAP///P/6//f/9f/0//T/9f/3//r//f/+//z/+f/1//L/8f/z//j//f8BAAUABgAHAAYABgAEAAEAAAD9//z//P/+/wEAAwAGAAYAAwAAAPz/+P/0//L/8v/0//j//f8BAAIAAAD9//j/9f/z//P/9P/1//f/+P/7////AwAIAAsACwAJAAYAAgAAAAAA//////3/+//5//j/+f/7//7/AAACAAQABQAFAAQABAAFAAYACAAJAAoACwAKAAoACQAGAAEA+v/0/+//6v/p/+v/7v/x//T/9//4//r//P/+/wAAAgAFAAcABwAGAAUAAgAAAP7//f/+/wAAAgAFAAkACwALAAkABgAEAAIAAQABAAEAAQAAAAAA/////wAAAAABAAEAAAD///3/+//6//r//f8BAAUACQAJAAMA+//y/+r/5f/m/+v/8//7/wAABQAIAAkACgALAA0ADwARABMAEwAPAAgAAQD9//v//P/+/wAAAQAAAP7/+//5//r/+//8//3//f/7//r/+v/9/wAAAwAGAAgACQAKAAoACQAKAAoACgAKAAoACQAHAAUAAgD///z/+v/7////AQAFAAcABgAEAAEAAAD//wAAAgAFAAkADAANAAwACQAFAAIA/v/8//v/+//7//n/9//2//T/8//0//f/+v/9/wAAAgAEAAMAAgABAAAA///+//3//P/9//7///8AAAEAAQABAAEAAQABAAIAAgABAAAA///+//z//P/8//z//P/7//r/+v/7//v//P///wAAAAAAAAAAAAAAAAEAAQABAAAA/P/6//n/+f/7//7/AQADAAYACAAJAAwADgAPAA8ADgAMAAsACQAHAAMAAAD9//r/+f/5//r//P/9//v/+P/1//P/8//z//T/9v/4//z///8BAAQABQAGAAQAAQD///z/+P/1//T/9f/3//v//v8AAAEAAAD///7//P/9////AgAFAAcABwAGAAQAAAD///3//P/7//z//v///wAAAgADAAQABgAJAAsADQAPAA8ADgAMAAgABQACAAAA/////wAAAAD+//z/+f/5//z/AQAIAA8AEwATABAADAAHAAMAAQAAAAAAAAAAAAAAAAABAAEAAAD///z/+f/2//X/9P/1//b/+f/9/wAAAgADAAMAAAD+//r/+P/4//n//P///wEABAAFAAYABwAHAAYAAgAAAP3/+v/5//n/+v/7//r/+f/3//T/8v/x//P/9f/6/wAABwAOABUAGAAaABgAFQAQAAsABgABAP///P/7//n/+v/7//z//P/7//n/9//1//P/9P/4//7/BAAKAA0ADQAKAAcAAwABAAAAAgAEAAYABwAIAAgABgADAAAA/P/4//X/8//y//H/8f/z//f///8GAA0AEQASAA4ABwAAAPj/8v/v/+7/7//y//b/+//9/////v/8//n/9//2//b/+P/7//7/AQAEAAYACAAHAAUABAACAAMABQAIAAsADQAOAA0ADQAKAAYAAQD7//X/8v/y//j/AAAKABIAFAARAAkAAAD2/+//7f/u//T/+/8BAAcACgAKAAcAAgD9//n/9v/1//X/9f/2//f/+P/5//j/+P/4//n/+v/8////AgAEAAUABgAHAAcACAAIAAgABgAEAAMAAgABAAAAAAAAAP////8AAAIABAAFAAQAAAD6//T/8f/w//P/+P///wUACwAPABEADwAMAAgAAgD9//n/9//3//r/AAAEAAkACwAMAAsACQAHAAcABwAIAAkACwANAA0ADAAIAAEA+//z/+7/7P/u//L/9v/5//f/8//v/+z/7P/w//X/+v/+/wAAAAAAAAAAAAACAAIAAQAAAP///f/8//z//f/+//////8AAAAAAAAAAAAA//////7//v/+//7//v/+//3//v8AAAIABQAJAAwADAAJAAQA///4//T/9P/2//v/AAADAAMAAAD9//n/9//4//z/AgAJABAAFQAZABoAGAAUAA0ABAD8//b/8//z//X/+f/9////AAAAAAAAAAAAAAMABQAIAAsADAALAAkABQABAP//+//4//T/8f/u/+z/7f/v//T/+f/+/wIABgAKAA0ADwAQAA0ACQAFAAAA/f/7//z//f///wAAAQAAAAAA///9//3///8CAAcADAAQABEADgAKAAYAAAD8//n/+P/4//r//v8CAAcACwANAAwACQAFAAIAAAD//wAAAAADAAYABwAKAAsACgAIAAUAAQD///7//f/+////AAAAAAAA///+//3//P/8//v/+//7//v//P/+/wAAAwAHAAkACQAIAAQAAAD8//n/+f/6//z//v////7//v/9//3//f/9//v/+P/2//b/9//5//7/AgAGAAgACQAHAAUAAgAAAP///////wAAAQABAAEAAAD///7//v///wAAAQADAAUACAAKAAoACQAGAP//9v/u/+j/5//p/+7/9P/6/wAABQAJAAwADgAOAA0ACgAGAAIAAAAAAAAAAAABAAIAAgAAAP///P/5//b/8v/x/+//7//x//T/+P/+/wIABQAHAAYAAwAAAP////8AAAMABwAKAAsACwAIAAMA///6//b/8//x//L/9v/7/wAABgAKAAoABwABAPn/8f/s/+v/8f/5/wIADAATABcAGAAVABIADwALAAYAAwABAAAAAAD+//z/+f/2//T/8v/z//X/+P/8//7/AAACAAQABgAHAAgABwAEAAEA/f/5//b/9P/z//L/8v/x//H/8v/z//b/+f/9/wAAAgAFAAgACwAOABAAEgASABAADAAHAAIA/f/4//T/8v/y//X/+v8AAAcADQARABIADwAKAAMA/v/6//n/+////wIABgAHAAYABAAAAP3/+v/5//n//P8BAAUACAAKAAgABQAAAP3/+v/6//v///8CAAYACQAKAAkABgABAPz/9f/w/+z/6//s/+//8//2//n/+v/6//z//f/8//3//P/5//b/8//z//X/+f/+/wIABgAIAAkABgADAAAA/P/6//r/+v/8//7/AAAAAAAAAAD+//3/+//6//r/+/8AAAYADQAUABgAGAAUAA4ABwACAP///v/+///////////////9//z/+//5//j/+f/6//3/AgAHAAwADwAPAA4ACwAHAAQAAgAAAP///v/+////AAACAAQABAACAAAA/f/5//j/+P/6//z//v8AAAEAAgACAAIAAAAAAP7//P/7//z//v8BAAQABwAJAAgABgACAP7/+v/3//f/+v/9/wAABAAIAAwAEAAUABgAGgAYABQADwAJAAQAAAD+//z/+v/5//n/+f/5//n/+f/4//b/9v/4//v//v8AAAAA/v/8//v/+f/5//r/+//8//7/AAADAAYACQALAAsACQAGAAMAAAD9//v/+v/5//n/+v/8//3//f/8//r/9//0//L/8f/z//f//P8BAAcACwAOAA8ADQAJAAMA/v/4//T/8v/z//T/+P/8////AgADAAMAAwAEAAYACgAOABIAFAATABEADAAGAAEA/f/6//f/9f/0//P/9P/2//f/+v/9////AQAEAAcACAAHAAQAAAD9//r/+f/6//z//v////3/+v/2//P/8f/x//T/+f///wMACAAKAAoABwADAAAA/P/6//r/+v/7//7/AAACAAMAAwACAAAA///8//r/+f/5//z///8BAAQABAADAAAA/P/5//j/+f/8/wAAAwAHAAoACwAMAAwACwAKAAoACgAIAAcABgAGAAgADAAQABUAFwAXABMADQAHAAEA///+//3//f/+//////8AAAEAAgACAAEAAAAAAP7//f/7//n/9//2//X/9v/2//b/9v/1//T/9P/0//f/+v/9/wAAAwAFAAYABwAFAAMAAQAAAAAAAAADAAQABAABAP7/+P/0//H/8v/0//b/9//4//f/9//5//v//v8CAAUABgAGAAUABQAGAAcACQAKAAgABQAAAPz/9//0//P/8v/z//b/+/8AAAgAEQAXABoAGQAVAA8ACQAEAAEAAAABAAEAAAD///3//P/7//z//P/9//7//f/7//n/9v/1//X/9v/3//b/8//w/+3/7P/u//H/9//7//7/AAAAAAAAAAAAAAAAAAD+//3//f/8//3//v8AAAIABAAHAAkACgALAAoACQAHAAUABAADAAIAAgABAAEAAAAAAP///f/8//v/+//8//7/AAAEAAgACgAMAA8AEAAQABEAEgARABAADgAMAAsACQAIAAUAAwAAAP///f/8//v/+v/6//n/+f/5//n/+v/7//v/+f/4//b/9P/y//L/8v/0//X/9v/3//j/+f/6//v//P/9//7/AAAAAAEAAgADAAMABAAFAAYABwAHAAYABAACAAEAAQACAAQABgAIAAgABgAEAAEAAAD//wAAAgAFAAgACQAKAAkACAAFAAIAAAD8//r/+v/8/wAABgAMABEAEQAPAAoABAAAAPz/+v/6//r/+v/6//v//P/8//7///8AAAAAAAAAAP//AAABAAMABQAHAAYAAgD9//X/7f/m/+H/3//g/+T/6v/x//f//P8AAAEAAQAAAAAAAAABAAQABwALAA4ADwAOAAsABwADAAAA///+////AAAAAAAAAAAAAAEAAgAEAAQAAwACAAAAAAACAAYACwARABQAFAASAA4ACQAEAAAA/P/5//f/9//4//j/+f/4//f/9f/z//T/9v/6//7/AAADAAUABQAFAAQABAAEAAQAAwABAP//+v/2//P/8v/z//f//P8AAAAA///8//j/9v/1//X/9//7//7/AQAEAAYACAAIAAYABQADAAIAAwADAAMABAAGAAYABwAIAAcABgAFAAQABQAIAA0AFAAaAB0AHgAdABsAGQAWABQAEQAOAAoACAAGAAUABAAEAAEA/v/5//T/8v/w//H/8//3//r//f8AAAIABQAGAAcABgACAP7/+f/z//D/8P/y//f/+//+//7/+v/2//H/7f/r/+r/6//t/+7/8P/x//L/8//1//f/+v/8/wAAAQACAAQABgAHAAkACwAMAAwACAADAP7/+f/3//f/+/8AAAYADAARABUAFgAXABcAFgAUABIAEAANAAsACQAIAAgACgAKAAsACQAFAAEA///8//z//f///wAAAQABAAEAAAD///7//v/+////AAAEAAYACAAIAAcABAAAAPz/+P/z/+//6v/n/+X/5P/k/+b/6v/v//P/9v/4//f/9f/z//P/9P/3//r//v8AAAAA///+//z//P/8//7/AAADAAcACwAOABAAEQAPAAsABwAEAAEAAAABAAQABwAKAA4AEQAUABUAFgAVABIADgAIAAIA/v/7//v//f8AAAQABwAHAAYAAwAAAP7//f/9//7/AAAAAAIAAwACAAEAAAD9//n/9v/z//L/8f/w/+7/7v/t/+z/7P/t//D/8f/y//L/8P/u/+3/7f/v//T/+f/9/wAAAgACAAEAAQABAAMACAANABEAFAAUABEADAAGAAEA///9//7/AAACAAUACAAKAAwADQANAA0ADgAOAA8AEAAPAA4ACwAIAAYABQAFAAYABwAGAAMAAAD9//r/+v/9/wEABgAKAAwACgAGAAIA/v/6//X/8f/u/+z/6//t//D/9P/4//v//f/9//3//P/7//r/+v/7//z//f///wAAAAAAAAAAAAD///7//P/8//3//v8AAAEAAQABAP//+v/1//D/7P/p/+v/7v/z//n///8EAAoADQAOAA0ACwAKAAwAEQAVABoAHAAbABcAEwAPAA0ADAAMAAsACQAGAAQAAwACAAIAAQAAAP7/+f/y/+v/5f/h/9//4f/m/+7/9v/9/wMABgAIAAgABwAFAAAA/f/5//b/9v/3//n//f///wAA/v/7//f/9P/0//X/9//6//z//v/////////+//3//P/6//n/+f/7//7/AQAGAAoADQANAAwACQAHAAgACQALAAwADQANAAwADQAOABAAEgASAA8ADAAJAAkACgANABAAEQAQAA4ACAAAAPj/8P/q/+b/5v/r//H/+P/+/wAAAgABAAAAAAAAAAAA///9//v/+P/3//j/+P/5//n/9//1//P/7//s/+v/6//t//H/9//9/wEABAAFAAQAAwABAAEAAQABAAEAAAD///7//f/9////AAACAAMAAgABAAEAAgAFAAgADQAQABAADgAKAAYAAwADAAUACAAMAA4ADgANAAsACgAKAAoACgAIAAYABAABAP///f/8//z//P/+/wAAAwAGAAkACwAKAAoACAAHAAgACAAIAAcABQADAAEA///9//n/9P/w/+v/6P/o/+r/7//1//r//v////3/+P/0//L/8v/1//n//v8AAAMAAwACAAIAAgACAAMAAwABAAAAAAAAAAEAAwAFAAcABgAEAAAA/f/6//j/+v/+/wEABgAKAAoABwADAP//+//6//v//v8AAAMABAAFAAYABgAHAAcABgAEAAEA///8//r/+P/4//n//P///wIABgAJAAkABgACAP///P/9/wAABAAIAAoACgAHAAMA/v/4//L/7P/n/+P/4//l/+v/8v/6/wEABgAJAAkABwAFAAIAAAD//////v///////v/9//r/9//0//L/8v/1//r///8EAAkADQAQABAADwANAAsACAAEAAAA/////wAAAgAFAAUAAgD///r/9v/1//X/9//6//7/AAACAAIAAgABAP///P/6//f/9v/3//r//v8DAAcADAAPABAAEQAQAA0ACgAFAAEA///+////AAADAAUABgAEAAEA/v/7//f/9f/0//P/8//y//P/9f/4//z///8AAAIAAwADAAQABQAHAAgACAAHAAUAAwAAAP3//P/8//z//v8AAAEAAwAEAAQAAwACAAEAAQABAAIAAgADAAMAAgACAAIAAgADAAMAAgABAAAA/v/8//v/+v/5//r/+v/7//r/+v/6//r/+v/6//v//P/9//7/AAACAAUABwAJAAoACgAJAAcABAABAAAA/v///wAAAgAEAAYABQAEAAIAAAAAAP/////+//7//f/9////AAABAAIAAwACAAAA/v/6//f/9f/0//X/+P/7////AAAAAP///P/6//v///8FAAwAEgAWABYAEgAOAAsACAAHAAYABQADAAEAAAD//wAAAAABAAAA/v/6//X/8v/w//L/9f/6//7/AAADAAQABAAFAAUABAADAAEA///8//r/+v/7//3///////3/+//5//j/+P/5//v//v8BAAYACgAOABEAEgARAA4ACwAHAAQAAgAAAP///f/7//r/+v/5//n/+f/6//n/+f/4//j/+f/7//7/AQAFAAkACwALAAsACAAGAAYABwAIAAkACAAHAAQAAQD///3/+//5//j/9v/1//b/+f/9/wEABgAKAA0ADgAMAAcAAAD7//b/9P/3//v/AAAEAAUAAwD+//f/8f/s/+v/7v/z//n//v8AAAEAAQAAAAAAAAAAAAIABQAHAAgACAAHAAcABgAFAAMAAQD///v/+f/4//n/+//+/wAAAwAEAAUABgAFAAQAAgABAAAA/v/+//7///8AAAIAAwADAAMAAQAAAP3/+//5//n/+//8//7/AAAAAAAAAAAAAAAAAAABAAIAAgAEAAQABgAJAAoACwAKAAgABAAAAPz/+P/1//T/9f/4//z/AAACAAIAAAD9//n/9v/0//b/+v/+/wAAAwAEAAUABQAFAAUAAwABAAAA///+/wAAAwAHAAoADAAKAAcAAgD+//r/9//3//j/+/8AAAUACgAOAA4ADAAHAAEA/f/4//b/9v/3//r//P/+/////v/9//z/+//6//r/+v/6//r/+v/6//v//P/+////AAAAAP////////////8AAAMABgAJAAsACwAJAAUAAQD+//z/+v/6//r/+f/5//f/9f/0//T/9f/3//v//v8BAAQABgAIAAgACAAHAAcABwAIAAkACQAHAAUAAwAAAAAAAAADAAcACgALAAkABQABAP///f/8//z//P///wAABAAIAA0AEAAPAAsABgAAAPz/+P/3//j/+f/6//r/+f/5//j/+P/4//b/9f/0//P/9P/4//7/AwAKABAAEgARAA0ABgAAAPz/+f/5//v//f8AAAAAAAAAAAAAAAAAAAAAAAABAAQABgAJAAsADQAOAAwACQAFAAAA/P/5//j/+P/7//7/AgAGAAcABwAGAAMAAAD8//v/+v/6//3/AAADAAcACQAKAAgABQABAP///P/6//v//P/+/wAAAwAGAAcABwAGAAMAAAD8//j/9f/0//X/+P/8////AAABAAAA/f/7//n/+P/5//n/+//9////AQABAAEA///8//n/9v/1//b/+P/9/wEABwALAA0ADgAMAAoACAAGAAYABgAHAAcABwAGAAYABQAEAAIA/v/3//H/7P/q/+v/8P/2//3/AQAEAAUABAACAAAAAAAAAAAAAQADAAUABwAHAAYABAABAP7/+//5//f/9//3//n//P8AAAMABwAJAAkABwAEAAAA/v/8//v//P///wAAAgADAAIAAQD///z/+v/3//X/9v/3//v///8CAAYACQAKAAoABwADAP///P/7//7/AgAIAA0AEAAQAA4ACQAEAAAA/P/6//j/+P/5//v//f///wAAAAAAAAAA/v/+/////////////v/9//z//P/+////AAD///7//f/8//z//v8AAAIABQAGAAYABAACAAAA/f/7//v//P/+/wAAAgAFAAgACgALAAoABwADAAAA+//5//n//P8AAAQACQALAAsACgAGAAMAAAD///////8AAAAAAAAAAAAAAAD///3/+v/3//X/9P/1//j//f8BAAYACAAIAAYAAwAAAP7//f/9//z//P/8//3//f/9//z/+//6//n/+P/5//n/+v/7//v/+//7//v//P/9////AAACAAMAAgABAAAA/v/+////AAACAAQABQAGAAYABQAEAAMAAQABAAEAAgAEAAcACQALAAsACgAGAAMAAAD+//7//v8AAAEAAwAFAAcACQAIAAYAAwAAAPv/+f/3//n/+//9////AAAAAAIABAAFAAYABwAGAAQAAgAAAP7/+//5//n/+//9/wAAAQACAAEAAAD9//r/+P/5//v//v8AAAMABQAGAAYABQAEAAIAAQAAAAAAAAABAAMABgAIAAgABgADAAAA/f/6//n/+f/5//v//v8AAAMABQAGAAcABgAEAAIAAQABAAIABQAIAAsACwAJAAUAAAD7//b/8//y//P/9P/3//r//P/+/////v/8//r/9//2//X/9//6//7/AAACAAIAAAD9//r/+P/2//f/+P/7//3/AAABAAMAAwADAAMAAQD///z/+f/3//f/+P/7/wAABgAKAA4ADgANAAoABQACAAAAAQAEAAgADQASABMAEgAOAAkAAwD+//r/+f/7//7/AgAGAAgACgAKAAoACQAIAAUAAQD///3//f///wEABAAFAAUAAgD+//r/9//1//b/9//6//z///8AAAAAAAAAAAAA////////AAAAAAAAAQABAAEAAAAAAP///v/9//z/+//7//r/+f/5//v//f8AAAQABwAJAAgABQABAP7/+f/2//X/9v/5////AwAJAAwADQAMAAoABgACAAAA/v/+////AAAAAAEAAQAAAAAAAQACAAMABAAEAAQAAwACAAEAAAAAAAAAAAD///3//f/9//3///8AAAIABAAEAAQAAgAAAP7/+//5//j/9//4//j/+P/5//j/+P/3//f/9//3//b/9v/1//b/+P/5//z//f///wAAAQACAAMAAgABAAAA/f/9//7/AAADAAYACAAHAAQAAAD9//n/9v/2//j//P8BAAYACwAOAA4ADQAKAAcABAADAAMAAwADAAIAAQAAAAAAAAAAAAAAAAAAAAAAAAAAAAIABQAHAAgACAAGAAQAAgAAAAAAAAAAAP///v/9//3//v///wAAAAAAAP7//P/6//n/+f/5//r/+v/7//z//v///wAAAAD///3/+//6//r//P///wEAAwADAAIAAAD8//n/9//3//n//P8AAAQABwAKAAsACgAIAAYABAAFAAcACgANAA4ADQAKAAUAAAD7//j/+P/6//7/AgAFAAYABgAGAAYACAAKAAsADAALAAkABgACAAAA/v/9//z/+v/6//r/+v/8//3//v///////f/8//r/+f/6//r/+//7//v/+//9//7/AAABAAEAAAAAAP7//f/9//7////+//v/9//y//D/7//y//f//f8BAAUACQAKAAsACgAIAAUAAAD7//j/9//6//3/AAADAAMAAAD///3//P/+/wAABAAHAAkACgAKAAgABwAGAAUABQAEAAUABQAFAAYABwAIAAkACAAHAAQAAQD+//r/+P/3//j/+v/9/wAAAAABAAAA///+//3//f/+//////////7//P/8//z//P/8//z/+//6//r/+v/8//3//v/+//3//f/8//v/+//8//3///8AAAEAAgADAAMAAgABAAEAAQABAAEAAAAAAAAAAAACAAcACwAOAA8ADQAIAAMA///7//n/+v/9/wAABQAJAAwADAALAAcAAwD///z/+v/7//7/AAAEAAYABwAGAAIA/v/5//X/8//0//f//P8AAAMABQAFAAMAAAD8//r/+P/5//v//f8AAAAAAAAAAAAAAAAAAAEAAwACAAAA/f/5//f/9//5//7/AQAFAAcABwAHAAUAAwACAAAAAAD/////AAAAAAEAAQAAAP3/+P/1//T/9f/5////BAAIAAoACgAIAAQAAQD///7//v/+//3//f/8//v//P/8//7///8AAAAAAAAAAAEAAAAAAAEAAAAAAAAAAAAAAAAAAAD///z/+f/3//f/+v/+/wMABwAKAAoABwACAP//+v/2//T/8//z//T/9v/5//z//v8AAAAAAAAAAAAA///+//7//v8AAAIABAAFAAQAAgAAAP///f/+/wAAAgAFAAgACAAHAAUAAgAAAP///v/+/wAAAQAEAAcACgAKAAgABQACAAAAAAAAAAIABAAFAAYABgAFAAMAAQAAAAAAAAAAAAAAAQACAAEAAAAAAP////8AAAMABgAJAAkACAAGAAQAAQAAAP7/+//4//b/9f/2//j/+v/8//3//P/8//z//f8AAAIABAAFAAYABgAHAAcABgAEAAEA/v/8//v//f8AAAEAAwADAAIAAAD+//3//v8AAAEAAgACAAAA///9//z//P/8//3//f/8//3///8AAAIABAAEAAQAAQD///3/+//7//3//v///wAAAQACAAIAAwAEAAMAAgAAAP3/+f/1//X/9//7/wAABQAJAAkABwACAP7/+v/4//j/+//+/wEABAAGAAcABwAGAAUAAwACAAEAAQACAAQABQAGAAYABAABAP7/+f/z/+7/6v/o/+r/7//3////BQAJAAoACQAGAAMAAAD+//3/+//7//v//f///wEABAAEAAIAAAD///7//v///wAAAgADAAQABAAEAAQAAwADAAMAAgACAAIAAgADAAcACgANAA4ADAAJAAQA///7//j/+f/7////AgAFAAgACQAJAAgABwAFAAMAAQAAAP///////wAAAgADAAMAAwABAAAAAAD9//r/9//3//f/+v/9/wAAAQAAAP///P/6//v//f8AAAIABAAEAAMAAQAAAAAA/v/9//r/9//0//P/9P/2//r//f8AAAEAAwADAAQAAwACAAAAAAAAAAAAAwAHAAoACwALAAkABgADAAEAAAAAAP///v/+//3//f/+////AAAAAAAAAAD/////AAABAAMABgAJAAoACgAKAAcABAACAAEAAQAAAAAAAAD////////+//7//f/8//n/9f/z//H/8v/1//r/AAAEAAgACAAHAAUAAQD///z/+v/5//n/+f/6//v//P/8//v/+v/5//j/+P/4//n/+v/7//z//f///wAAAwAGAAgACQAJAAgACAAHAAcACAAIAAgACAAGAAQAAwABAAAA/////////////wAAAAAAAAEAAgADAAUABQAFAAQAAwACAAIAAgADAAIAAQAAAP7//P/6//f/9P/z//L/8v/0//j//P8AAAIAAgACAAAA///9//z//P/9////AAABAAEAAAD9//r/+P/3//j/+//+/wAAAQADAAUABgAGAAUABAACAAAA///+//7///8AAAIABAAGAAcABwAFAAMAAAD+//3//f8AAAQACAAMAA4ADQALAAcABAABAAAAAAD///7//P/8//7///8AAAAA///8//n/9v/0//T/9v/5//z///8AAAEAAgAEAAUABwAHAAYABAADAAEAAAAAAP///v/+//3//P/7//r/+f/3//f/9//5//z//v8AAAEAAQABAAEAAQACAAQABQAGAAgACAAJAAkACAAIAAYABQACAAAA/v/7//n/+f/7//7/AQAFAAcACAAGAAMAAAD///3//f///wEAAwAGAAkACgAJAAcABAAAAP3/+v/4//f/9//3//j/+v/6//v//P/9////AAABAAIAAgABAAEAAQAAAAAA/v/6//b/8//y//P/9v/7/wAAAwAFAAYABQAFAAMAAgAAAPz/9//z//L/8//3//3/AgAGAAkACAAHAAUAAwADAAMAAgACAAIAAQAAAAAAAAAAAAAAAAAAAP///v/+/wAAAQADAAQABQAFAAMAAQD///3/+//6//j/+f/8/wAAAwAHAAgABwAFAAQAAwAEAAQAAwABAP7/+f/1//T/9f/4//v//P/8//z/+//7//z///8AAAMABgAGAAYABgAEAAIAAQAAAP////8AAAQACAALAAwADAAKAAYAAgAAAP3/+//5//j/+P/5//z///8CAAUABQAEAAIAAAD+//7///8AAAIABAAFAAQAAgAAAAAA/v/8//v//P/9/wAAAwAFAAcABgAFAAIAAAD+//z/+//7//v//f8AAAAAAgADAAMAAgAAAP///v/9//3//v8AAAAAAgADAAMAAwACAAAA///+//3//f/9//7///8AAAEAAgACAAMAAgAAAAAA/////wAAAAADAAUABwAJAAkACAAGAAMAAAD9//z/+//7//v//P/8//z//f/9//3//f/8//3//f/+/wAAAQADAAQABAADAAIAAgAAAAAAAAD+//3//f/9//z//P/8//z//f/9//7//v/+//7//v/+//3//f/+////AAAAAAAAAAAAAP//AAABAAMABgAIAAgABwAEAAEA///8//v/+//7//z//f/9//3//f/+/wAAAQADAAUABgAEAAIAAAAAAAAAAgAHAAoADQANAAsABwACAP///P/5//j/+P/5//v//v8AAAEAAAD///r/9f/x/+//8P/0//r/AAAFAAoADQANAAoABQAAAPz/+P/2//X/9//5//3///8AAAEAAQAAAP///P/5//j/+f/7////AgAGAAkACQAHAAQAAAD8//n/+f/8/wAABQAKAAsACgAIAAQAAgAAAAEAAAAAAAAAAAABAAQACAAMAA0ADQAJAAMA/v/6//f/9v/3//j/+v/8/wAAAgAFAAgABwAEAAAA/f/8//z///8AAAEAAAD+//v/+v/5//n/+//7//v/+v/6//r//P/+/wAAAAAAAAAA///+//7///8BAAQABwAJAAoACwAKAAkABwAFAAEA///9//v/+v/7//z///8BAAQABgAFAAIA///6//b/9P/0//b/+f/9/wAAAwAGAAgACQAJAAYAAgD///z/+//6//r//P/9//7////+//7//f/8//v/+//8//7/AAABAAEAAQD///v/+P/2//b/+P/6//z//P/8//v/+//8//7/AAACAAMAAwACAAEAAAD///7//f/+////AAAAAAAAAAD///3//f/9////AQAGAAsADgAQABAADwAMAAgABQACAAAA///+//7///8AAAAAAQABAAEAAQABAAEAAQAAAAAAAQACAAMABQAGAAYABAABAP//+//6//r//P8AAAIABAAFAAUAAwABAP///P/5//j/9//4//r//f8AAAIABAAEAAMAAQD///3//f/9//7//v/+//7//f/9//3//v8AAAEAAgADAAMAAwADAAQABQAHAAgACQAJAAkABwAFAAIAAAD///7///8BAAUABwAJAAkABwAEAAEA///+//7///8AAAEAAwAFAAYABQAEAAIAAAD9//r/+P/3//j/+f/8//7///////7//f/6//j/9v/1//T/9v/6////BQALAA4ADgAMAAYAAQD9//n/9//4//r/+//8//v/+P/1//L/8P/v//D/8//2//n//P/+//////////////8AAAEAAgACAAIAAQAAAAEAAwAGAAcACAAGAAIA/v/5//b/9f/3//z/AQAGAAsADgAOAA0ACgAHAAQAAwACAAQABgAHAAgACAAGAAMAAAD8//j/9f/z//P/9f/5//7/AgAGAAcABwAEAAAA/f/6//f/9//3//n/+//9////AAACAAMABAADAAEAAAAAAAAAAAAAAP///f/7//n/9//3//j/+f/8//7/AAAAAAEAAQACAAIABAAFAAYACAAIAAgABwAGAAQAAwADAAQABQAFAAYABQAEAAMAAQABAAAAAAABAAAAAAD///7//v/+////AAABAAIAAgADAAIAAgACAAIAAgACAAIAAQAAAP7//P/6//n/+f/6//v//f///wAAAQACAAQABAADAAIAAAAAAP7//f/7//r/+v/5//n/+//8////AQADAAQABQAGAAYABQAFAAQAAgAAAP///f/8//r/+f/4//f/9//4//r//P///wAAAgADAAIAAQAAAAAAAAABAAMABQAGAAYABQAEAAIAAQABAAIABAAFAAcABwAGAAQAAAD9//r/9//2//b/+P/5//z///8CAAUABwAIAAgABwAGAAQAAgAAAP///f/7//n/+P/3//j/+f/6//n/+P/2//X/9v/3//r//f8AAAMABQAFAAMAAAD+//3//f///wEABgAJAAsACwALAAoACAAFAAMAAAD9//n/9v/z//H/8v/0//f/+/8AAAQACQAMAA4ADgAMAAkABgAEAAMAAwAEAAQAAwACAAEAAAD+//3//P/8//7/AQAEAAcACQAIAAUAAQD+//r/+P/5//z///8CAAQABQAFAAQAAgAAAP/////+//7//v/9//z/+//6//r/+//8//z//f/9//3//f/+/wAAAgADAAUABQAEAAMAAAD+//z/+v/5//n/+//+/wEABQAIAAoACQAHAAMA///5//X/8//z//T/9//6//7/AAABAAEAAAAAAP7//f///wEABgAKAA0ADQAMAAgAAwAAAPz/+v/5//n/+////wIABwAMAA4ADwAOAAsABwADAAAA///9//3//f/+//7///8AAAAA//////7//v/+//7/AAAAAAAA///9//v/+P/1//L/7//v/+7/8P/0//n///8CAAUABgAFAAMAAQAAAP7//v/+//////8AAAAAAQABAAEAAQABAAEAAQAAAAAAAAAAAP///////wAAAAABAAAAAAAAAAAAAAABAAQABgAHAAkACgAKAAkABgAEAAEAAAAAAAAAAAABAAIAAgACAAIAAQABAAEAAQABAAIAAgAEAAYACAAJAAkABwAEAAAA/f/7//r/+//8//3//f/9//7//v///wAAAAD///7/+//4//b/9v/4//v//v8AAAEAAQABAAAAAAAAAAEAAgACAAIAAgADAAQABAAEAAMAAwACAAEAAQABAAEAAgACAAIAAwAEAAUABQAFAAQAAwABAP///v/9//z//f/+/wAAAQACAAMAAwACAAEAAAAAAAAAAAABAAIABAAFAAQAAwAAAP7/+v/3//b/9//5//v//v8AAAAAAAAAAAAAAAD///3//P/5//j/9//2//j/+v/9/wAAAwAEAAUABAACAAAA/v/8//r/+P/4//j/+f/8////AgAFAAYABgAFAAYABwAJAAsADAANAAwACgAHAAIA///7//j/9//2//j//P8AAAMABgAGAAMAAAD7//j/9//3//n//P///wAAAAAAAAAAAAACAAQABwAKAAsADAAKAAgABwAEAAIAAAD+//v/+P/2//f/+P/8////AQAEAAYACAAJAAkABwADAAAA/f/7//n/+P/6//z//v8AAAAAAQABAAEAAQABAAEAAgAEAAUABQADAAEA///7//j/9//3//j/+v/8////AQADAAUABwAJAAoACgAJAAcABAABAP3/+v/4//f/+P/5//z//v///wAAAAAAAAEAAwAEAAQAAgD///n/8//v/+3/7v/z//j///8DAAYACAAJAAgABwAGAAUAAwABAAAA/v/7//n/9//2//b/9//4//r//f8AAAIABQAHAAkACQAIAAYAAwABAAAA///+//3//P/5//j/9//2//j/+v/9/wAAAgAEAAYABgAFAAIAAAD///7//f/+//////8AAAAAAAABAAIAAgADAAMAAwADAAIAAQABAAAA/v/7//f/8//x//D/8v/3//z/AQAFAAcABwAGAAMAAQAAAAAA///+//3/+//6//n/+f/5//n/+v/7//3/AAACAAUABwAHAAYABAACAAEAAAAAAAAAAAABAAIABAAHAAkACgALAAsACgAJAAgABwAHAAUAAwAAAP///P/5//n/+f/6//z//f8AAAIABgAKAA4AEAAQAA4ACgAGAAIAAAD+//z/+//7//v//P///wAAAwAGAAcACAAJAAkACAAHAAUAAgAAAPz/+P/1//L/8P/x//P/9//9/wIABwAMAA4ADgANAAsACAAEAAAA/P/5//f/9v/3//j/+f/7//z//v8AAAMABwAKAAwADQANAA0ACwAIAAYAAgAAAP3/+v/5//j/+f/8//7/AQADAAUABgAFAAQAAQD///v/+f/3//X/9f/2//b/9//4//n/+//9/wAAAgAEAAUABgAGAAUAAwACAAAA/v/7//n/+P/3//f/+P/6//3/AAACAAMABAAEAAIAAAD///z/+f/2//T/8//z//T/9v/4//v//f/+/wAAAAACAAQABgAHAAcABgAEAAEA/v/8//r/+v/5//n/+v/6//z///8CAAUACAAKAAsACgAIAAUAAwAAAAAAAAAAAAEAAgADAAMAAgABAAAAAAAAAAIAAwAFAAQAAgAAAP3/+//6//n/+f/5//r//f8AAAMABwAKAAsACgAIAAYAAwABAAAA///+//z/+f/4//j/+f/8//7/AAABAAEAAgACAAIAAwADAAMAAgABAAAA/v/8//r/+v/6//z//v8BAAUACgANAA8ADwAPAA0ACgAHAAUAAwABAAAA///+//3//P/7//z//f///wAAAwAFAAcACAAIAAgABwAEAAEA///7//b/8//y//P/9v/6//7/AgAFAAcACQAJAAgABgACAAAA/f/7//v/+//6//r/+f/5//r/+//+/wEABAAGAAcACAAHAAcABgAFAAMAAAD9//n/9v/0//P/9f/4//z/AAACAAUABwAJAAkACAAHAAUAAwABAAAA///+//7//v/+/wAAAQACAAMAAwAEAAQABQAFAAYABgAFAAMAAAD9//n/9v/0//T/9f/3//n/+v/7//z//v8AAAEAAgADAAMAAgACAAEAAAAAAAAAAAD//////v/+//7//////wAAAAAAAAAAAAAAAAAAAAAAAAAAAAAAAAAA//8AAAAAAAABAAAAAAD///7//P/7//v/+//8//3//v///wAAAgAEAAQABQAFAAYABQADAAAA/f/4//X/9P/0//b/+f/8//3//v8AAAEABQAJAAwADQAMAAoABwAEAAAA/v/8//r/+P/3//f/9//5//v//v8AAAEAAgADAAQABAADAAIAAAD+//z/+v/6//r/+//9////AQACAAMABAAFAAYACAAJAAoACwAJAAUAAAD8//f/8v/v/+z/6f/o/+r/7f/z//j//f8BAAQABQAGAAYABgAGAAUAAwAAAP3/+v/4//j/9//3//f/9//4//v/AAAFAAsADwARABAADQAIAAIA/v/6//b/8//x//L/9f/4//z///8AAAMABQAGAAcACAAJAAkACQAHAAYAAwAAAP7/+//5//j/+P/5//v//v8AAAIAAwAEAAUABgAGAAcABwAGAAQAAgAAAP///////wAAAgADAAQABQAGAAcACAAIAAgABgADAAEAAAD///7//v/+//3//P/7//v/+//8//3///8AAAEAAgADAAQABAAEAAMAAwADAAMABQAFAAYABwAGAAYABgAFAAIAAAD9//n/+P/3//n/+//+////AAAAAAEAAgADAAQABgAFAAQAAwABAAAAAAAAAP/////+//z//P/8//3//v///wAAAQABAAEAAQAAAAAA///+//3//P/8//3//f/9//7///8BAAMABQAGAAYABAACAAAA///+//7//f/9//z/+//7//r/+v/5//n/+v/8////AwAIAAwADgANAAsABwADAAAA/f/8//z//f/+/wAAAAAAAAAAAAAAAAAAAAAAAAIAAwADAAMAAQD///7//P/8//z//P/8//v/+//8//7/AAACAAQABQAFAAMAAQAAAP///v/9//z//P/9////AAABAAIAAgAAAAAA/v/8//z//f/+////AAAAAAAAAAAAAAAAAAAAAP///v/8//v//P/+/wAAAQACAAMAAQAAAP///v/9//7///8AAAAAAgADAAMABAAFAAUABAAEAAQABAAFAAYABgAGAAYABgAFAAUABAADAAIAAQAAAP7/+v/3//X/9P/0//T/9v/4//r//P/+/wAAAQACAAIAAgACAAIAAQABAAAA///9//z/+//7//3/AAACAAUABwAHAAgACAAIAAgACAAHAAUAAwABAAAAAAAAAAEAAwADAAMAAgABAAEABAAIAAwADgAPAA4ACgAFAAAA/P/6//j/9//2//b/9v/1//b/9//6//3/AAADAAUABgAGAAUAAwABAAAAAAD///7//P/7//n/+f/4//j/+P/4//n/+v/8////AgAEAAYABgAFAAMAAQAAAP///v/+//////8AAAAAAAAAAAAAAAABAAMABAAFAAYABQADAAEA///8//r/+P/4//f/9//3//j/+v/8//3//v///wAAAAACAAMABAAEAAUABgAFAAQAAwACAAEAAAAAAP///f/7//r/+v/6//z//v///wAAAQABAAEAAQAAAAAAAAAAAAAAAAAAAAAAAQABAAEAAAAAAP///v/9//z//f///wEABAAGAAcABgADAAAA/v/7//r/+v/8////AQAEAAUABgAHAAcABwAHAAYABgAFAAQABAADAAEAAAAAAAAA///+//7//P/6//n/+P/5//r//f///wAAAQABAAAA///9//z/+//7//v//f/+/wAAAAAAAAAAAAAAAAAAAAAAAP///v/+//////8AAAAAAAAAAAAAAAAAAAAA////////AAAAAAIAAwACAAEA///9//v/+v/6//r/+//9//7//////////v/9//z//f/+/wAAAwAFAAYABQAEAAIAAAD//////v/+//7///8AAAEABAAGAAcACAAGAAQAAQD+//v/+f/3//b/9v/2//b/9//4//r//f///wEABAAFAAQAAwACAAEAAAAAAP/////+//3//P/7//r/+v/7//3/AAACAAQABgAHAAcABgAGAAYABQAEAAIAAAD8//v/+v/6//z//v8AAAEAAwADAAIAAQAAAP//AAABAAMABAAFAAUAAwABAAAA///+////AAAAAAIAAwADAAQABAAEAAMAAgABAAAAAAAAAAEAAgADAAMAAwADAAMAAwAEAAQABAAEAAIAAAD+//v/+f/2//X/9f/2//f/+f/7//z//f/+////AAABAAMABQAGAAYABgAFAAMAAQAAAAAA//8AAAAAAAACAAIAAwADAAIAAQAAAAAA//8AAAAAAAD///7//P/7//z//f///wAAAgAEAAQABAADAAIAAAAAAP///v/+//7//v/9//z/+//5//j/+f/7//3///8BAAMABAAEAAQABAAEAAMAAwADAAIAAQAAAP///f/8//3///8BAAMABAAEAAIAAAD9//v/+//7//z//v///////v/9//v/+v/6//v//f8AAAIABAAFAAUABQAFAAUABAAEAAIAAAD9//r/+P/4//j/+//+/wAAAgAEAAQAAwABAP7/+v/3//X/9f/2//f/+P/5//n/+v/5//r/+//+/wEABQAKAA0ADwAOAAwACQAFAAIAAAD+//z/+//7//v//P/+/wAAAgAFAAcACAAIAAgABwAFAAMAAgABAAEAAAAAAP///f/6//j/9//4//v//v8AAAIAAwABAP///f/7//r/+v/8//7/AAAAAAAAAAAAAAAAAQACAAQABQAGAAgACAAHAAYABQAEAAIAAAAAAAAAAAAAAP///v/9//7///8AAAIABAAEAAIAAAD9//r/+v/7//3/AAACAAUABgAFAAMAAAD///7//v///wAAAAACAAUACQAMAA4ADgAOAAsABwADAP///P/6//n/+P/4//n/+v/6//r/+f/4//b/9P/0//b/+f/8////AQACAAIAAQAAAP///v/9//3//v/+//7//v/+//7//v8AAAIABAAFAAQAAwABAP///v/9//7///8AAAAAAAAAAAAA/v/9//z/+//8//7///8AAAEAAQAAAAAA/v/8//r/+f/4//j/+f/7//z//v////////8AAAAAAgAEAAYABgAGAAUABQAEAAMAAgABAAAA/f/6//f/9f/0//X/9//6//z//v///////////wAAAAABAAIAAwAEAAQABAACAAEAAAD+//3//v/+////AAAAAAEAAQACAAMAAwADAAMAAgAAAAAA///+////AAABAAMABQAGAAYABAACAAAA/v/+//7///8AAAMABQAIAAgABwAFAAIA///8//v//P///wEABAAHAAkACQAJAAkACQAHAAYAAwABAAAA//8AAAAAAwAFAAYABQAEAAIAAAAAAAAAAQADAAQABQAGAAUAAwAAAP7//P/6//n/+v/7//z//f///wAAAQACAAIAAgACAAEAAAAAAAAAAAD///////////7//v/+////AAAAAAEAAAAAAAAAAAAAAAIAAwAEAAMAAgAAAP///////wAAAAAAAAEAAAAAAP///v/+////AAACAAMABAADAAAA/v/7//r/+//9////AAAAAAAAAAAAAAAAAAABAAIAAgACAAIAAQAAAP3/+//5//j/+P/5//r/+//7//r/+v/5//n/+//9////AAABAAEAAgACAAIAAgABAAAA/v/7//j/9f/0//P/9P/2//n//P/+////AAAAAAAAAAAAAAEAAgACAAMAAwACAAEAAAAAAP////8AAAAAAAAAAAEAAgACAAMAAgACAAIAAQABAAEAAwAEAAYABwAHAAYABQAEAAQABAAFAAQAAgAAAP///f/8//3//v///wAAAAAAAAAA/v/+//3//f/9//7//v////////8AAAAAAQADAAQABQAEAAMAAQAAAAAAAAAAAAAAAAAAAAAAAAABAAIABAAFAAYABgAHAAcABgAFAAMAAQAAAP///v/9//z/+//6//n/+f/5//r//P///wEAAwAFAAcABwAGAAUAAwABAAAAAAAAAAEAAwAEAAUABQADAAIAAQABAAEAAgADAAMAAgABAAAA/v/9//3//v/+//////////7//v/9//3//f/9//3//P/8//v/+v/5//n/+v/6//v/+//6//j/9//4//v//v8BAAQABgAGAAQAAwABAAAAAAAAAP/////+//7//v/+//3//P/8//3//v8AAAEAAgADAAMAAgABAAEAAAAAAAAAAAABAAAAAAABAAIAAwAEAAQABAAEAAUABQAGAAYABQAEAAIAAQAAAP7//P/6//n/+f/6//z//v8AAAAAAAABAAEAAQABAAAAAAD///7//f/9//7///////7//f/7//r/+f/6//v//f///wAAAAAAAAAA/////////////wAAAAD///////8AAAAAAgADAAMABAAEAAMAAwACAAIAAwAEAAUABgAGAAYABAACAAAA/v/9//7//v8AAAAAAAD///7//v///wAAAgAEAAQABAADAAEAAAAAAAAAAAABAAIAAwAEAAQAAwABAAAAAAAAAAEAAwAFAAUAAwAAAP7/+//5//j/+P/3//f/9//3//f/9//5//v//f///wAAAAD///3//f/8//z//f/9//7//v///////v/+//3//f/8//z//f/+////AAABAAIAAwADAAMAAgACAAEAAQABAAEAAQACAAMAAwACAAIAAAAAAP7//v///wAAAQABAAEAAAD///7//f/8//3//v///wAAAQACAAIAAgACAAIAAgADAAIAAQD///3/+//7//z///8AAAIAAwADAAIAAQAAAAAAAAAAAAAAAAAAAAEAAgACAAEAAAD/////AAAAAP////////7//v8AAAAAAAAAAAAAAAD///7//v///wAAAQADAAUABgAGAAQAAgAAAAAA/v/+//3//f/+//7///8AAAAAAQACAAIAAQAAAAAA///+//7///8AAAAAAQACAAEAAQAAAAAAAAAAAAAAAgACAAIAAQAAAAAAAAAAAAAAAgADAAQABAAEAAMAAgACAAMABQAGAAcABgAEAAIA///9//v/+v/5//r/+//8//7/AAABAAEAAgACAAEAAAD///7//v/9//3//P/8//v/+v/4//j/+P/5//z//v8AAAIAAwADAAMAAgACAAEAAQAAAAAAAAAAAAAAAAAAAAAAAQACAAMAAwAEAAQAAwACAAAAAAD///////8AAAAAAAAAAAAAAAAAAAEAAQABAAEAAAAAAP///v/9//z//f/+////AAAAAP////////////8AAAAAAAAAAAAAAAAAAAAA//8AAAAAAAABAAIAAwADAAMAAQAAAAAAAAAAAAEAAQABAAEAAQAAAAAA///+////AAAAAAAAAQAAAAAAAAD//////v///////v/+//7//f/+/wAAAQAEAAYABwAJAAoACwAMAAsACQAGAAMAAAD/////AAAAAAEAAQACAAMAAwAEAAUABQAEAAMAAgABAAEAAQABAAEAAQAAAAAAAAAAAAAA//////7//v8AAAEAAwAFAAUABAACAAAA///9//3//f/+//7//////////v/+//7//f/9//3//f/9//z//P/7//v/+//7//z//v///wAAAQABAAEAAQACAAIAAwADAAIAAQAAAP7//f/9//7//////////////////////wAAAAABAAEAAQAAAAAA/v/8//z//P/9////AAAAAAAA///9//z//f/9//7//v/+///////+//3//P/7//v/+//7//v/+//7//z//f/+////AAD///3//P/6//r/+v/7//z//P/9//7///8AAAAAAAAAAAAAAAAAAAIABQAIAAoACgAIAAcABQACAAAA///+//z//P/8//3///8AAAIAAwAEAAYACAAJAAoACQAIAAUAAwACAAIAAwAEAAUABQADAAIAAgABAAEAAQABAAEAAgACAAEAAQAAAAAA///+//3/+//7//v//P/9//7///////7//P/7//v/+//8//3//v///wAAAAAAAAAAAAAAAAAAAAD///7//f/9//7/AAAAAAIAAwAEAAQABAACAAEAAAAAAAEAAwAGAAgACAAGAAQAAQAAAP////8AAAAAAAAAAAAAAAABAAMABAA=\" type=\"audio/wav\" />\n",
              "                    Your browser does not support the audio element.\n",
              "                </audio>\n",
              "              "
            ],
            "text/plain": [
              "<IPython.lib.display.Audio object>"
            ]
          },
          "metadata": {
            "tags": []
          },
          "execution_count": 24
        }
      ]
    },
    {
      "cell_type": "markdown",
      "metadata": {
        "id": "-k4uxcKM9htI"
      },
      "source": [
        "Conclusion\n",
        "----------\n",
        "\n",
        "In this tutorial, we used torchaudio to load a dataset and resample the\n",
        "signal. We have then defined a neural network that we trained to\n",
        "recognize a given command. There are also other data preprocessing\n",
        "methods, such as finding the mel frequency cepstral coefficients (MFCC),\n",
        "that can reduce the size of the dataset. This transform is also\n",
        "available in torchaudio as ``torchaudio.transforms.MFCC``.\n",
        "\n",
        "\n"
      ]
    }
  ]
}